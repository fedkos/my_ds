{
 "cells": [
  {
   "cell_type": "markdown",
   "metadata": {},
   "source": [
    "## Этап 1: Просмотр данных и предобработка "
   ]
  },
  {
   "cell_type": "code",
   "execution_count": 1,
   "metadata": {},
   "outputs": [],
   "source": [
    "import pandas as pd\n",
    "from sklearn.model_selection import train_test_split\n",
    "from joblib import dump"
   ]
  },
  {
   "cell_type": "code",
   "execution_count": 2,
   "metadata": {
    "scrolled": true
   },
   "outputs": [
    {
     "data": {
      "text/html": [
       "<div>\n",
       "<style scoped>\n",
       "    .dataframe tbody tr th:only-of-type {\n",
       "        vertical-align: middle;\n",
       "    }\n",
       "\n",
       "    .dataframe tbody tr th {\n",
       "        vertical-align: top;\n",
       "    }\n",
       "\n",
       "    .dataframe thead th {\n",
       "        text-align: right;\n",
       "    }\n",
       "</style>\n",
       "<table border=\"1\" class=\"dataframe\">\n",
       "  <thead>\n",
       "    <tr style=\"text-align: right;\">\n",
       "      <th></th>\n",
       "      <th>calls</th>\n",
       "      <th>minutes</th>\n",
       "      <th>messages</th>\n",
       "      <th>mb_used</th>\n",
       "      <th>is_ultra</th>\n",
       "    </tr>\n",
       "  </thead>\n",
       "  <tbody>\n",
       "    <tr>\n",
       "      <td>0</td>\n",
       "      <td>40.0</td>\n",
       "      <td>311.90</td>\n",
       "      <td>83.0</td>\n",
       "      <td>19915.42</td>\n",
       "      <td>0</td>\n",
       "    </tr>\n",
       "    <tr>\n",
       "      <td>1</td>\n",
       "      <td>85.0</td>\n",
       "      <td>516.75</td>\n",
       "      <td>56.0</td>\n",
       "      <td>22696.96</td>\n",
       "      <td>0</td>\n",
       "    </tr>\n",
       "    <tr>\n",
       "      <td>2</td>\n",
       "      <td>77.0</td>\n",
       "      <td>467.66</td>\n",
       "      <td>86.0</td>\n",
       "      <td>21060.45</td>\n",
       "      <td>0</td>\n",
       "    </tr>\n",
       "    <tr>\n",
       "      <td>3</td>\n",
       "      <td>106.0</td>\n",
       "      <td>745.53</td>\n",
       "      <td>81.0</td>\n",
       "      <td>8437.39</td>\n",
       "      <td>1</td>\n",
       "    </tr>\n",
       "    <tr>\n",
       "      <td>4</td>\n",
       "      <td>66.0</td>\n",
       "      <td>418.74</td>\n",
       "      <td>1.0</td>\n",
       "      <td>14502.75</td>\n",
       "      <td>0</td>\n",
       "    </tr>\n",
       "  </tbody>\n",
       "</table>\n",
       "</div>"
      ],
      "text/plain": [
       "   calls  minutes  messages   mb_used  is_ultra\n",
       "0   40.0   311.90      83.0  19915.42         0\n",
       "1   85.0   516.75      56.0  22696.96         0\n",
       "2   77.0   467.66      86.0  21060.45         0\n",
       "3  106.0   745.53      81.0   8437.39         1\n",
       "4   66.0   418.74       1.0  14502.75         0"
      ]
     },
     "execution_count": 2,
     "metadata": {},
     "output_type": "execute_result"
    }
   ],
   "source": [
    "df = pd.read_csv('/datasets/users_behavior.csv')\n",
    "df.head()"
   ]
  },
  {
   "cell_type": "code",
   "execution_count": 3,
   "metadata": {},
   "outputs": [],
   "source": [
    "df_train, df_valid = train_test_split(df, test_size=0.25, random_state=12345)\n",
    "df_control, df_valid = train_test_split(df_valid, test_size=0.5, random_state=12345)"
   ]
  },
  {
   "cell_type": "code",
   "execution_count": 4,
   "metadata": {},
   "outputs": [],
   "source": [
    "df_features = df.drop('is_ultra', axis = 1)\n",
    "df_target = df['is_ultra']\n",
    "\n",
    "df_train_features = df_train.drop('is_ultra', axis = 1)\n",
    "df_train_target = df_train['is_ultra']\n",
    "\n",
    "df_valid_features = df_valid.drop('is_ultra', axis = 1)\n",
    "df_valid_target = df_valid['is_ultra']\n",
    "\n",
    "df_control_features = df_control.drop('is_ultra', axis = 1)\n",
    "df_control_target = df_control['is_ultra']"
   ]
  },
  {
   "cell_type": "markdown",
   "metadata": {},
   "source": [
    "### Выводы по загруженным данным и подготовке выборок. \n",
    "Исходный фрейм был разделён через функцию train_test_split: обучающей выборке отведено 75% (чем больше, тем лучше!).    \n",
    "Оставшую часть разделил по 50%, посколь задание требовало сформировать помимо валидационной выборки ещё одну - контрольную.  \n",
    "Все выборки были разделе на features (без целевого столбца категории is_ultra) и target (только is_ultra).  "
   ]
  },
  {
   "cell_type": "markdown",
   "metadata": {},
   "source": [
    "## Этап 2: Проверка качества моделей  \n",
    "\n",
    "\n",
    "#### №1: Дерево решений"
   ]
  },
  {
   "cell_type": "code",
   "execution_count": 5,
   "metadata": {},
   "outputs": [
    {
     "data": {
      "text/plain": [
       "DecisionTreeClassifier(class_weight=None, criterion='gini', max_depth=7,\n",
       "                       max_features=None, max_leaf_nodes=None,\n",
       "                       min_impurity_decrease=0.0, min_impurity_split=None,\n",
       "                       min_samples_leaf=1, min_samples_split=2,\n",
       "                       min_weight_fraction_leaf=0.0, presort=False,\n",
       "                       random_state=12345, splitter='best')"
      ]
     },
     "execution_count": 5,
     "metadata": {},
     "output_type": "execute_result"
    }
   ],
   "source": [
    "from sklearn.tree import DecisionTreeClassifier\n",
    "d_tree_clss__model = DecisionTreeClassifier(random_state=12345, max_depth=7)\n",
    "d_tree_clss__model.fit(df_train_features, df_train_target)\n",
    "\n"
   ]
  },
  {
   "cell_type": "code",
   "execution_count": 6,
   "metadata": {},
   "outputs": [],
   "source": [
    "#пробую на новых данных + accuracy\n",
    "from sklearn.metrics import accuracy_score\n",
    "dec_tree_answer = d_tree_clss__model.predict(df_valid_features)\n",
    "dec_tree_accuracy = accuracy_score(df_valid_target, dec_tree_answer)\n",
    "\n"
   ]
  },
  {
   "cell_type": "code",
   "execution_count": 7,
   "metadata": {},
   "outputs": [
    {
     "name": "stdout",
     "output_type": "stream",
     "text": [
      "If max_depth = 1 Accuracy: 0.736318407960199\n",
      "If max_depth = 2 Accuracy: 0.7736318407960199\n",
      "If max_depth = 3 Accuracy: 0.7786069651741293\n",
      "If max_depth = 4 Accuracy: 0.763681592039801\n",
      "If max_depth = 5 Accuracy: 0.763681592039801\n",
      "If max_depth = 6 Accuracy: 0.753731343283582\n",
      "If max_depth = 7 Accuracy: 0.7910447761194029\n",
      "If max_depth = 8 Accuracy: 0.7935323383084577\n",
      "If max_depth = 9 Accuracy: 0.7985074626865671\n",
      "If max_depth = 10 Accuracy: 0.7935323383084577\n",
      "If max_depth = 11 Accuracy: 0.7960199004975125\n",
      "If max_depth = 12 Accuracy: 0.7835820895522388\n",
      "If max_depth = 13 Accuracy: 0.7786069651741293\n",
      "If max_depth = 14 Accuracy: 0.763681592039801\n"
     ]
    }
   ],
   "source": [
    "for i in range(1,15,1):\n",
    "    d_tree_clss__model = DecisionTreeClassifier(random_state=12345, max_depth=i)\n",
    "    d_tree_clss__model.fit(df_train_features, df_train_target)\n",
    "    dec_tree_answer = d_tree_clss__model.predict(df_valid_features)\n",
    "    dec_tree_accuracy = accuracy_score(df_valid_target, dec_tree_answer)\n",
    "    print('If max_depth =',i,'Accuracy:', dec_tree_accuracy)"
   ]
  },
  {
   "cell_type": "markdown",
   "metadata": {},
   "source": [
    " ### Выводы по модели дерево решений:  \n",
    " Параметр Accuracy удалось довести до 0.7985074626865671 при гиперпараметре max_depth равном 7.  \n",
    " Условие задачи (Accuracy >0.75) выполняет при max_depth равном 2."
   ]
  },
  {
   "cell_type": "markdown",
   "metadata": {},
   "source": [
    "#### №2: Случайный лес"
   ]
  },
  {
   "cell_type": "code",
   "execution_count": 8,
   "metadata": {},
   "outputs": [
    {
     "data": {
      "text/plain": [
       "RandomForestClassifier(bootstrap=True, class_weight=None, criterion='gini',\n",
       "                       max_depth=6, max_features='auto', max_leaf_nodes=None,\n",
       "                       min_impurity_decrease=0.0, min_impurity_split=None,\n",
       "                       min_samples_leaf=1, min_samples_split=2,\n",
       "                       min_weight_fraction_leaf=0.0, n_estimators=5,\n",
       "                       n_jobs=None, oob_score=False, random_state=12345,\n",
       "                       verbose=0, warm_start=False)"
      ]
     },
     "execution_count": 8,
     "metadata": {},
     "output_type": "execute_result"
    }
   ],
   "source": [
    "from sklearn.ensemble import RandomForestClassifier\n",
    "\n",
    "random_forest_model = RandomForestClassifier(random_state=12345, n_estimators=5, max_depth = 6)\n",
    "random_forest_model.fit(df_train_features, df_train_target)"
   ]
  },
  {
   "cell_type": "code",
   "execution_count": 9,
   "metadata": {},
   "outputs": [
    {
     "data": {
      "text/plain": [
       "0.8034825870646766"
      ]
     },
     "execution_count": 9,
     "metadata": {},
     "output_type": "execute_result"
    }
   ],
   "source": [
    "random_forest_answer = random_forest_model.predict(df_valid_features)\n",
    "random_forest_accuracy = accuracy_score(df_valid_target, random_forest_answer)\n",
    "random_forest_accuracy"
   ]
  },
  {
   "cell_type": "code",
   "execution_count": 10,
   "metadata": {},
   "outputs": [
    {
     "name": "stdout",
     "output_type": "stream",
     "text": [
      "If n_estimators = 1 Accuracy: 0.753731343283582\n",
      "If n_estimators = 2 Accuracy: 0.7686567164179104\n",
      "If n_estimators = 3 Accuracy: 0.7562189054726368\n",
      "If n_estimators = 4 Accuracy: 0.7711442786069652\n",
      "If n_estimators = 5 Accuracy: 0.7686567164179104\n",
      "If n_estimators = 6 Accuracy: 0.7786069651741293\n",
      "If n_estimators = 7 Accuracy: 0.7686567164179104\n",
      "If n_estimators = 8 Accuracy: 0.7761194029850746\n",
      "If n_estimators = 9 Accuracy: 0.7736318407960199\n",
      "If n_estimators = 10 Accuracy: 0.7835820895522388\n",
      "If n_estimators = 11 Accuracy: 0.7810945273631841\n",
      "If n_estimators = 12 Accuracy: 0.7885572139303483\n",
      "If n_estimators = 13 Accuracy: 0.7736318407960199\n",
      "If n_estimators = 14 Accuracy: 0.7810945273631841\n",
      "If n_estimators = 15 Accuracy: 0.7835820895522388\n",
      "If n_estimators = 16 Accuracy: 0.7835820895522388\n",
      "If n_estimators = 17 Accuracy: 0.7736318407960199\n",
      "If n_estimators = 18 Accuracy: 0.7810945273631841\n",
      "If n_estimators = 19 Accuracy: 0.7786069651741293\n",
      "If n_estimators = 20 Accuracy: 0.7860696517412935\n",
      "If n_estimators = 21 Accuracy: 0.7761194029850746\n",
      "If n_estimators = 22 Accuracy: 0.7860696517412935\n",
      "If n_estimators = 23 Accuracy: 0.7810945273631841\n",
      "If n_estimators = 24 Accuracy: 0.7860696517412935\n",
      "If n_estimators = 25 Accuracy: 0.7835820895522388\n",
      "If n_estimators = 26 Accuracy: 0.7935323383084577\n",
      "If n_estimators = 27 Accuracy: 0.7885572139303483\n",
      "If n_estimators = 28 Accuracy: 0.7885572139303483\n",
      "If n_estimators = 29 Accuracy: 0.7860696517412935\n"
     ]
    }
   ],
   "source": [
    "for e in range(1,30):\n",
    "    random_forest_model = RandomForestClassifier(random_state=12345, n_estimators= e)\n",
    "    random_forest_model.fit(df_train_features, df_train_target)\n",
    "    random_forest_answer = random_forest_model.predict(df_valid_features)\n",
    "    random_forest_accuracy = accuracy_score(df_valid_target, random_forest_answer)\n",
    "    print('If n_estimators =',e,'Accuracy:', random_forest_accuracy)"
   ]
  },
  {
   "cell_type": "code",
   "execution_count": 11,
   "metadata": {},
   "outputs": [
    {
     "name": "stdout",
     "output_type": "stream",
     "text": [
      "If n_estimators = 5 max_depth = 6 Accuracy: 0.8034825870646766\n",
      "If n_estimators = 5 max_depth = 7 Accuracy: 0.8009950248756219\n",
      "If n_estimators = 6 max_depth = 6 Accuracy: 0.8034825870646766\n",
      "If n_estimators = 6 max_depth = 7 Accuracy: 0.8009950248756219\n",
      "If n_estimators = 7 max_depth = 6 Accuracy: 0.8034825870646766\n",
      "If n_estimators = 7 max_depth = 7 Accuracy: 0.8109452736318408\n",
      "If n_estimators = 7 max_depth = 9 Accuracy: 0.8009950248756219\n",
      "If n_estimators = 8 max_depth = 6 Accuracy: 0.8059701492537313\n",
      "If n_estimators = 8 max_depth = 7 Accuracy: 0.8059701492537313\n",
      "If n_estimators = 8 max_depth = 9 Accuracy: 0.8009950248756219\n",
      "If n_estimators = 9 max_depth = 6 Accuracy: 0.8084577114427861\n",
      "If n_estimators = 9 max_depth = 7 Accuracy: 0.8084577114427861\n",
      "If n_estimators = 9 max_depth = 9 Accuracy: 0.8009950248756219\n"
     ]
    }
   ],
   "source": [
    "for e in range(1,10):\n",
    "    for i in range(1,10):\n",
    "        random_forest_model = RandomForestClassifier(random_state=12345, n_estimators= e, max_depth= i)\n",
    "        random_forest_model.fit(df_train_features, df_train_target)\n",
    "        random_forest_answer = random_forest_model.predict(df_valid_features)\n",
    "        random_forest_accuracy = accuracy_score(df_valid_target, random_forest_answer)\n",
    "        if random_forest_accuracy > 0.80:\n",
    "            print('If n_estimators =',e,'max_depth =',i,'Accuracy:', random_forest_accuracy)"
   ]
  },
  {
   "cell_type": "markdown",
   "metadata": {},
   "source": [
    "### Выводы по модели случайный лес:  \n",
    " Параметр Accuracy удалось довести до 0.8034825870646766 при гиперпараметрах n_estimators = 5, max_depth = 6.    \n",
    " Условие задачи (Accuracy >0.75) выполняет при n_estimators = 1, max_depth = 1."
   ]
  },
  {
   "cell_type": "markdown",
   "metadata": {},
   "source": [
    "#### №3: Логичстическая регрессия"
   ]
  },
  {
   "cell_type": "code",
   "execution_count": 12,
   "metadata": {},
   "outputs": [
    {
     "data": {
      "text/plain": [
       "LogisticRegression(C=1.0, class_weight=None, dual=False, fit_intercept=True,\n",
       "                   intercept_scaling=1, l1_ratio=None, max_iter=100,\n",
       "                   multi_class='warn', n_jobs=None, penalty='l2',\n",
       "                   random_state=12345, solver='lbfgs', tol=0.0001, verbose=0,\n",
       "                   warm_start=False)"
      ]
     },
     "execution_count": 12,
     "metadata": {},
     "output_type": "execute_result"
    }
   ],
   "source": [
    "#логистиеская регрессия\n",
    "from sklearn.linear_model import LogisticRegression\n",
    "log_reg_model = LogisticRegression(random_state=12345, solver = 'lbfgs')\n",
    "log_reg_model.fit(df_train_features, df_train_target)"
   ]
  },
  {
   "cell_type": "code",
   "execution_count": 13,
   "metadata": {},
   "outputs": [
    {
     "data": {
      "text/plain": [
       "0.7039800995024875"
      ]
     },
     "execution_count": 13,
     "metadata": {},
     "output_type": "execute_result"
    }
   ],
   "source": [
    "log_reg_model_answer = log_reg_model.predict(df_valid_features)\n",
    "log_reg_model_accuracy = log_reg_model.score(df_valid_features, df_valid_target)\n",
    "log_reg_model_accuracy"
   ]
  },
  {
   "cell_type": "code",
   "execution_count": 14,
   "metadata": {},
   "outputs": [
    {
     "name": "stdout",
     "output_type": "stream",
     "text": [
      "If C = 0.0001 Accuracy: 0.7437810945273632\n",
      "If C = 0.001 Accuracy: 0.7039800995024875\n",
      "If C = 0.01 Accuracy: 0.7039800995024875\n",
      "If C = 0.1 Accuracy: 0.7039800995024875\n",
      "If C = 1 Accuracy: 0.7039800995024875\n",
      "If C = 10 Accuracy: 0.7039800995024875\n",
      "If C = 100 Accuracy: 0.7039800995024875\n"
     ]
    }
   ],
   "source": [
    "C_param_range = [0.0001, 0.001,0.01,0.1,1,10,100]\n",
    "\n",
    "for z in C_param_range:\n",
    "    log_reg_model = LogisticRegression(random_state=12345, solver = 'lbfgs', C = z)\n",
    "    log_reg_model.fit(df_train_features, df_train_target)\n",
    "    log_reg_model_answer = log_reg_model.predict(df_valid_features)\n",
    "    log_reg_model_accuracy = log_reg_model.score(df_valid_features, df_valid_target)\n",
    "    print('If C =',z,'Accuracy:', log_reg_model_accuracy)"
   ]
  },
  {
   "cell_type": "code",
   "execution_count": 15,
   "metadata": {},
   "outputs": [
    {
     "name": "stdout",
     "output_type": "stream",
     "text": [
      "error\n",
      "If penalty = l2 Accuracy: 0.7039800995024875\n",
      "error\n",
      "If penalty = none Accuracy: 0.7039800995024875\n"
     ]
    }
   ],
   "source": [
    "solvers = ['newton-cg', 'sag', 'saga', 'lbfgs'] \n",
    "penalties = ['l1', 'l2', 'elasticnet', 'none']\n",
    "for p in penalties:\n",
    "    try:\n",
    "        log_reg_model = LogisticRegression(penalty = p, solver = 'lbfgs', random_state=12345)\n",
    "        log_reg_model.fit(df_train_features, df_train_target)\n",
    "        log_reg_model_answer = log_reg_model.predict(df_valid_features)\n",
    "        log_reg_model_accuracy = log_reg_model.score(df_valid_features, df_valid_target)\n",
    "        print('If penalty =', p,'Accuracy:', log_reg_model_accuracy)\n",
    "    except:\n",
    "        print('error')"
   ]
  },
  {
   "cell_type": "markdown",
   "metadata": {},
   "source": [
    " ### Выводы по модели логистической регрессии:  \n",
    " Параметр Accuracy составил 0.7039800995024875.  \n",
    " Изменение параметро solver, penaly не привело к улучшению результат.  \n",
    " Некоторые из этих параметров не совместимы друг с другом.\n",
    " Условие задачи (Accuracy >0.75) не выполняется.\n",
    "  "
   ]
  },
  {
   "cell_type": "markdown",
   "metadata": {},
   "source": [
    "### Проверка качества моделей на тестовой выборке.  \n"
   ]
  },
  {
   "cell_type": "code",
   "execution_count": 16,
   "metadata": {},
   "outputs": [
    {
     "data": {
      "text/plain": [
       "0.7562189054726368"
      ]
     },
     "execution_count": 16,
     "metadata": {},
     "output_type": "execute_result"
    }
   ],
   "source": [
    "dec_tree_control_answer = d_tree_clss__model.predict(df_control_features)\n",
    "dec_tree_control_accuracy = accuracy_score(df_control_target, dec_tree_control_answer)\n",
    "dec_tree_control_accuracy"
   ]
  },
  {
   "cell_type": "code",
   "execution_count": 17,
   "metadata": {},
   "outputs": [
    {
     "data": {
      "text/plain": [
       "0.7985074626865671"
      ]
     },
     "execution_count": 17,
     "metadata": {},
     "output_type": "execute_result"
    }
   ],
   "source": [
    "random_forest_control_answer = random_forest_model.predict(df_control_features)\n",
    "random_forest_control_accuracy = accuracy_score(df_control_target, random_forest_control_answer)\n",
    "random_forest_control_accuracy"
   ]
  },
  {
   "cell_type": "code",
   "execution_count": 18,
   "metadata": {},
   "outputs": [
    {
     "data": {
      "text/plain": [
       "0.7039800995024875"
      ]
     },
     "execution_count": 18,
     "metadata": {},
     "output_type": "execute_result"
    }
   ],
   "source": [
    "log_reg_model_control_answer = log_reg_model.predict(df_control_features)\n",
    "log_reg_model_control_answer\n",
    "log_reg_model_control_accuracy = log_reg_model.score(df_control_features, df_control_target)\n",
    "log_reg_model_control_accuracy"
   ]
  },
  {
   "cell_type": "code",
   "execution_count": 19,
   "metadata": {},
   "outputs": [],
   "source": [
    "model_names = ['dec_tree/valid','dec_tree/control','rnd_for/valid','rnd_for/control',\n",
    "               'log_reg/valid','log_reg/control']\n",
    "accuracy_data = [dec_tree_accuracy, dec_tree_control_accuracy, random_forest_accuracy, \n",
    "    random_forest_control_accuracy, log_reg_model_accuracy, log_reg_model_control_accuracy]\n",
    "\n",
    "accuracy_result = pd.DataFrame.from_dict({'model/sample': model_names, 'Accuracy': accuracy_data})"
   ]
  },
  {
   "cell_type": "code",
   "execution_count": 20,
   "metadata": {},
   "outputs": [
    {
     "data": {
      "text/html": [
       "<div>\n",
       "<style scoped>\n",
       "    .dataframe tbody tr th:only-of-type {\n",
       "        vertical-align: middle;\n",
       "    }\n",
       "\n",
       "    .dataframe tbody tr th {\n",
       "        vertical-align: top;\n",
       "    }\n",
       "\n",
       "    .dataframe thead th {\n",
       "        text-align: right;\n",
       "    }\n",
       "</style>\n",
       "<table border=\"1\" class=\"dataframe\">\n",
       "  <thead>\n",
       "    <tr style=\"text-align: right;\">\n",
       "      <th></th>\n",
       "      <th>model/sample</th>\n",
       "      <th>Accuracy</th>\n",
       "    </tr>\n",
       "  </thead>\n",
       "  <tbody>\n",
       "    <tr>\n",
       "      <td>0</td>\n",
       "      <td>dec_tree/valid</td>\n",
       "      <td>0.763682</td>\n",
       "    </tr>\n",
       "    <tr>\n",
       "      <td>1</td>\n",
       "      <td>dec_tree/control</td>\n",
       "      <td>0.756219</td>\n",
       "    </tr>\n",
       "    <tr>\n",
       "      <td>2</td>\n",
       "      <td>rnd_for/valid</td>\n",
       "      <td>0.800995</td>\n",
       "    </tr>\n",
       "    <tr>\n",
       "      <td>3</td>\n",
       "      <td>rnd_for/control</td>\n",
       "      <td>0.798507</td>\n",
       "    </tr>\n",
       "    <tr>\n",
       "      <td>4</td>\n",
       "      <td>log_reg/valid</td>\n",
       "      <td>0.703980</td>\n",
       "    </tr>\n",
       "    <tr>\n",
       "      <td>5</td>\n",
       "      <td>log_reg/control</td>\n",
       "      <td>0.703980</td>\n",
       "    </tr>\n",
       "  </tbody>\n",
       "</table>\n",
       "</div>"
      ],
      "text/plain": [
       "       model/sample  Accuracy\n",
       "0    dec_tree/valid  0.763682\n",
       "1  dec_tree/control  0.756219\n",
       "2     rnd_for/valid  0.800995\n",
       "3   rnd_for/control  0.798507\n",
       "4     log_reg/valid  0.703980\n",
       "5   log_reg/control  0.703980"
      ]
     },
     "execution_count": 20,
     "metadata": {},
     "output_type": "execute_result"
    }
   ],
   "source": [
    "accuracy_result"
   ]
  },
  {
   "cell_type": "markdown",
   "metadata": {},
   "source": [
    "### Выводы по моделям  \n",
    "Лучший результат показала модель Случайный лес с гиперпараметрами n_estimators = 5, max_depth = 6  "
   ]
  },
  {
   "cell_type": "markdown",
   "metadata": {},
   "source": [
    "## Этап 3: Проверка модели на вменяемость\n"
   ]
  },
  {
   "cell_type": "code",
   "execution_count": 21,
   "metadata": {},
   "outputs": [],
   "source": [
    "from sklearn.metrics import mean_squared_error"
   ]
  },
  {
   "cell_type": "code",
   "execution_count": 22,
   "metadata": {},
   "outputs": [
    {
     "name": "stdout",
     "output_type": "stream",
     "text": [
      "0.5440771089629781 0.4488792012484348 0.6367673333454853\n"
     ]
    }
   ],
   "source": [
    "log_reg_mse = mean_squared_error(df_control_target, log_reg_model_control_answer)\n",
    "log_reg_rmse = log_reg_mse**0.5\n",
    "\n",
    "random_forest_mse = mean_squared_error(df_control_target, random_forest_control_answer)\n",
    "random_forest_rmse = random_forest_mse**0.5\n",
    "\n",
    "dec_tree_mse = mean_squared_error(df_valid_target, dec_tree_control_answer)\n",
    "dec_tree_rmse = dec_tree_mse**0.5\n",
    "\n",
    "print(log_reg_rmse, random_forest_rmse, dec_tree_rmse)"
   ]
  },
  {
   "cell_type": "markdown",
   "metadata": {},
   "source": [
    "#### Выводы по дополнительному заданию:  \n",
    "В связи с тем, что при проверке адекватности нам нужно прибегнут к случайным величинам, за основу мы берём вероятность правильного  \n",
    "прогноза равную 0.5 (так как мы можем получить либо 0, либо 1). Проверка через RMSE показала результаты, которые противоречат \n",
    "результата исследования моделей по параметру accuracy:  \n",
    "RMSE логистической регрессии = 0.5440771089629781  \n",
    "RMSE случайного леса = 0.4488792012484348  \n",
    "RMSE дерево решений = 0.6367673333454853  \n",
    "Таким образом дерево решение наиболее вменяема или я сделал что-то неправильно.  \n",
    "\n",
    "Спасибо за внимание.\n"
   ]
  }
 ],
 "metadata": {
  "kernelspec": {
   "display_name": "Python 3",
   "language": "python",
   "name": "python3"
  },
  "language_info": {
   "codemirror_mode": {
    "name": "ipython",
    "version": 3
   },
   "file_extension": ".py",
   "mimetype": "text/x-python",
   "name": "python",
   "nbconvert_exporter": "python",
   "pygments_lexer": "ipython3",
   "version": "3.7.6"
  }
 },
 "nbformat": 4,
 "nbformat_minor": 4
}
