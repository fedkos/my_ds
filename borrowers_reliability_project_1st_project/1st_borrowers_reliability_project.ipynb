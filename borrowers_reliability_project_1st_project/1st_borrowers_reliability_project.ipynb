{
 "cells": [
  {
   "cell_type": "markdown",
   "metadata": {},
   "source": [
    "## Этап 1: загрузка и предобработка данных"
   ]
  },
  {
   "cell_type": "code",
   "execution_count": 1,
   "metadata": {
    "scrolled": true
   },
   "outputs": [
    {
     "name": "stdout",
     "output_type": "stream",
     "text": [
      "<class 'pandas.core.frame.DataFrame'>\n",
      "RangeIndex: 21525 entries, 0 to 21524\n",
      "Data columns (total 12 columns):\n",
      "children            21525 non-null int64\n",
      "days_employed       19351 non-null float64\n",
      "dob_years           21525 non-null int64\n",
      "education           21525 non-null object\n",
      "education_id        21525 non-null int64\n",
      "family_status       21525 non-null object\n",
      "family_status_id    21525 non-null int64\n",
      "gender              21525 non-null object\n",
      "income_type         21525 non-null object\n",
      "debt                21525 non-null int64\n",
      "total_income        19351 non-null float64\n",
      "purpose             21525 non-null object\n",
      "dtypes: float64(2), int64(5), object(5)\n",
      "memory usage: 2.0+ MB\n"
     ]
    }
   ],
   "source": [
    "import pandas as pd\n",
    "data = pd.read_csv('/datasets/data.csv')\n",
    "\n",
    "data.info()"
   ]
  },
  {
   "cell_type": "markdown",
   "metadata": {},
   "source": [
    "### Вывод"
   ]
  },
  {
   "cell_type": "markdown",
   "metadata": {},
   "source": [
    "1. Обратил внимание на наличие нулевых значений в столбцах days_employed и total_income. Эти столбцы имеют числовой вид, поэтому пропущенные данные являются NaN"
   ]
  },
  {
   "cell_type": "code",
   "execution_count": 2,
   "metadata": {},
   "outputs": [
    {
     "name": "stdout",
     "output_type": "stream",
     "text": [
      "<class 'pandas.core.frame.DataFrame'>\n",
      "RangeIndex: 21525 entries, 0 to 21524\n",
      "Data columns (total 12 columns):\n",
      "children            21525 non-null int64\n",
      "days_employed       21525 non-null float64\n",
      "dob_years           21525 non-null int64\n",
      "education           21525 non-null object\n",
      "education_id        21525 non-null int64\n",
      "family_status       21525 non-null object\n",
      "family_status_id    21525 non-null int64\n",
      "gender              21525 non-null object\n",
      "income_type         21525 non-null object\n",
      "debt                21525 non-null int64\n",
      "total_income        21525 non-null float64\n",
      "purpose             21525 non-null object\n",
      "dtypes: float64(2), int64(5), object(5)\n",
      "memory usage: 2.0+ MB\n"
     ]
    }
   ],
   "source": [
    "data.isnull().sum() #узнал, сколько пропусков\n",
    "median_days_employed = data['days_employed'].median() #медиана дней занятости\n",
    "mean_days_employed = data['days_employed'].mean() #средний период занятости - даёт отрицательное значение\n",
    "\n",
    "mean_income = data['total_income'].mean() #посмотрел средний доход\n",
    "median_income = data['total_income'].median() #посмотрел медиану дохода\n",
    "\n",
    "data['days_employed'] = data['days_employed'].fillna(mean_days_employed) #заполнил параметром средней занятости из-за того, что медиана даёт отрицательное значение\n",
    "\n",
    "data['total_income'].unique \n",
    "data['total_income'] = data['total_income'].fillna(median_income)#заполнил пропуски медианой дохода\n",
    "data.info()\n",
    "\n"
   ]
  },
  {
   "cell_type": "markdown",
   "metadata": {},
   "source": [
    "### Вывод"
   ]
  },
  {
   "cell_type": "markdown",
   "metadata": {},
   "source": [
    "1. Найдено равное количество NaN в столбцах days_employed и total_income\n",
    "2. Если у клиента NaN в days_employed, то у того же клиента NaN в total_income.\n",
    "3. Возможно, банку не известно об уровне дохода или занятости клиента.\n",
    "4. NaN в days_employed заполнен средним значение по всему столбцу. Отказался от медианы, так как она показывает отрицательное значение.\n",
    "5. NaN в total_income заполнен медианой по выборке.\n"
   ]
  },
  {
   "cell_type": "code",
   "execution_count": 3,
   "metadata": {},
   "outputs": [
    {
     "name": "stdout",
     "output_type": "stream",
     "text": [
      "<class 'pandas.core.frame.DataFrame'>\n",
      "RangeIndex: 21525 entries, 0 to 21524\n",
      "Data columns (total 12 columns):\n",
      "children            21525 non-null int64\n",
      "days_employed       21525 non-null int64\n",
      "dob_years           21525 non-null int64\n",
      "education           21525 non-null object\n",
      "education_id        21525 non-null int64\n",
      "family_status       21525 non-null object\n",
      "family_status_id    21525 non-null int64\n",
      "gender              21525 non-null object\n",
      "income_type         21525 non-null object\n",
      "debt                21525 non-null int64\n",
      "total_income        21525 non-null int64\n",
      "purpose             21525 non-null object\n",
      "dtypes: int64(7), object(5)\n",
      "memory usage: 2.0+ MB\n"
     ]
    }
   ],
   "source": [
    "data['days_employed'] = data['days_employed'].astype('int')\n",
    "data['total_income'] = data['total_income'].astype('int')\n",
    "data.info()"
   ]
  },
  {
   "cell_type": "markdown",
   "metadata": {},
   "source": [
    "### Вывод"
   ]
  },
  {
   "cell_type": "markdown",
   "metadata": {},
   "source": [
    "Общая информация по info() показала, что вещественный тип данных был в столбцах days_employed и total_income. После применения astype('int') через присваивание, тип данных был изменён на целочисленный."
   ]
  },
  {
   "cell_type": "markdown",
   "metadata": {},
   "source": [
    "### Обработка дубликатов"
   ]
  },
  {
   "cell_type": "code",
   "execution_count": 4,
   "metadata": {},
   "outputs": [
    {
     "data": {
      "text/plain": [
       "свадьба                                   797\n",
       "на проведение свадьбы                     777\n",
       "сыграть свадьбу                           774\n",
       "операции с недвижимостью                  676\n",
       "покупка коммерческой недвижимости         664\n",
       "покупка жилья для сдачи                   653\n",
       "операции с жильем                         653\n",
       "операции с коммерческой недвижимостью     651\n",
       "покупка жилья                             647\n",
       "жилье                                     647\n",
       "покупка жилья для семьи                   641\n",
       "строительство собственной недвижимости    635\n",
       "недвижимость                              634\n",
       "операции со своей недвижимостью           630\n",
       "строительство жилой недвижимости          626\n",
       "покупка недвижимости                      624\n",
       "строительство недвижимости                620\n",
       "покупка своего жилья                      620\n",
       "ремонт жилью                              612\n",
       "покупка жилой недвижимости                607\n",
       "на покупку своего автомобиля              505\n",
       "заняться высшим образованием              496\n",
       "автомобиль                                495\n",
       "сделка с подержанным автомобилем          489\n",
       "свой автомобиль                           480\n",
       "на покупку подержанного автомобиля        479\n",
       "автомобили                                478\n",
       "на покупку автомобиля                     472\n",
       "приобретение автомобиля                   462\n",
       "дополнительное образование                462\n",
       "сделка с автомобилем                      455\n",
       "высшее образование                        453\n",
       "получение дополнительного образования     447\n",
       "образование                               447\n",
       "получение образования                     443\n",
       "профильное образование                    436\n",
       "получение высшего образования             426\n",
       "заняться образованием                     412\n",
       "Name: purpose, dtype: int64"
      ]
     },
     "execution_count": 4,
     "metadata": {},
     "output_type": "execute_result"
    }
   ],
   "source": [
    "data['education'] = data['education'].str.lower()\n",
    "data['family_status'] = data['family_status'].str.lower()\n",
    "data['gender'] = data['gender'].str.lower()\n",
    "data['income_type'] = data['income_type'].str.lower()\n",
    "data['purpose'] = data['purpose'].str.lower()\n",
    "\n",
    "\n",
    "data['education'].value_counts() \n",
    "data['family_status'].value_counts() \n",
    "data['gender'].value_counts() \n",
    "data['income_type'].value_counts()\n",
    "data['purpose'].value_counts()\n"
   ]
  },
  {
   "cell_type": "markdown",
   "metadata": {},
   "source": [
    "### Вывод"
   ]
  },
  {
   "cell_type": "markdown",
   "metadata": {},
   "source": [
    "1. поиск дубликатов осуществлялся в объектных столбцах.\n",
    "2. в gender помимо f и m, вошёл третий пол xna в единственном случае\n",
    "3. приведение строк к нижнему регистру позволило справиться с проблемой дубликатов во всех столбцах, за исключением purpose. Люди (менеджеры) описывали цели кредитования по-разному. Здесь сыграл свою роль человеческий фактор, поэтому необходимо прибегнуть к лемматизации.\n",
    "4. Дубликаты возникали из-за человеческого фактора"
   ]
  },
  {
   "cell_type": "markdown",
   "metadata": {},
   "source": [
    "## Этап 2: Лемматизация для выделения категорий целей кредита"
   ]
  },
  {
   "cell_type": "code",
   "execution_count": 5,
   "metadata": {
    "scrolled": true
   },
   "outputs": [
    {
     "name": "stdout",
     "output_type": "stream",
     "text": [
      "Counter({' ': 33677, '\\n': 21525, 'недвижимость': 6367, 'покупка': 5912, 'жилье': 4473, 'автомобиль': 4315, 'образование': 4022, 'с': 2924, 'операция': 2610, 'свадьба': 2348, 'свой': 2235, 'на': 2233, 'строительство': 1881, 'высокий': 1375, 'получение': 1316, 'коммерческий': 1315, 'для': 1294, 'жилой': 1233, 'сделка': 944, 'дополнительный': 909, 'заниматься': 908, 'проведение': 777, 'сыграть': 774, 'сдача': 653, 'семья': 641, 'собственный': 635, 'со': 630, 'ремонт': 612, 'подержанный': 489, 'подержать': 479, 'приобретение': 462, 'профильный': 436})\n",
      "Counter({' ': 33677, '\\n': 21525, 'недвижим': 6367, 'покупк': 5912, 'жил': 5706, 'автомобил': 4315, 'образован': 4022, 'с': 2924, 'операц': 2610, 'свадьб': 2348, 'сво': 2235, 'на': 2233, 'строительств': 1881, 'высок': 1375, 'получен': 1316, 'коммерческ': 1315, 'для': 1294, 'подержа': 968, 'сделк': 944, 'дополнительн': 909, 'занима': 908, 'проведен': 777, 'сыгра': 774, 'сдач': 653, 'сем': 641, 'собствен': 635, 'со': 630, 'ремонт': 612, 'приобретен': 462, 'профильн': 436})\n"
     ]
    },
    {
     "data": {
      "text/html": [
       "<div>\n",
       "<style scoped>\n",
       "    .dataframe tbody tr th:only-of-type {\n",
       "        vertical-align: middle;\n",
       "    }\n",
       "\n",
       "    .dataframe tbody tr th {\n",
       "        vertical-align: top;\n",
       "    }\n",
       "\n",
       "    .dataframe thead th {\n",
       "        text-align: right;\n",
       "    }\n",
       "</style>\n",
       "<table border=\"1\" class=\"dataframe\">\n",
       "  <thead>\n",
       "    <tr style=\"text-align: right;\">\n",
       "      <th></th>\n",
       "      <th>children</th>\n",
       "      <th>days_employed</th>\n",
       "      <th>dob_years</th>\n",
       "      <th>education</th>\n",
       "      <th>education_id</th>\n",
       "      <th>family_status</th>\n",
       "      <th>family_status_id</th>\n",
       "      <th>gender</th>\n",
       "      <th>income_type</th>\n",
       "      <th>debt</th>\n",
       "      <th>total_income</th>\n",
       "      <th>purpose</th>\n",
       "      <th>new_purpose</th>\n",
       "    </tr>\n",
       "  </thead>\n",
       "  <tbody>\n",
       "    <tr>\n",
       "      <td>0</td>\n",
       "      <td>1</td>\n",
       "      <td>-8437</td>\n",
       "      <td>42</td>\n",
       "      <td>высшее</td>\n",
       "      <td>0</td>\n",
       "      <td>женат / замужем</td>\n",
       "      <td>0</td>\n",
       "      <td>f</td>\n",
       "      <td>сотрудник</td>\n",
       "      <td>0</td>\n",
       "      <td>253875</td>\n",
       "      <td>покупка жилья</td>\n",
       "      <td>недвижимость</td>\n",
       "    </tr>\n",
       "    <tr>\n",
       "      <td>1</td>\n",
       "      <td>1</td>\n",
       "      <td>-4024</td>\n",
       "      <td>36</td>\n",
       "      <td>среднее</td>\n",
       "      <td>1</td>\n",
       "      <td>женат / замужем</td>\n",
       "      <td>0</td>\n",
       "      <td>f</td>\n",
       "      <td>сотрудник</td>\n",
       "      <td>0</td>\n",
       "      <td>112080</td>\n",
       "      <td>приобретение автомобиля</td>\n",
       "      <td>автомобиль</td>\n",
       "    </tr>\n",
       "    <tr>\n",
       "      <td>2</td>\n",
       "      <td>0</td>\n",
       "      <td>-5623</td>\n",
       "      <td>33</td>\n",
       "      <td>среднее</td>\n",
       "      <td>1</td>\n",
       "      <td>женат / замужем</td>\n",
       "      <td>0</td>\n",
       "      <td>m</td>\n",
       "      <td>сотрудник</td>\n",
       "      <td>0</td>\n",
       "      <td>145885</td>\n",
       "      <td>покупка жилья</td>\n",
       "      <td>недвижимость</td>\n",
       "    </tr>\n",
       "    <tr>\n",
       "      <td>3</td>\n",
       "      <td>3</td>\n",
       "      <td>-4124</td>\n",
       "      <td>32</td>\n",
       "      <td>среднее</td>\n",
       "      <td>1</td>\n",
       "      <td>женат / замужем</td>\n",
       "      <td>0</td>\n",
       "      <td>m</td>\n",
       "      <td>сотрудник</td>\n",
       "      <td>0</td>\n",
       "      <td>267628</td>\n",
       "      <td>дополнительное образование</td>\n",
       "      <td>образование</td>\n",
       "    </tr>\n",
       "    <tr>\n",
       "      <td>4</td>\n",
       "      <td>0</td>\n",
       "      <td>340266</td>\n",
       "      <td>53</td>\n",
       "      <td>среднее</td>\n",
       "      <td>1</td>\n",
       "      <td>гражданский брак</td>\n",
       "      <td>1</td>\n",
       "      <td>f</td>\n",
       "      <td>пенсионер</td>\n",
       "      <td>0</td>\n",
       "      <td>158616</td>\n",
       "      <td>сыграть свадьбу</td>\n",
       "      <td>свадьба</td>\n",
       "    </tr>\n",
       "    <tr>\n",
       "      <td>5</td>\n",
       "      <td>0</td>\n",
       "      <td>-926</td>\n",
       "      <td>27</td>\n",
       "      <td>высшее</td>\n",
       "      <td>0</td>\n",
       "      <td>гражданский брак</td>\n",
       "      <td>1</td>\n",
       "      <td>m</td>\n",
       "      <td>компаньон</td>\n",
       "      <td>0</td>\n",
       "      <td>255763</td>\n",
       "      <td>покупка жилья</td>\n",
       "      <td>недвижимость</td>\n",
       "    </tr>\n",
       "    <tr>\n",
       "      <td>6</td>\n",
       "      <td>0</td>\n",
       "      <td>-2879</td>\n",
       "      <td>43</td>\n",
       "      <td>высшее</td>\n",
       "      <td>0</td>\n",
       "      <td>женат / замужем</td>\n",
       "      <td>0</td>\n",
       "      <td>f</td>\n",
       "      <td>компаньон</td>\n",
       "      <td>0</td>\n",
       "      <td>240525</td>\n",
       "      <td>операции с жильем</td>\n",
       "      <td>недвижимость</td>\n",
       "    </tr>\n",
       "    <tr>\n",
       "      <td>7</td>\n",
       "      <td>0</td>\n",
       "      <td>-152</td>\n",
       "      <td>50</td>\n",
       "      <td>среднее</td>\n",
       "      <td>1</td>\n",
       "      <td>женат / замужем</td>\n",
       "      <td>0</td>\n",
       "      <td>m</td>\n",
       "      <td>сотрудник</td>\n",
       "      <td>0</td>\n",
       "      <td>135823</td>\n",
       "      <td>образование</td>\n",
       "      <td>образование</td>\n",
       "    </tr>\n",
       "    <tr>\n",
       "      <td>8</td>\n",
       "      <td>2</td>\n",
       "      <td>-6929</td>\n",
       "      <td>35</td>\n",
       "      <td>высшее</td>\n",
       "      <td>0</td>\n",
       "      <td>гражданский брак</td>\n",
       "      <td>1</td>\n",
       "      <td>f</td>\n",
       "      <td>сотрудник</td>\n",
       "      <td>0</td>\n",
       "      <td>95856</td>\n",
       "      <td>на проведение свадьбы</td>\n",
       "      <td>свадьба</td>\n",
       "    </tr>\n",
       "    <tr>\n",
       "      <td>9</td>\n",
       "      <td>0</td>\n",
       "      <td>-2188</td>\n",
       "      <td>41</td>\n",
       "      <td>среднее</td>\n",
       "      <td>1</td>\n",
       "      <td>женат / замужем</td>\n",
       "      <td>0</td>\n",
       "      <td>m</td>\n",
       "      <td>сотрудник</td>\n",
       "      <td>0</td>\n",
       "      <td>144425</td>\n",
       "      <td>покупка жилья для семьи</td>\n",
       "      <td>недвижимость</td>\n",
       "    </tr>\n",
       "  </tbody>\n",
       "</table>\n",
       "</div>"
      ],
      "text/plain": [
       "   children  days_employed  dob_years education  education_id  \\\n",
       "0         1          -8437         42    высшее             0   \n",
       "1         1          -4024         36   среднее             1   \n",
       "2         0          -5623         33   среднее             1   \n",
       "3         3          -4124         32   среднее             1   \n",
       "4         0         340266         53   среднее             1   \n",
       "5         0           -926         27    высшее             0   \n",
       "6         0          -2879         43    высшее             0   \n",
       "7         0           -152         50   среднее             1   \n",
       "8         2          -6929         35    высшее             0   \n",
       "9         0          -2188         41   среднее             1   \n",
       "\n",
       "      family_status  family_status_id gender income_type  debt  total_income  \\\n",
       "0   женат / замужем                 0      f   сотрудник     0        253875   \n",
       "1   женат / замужем                 0      f   сотрудник     0        112080   \n",
       "2   женат / замужем                 0      m   сотрудник     0        145885   \n",
       "3   женат / замужем                 0      m   сотрудник     0        267628   \n",
       "4  гражданский брак                 1      f   пенсионер     0        158616   \n",
       "5  гражданский брак                 1      m   компаньон     0        255763   \n",
       "6   женат / замужем                 0      f   компаньон     0        240525   \n",
       "7   женат / замужем                 0      m   сотрудник     0        135823   \n",
       "8  гражданский брак                 1      f   сотрудник     0         95856   \n",
       "9   женат / замужем                 0      m   сотрудник     0        144425   \n",
       "\n",
       "                      purpose   new_purpose  \n",
       "0               покупка жилья  недвижимость  \n",
       "1     приобретение автомобиля    автомобиль  \n",
       "2               покупка жилья  недвижимость  \n",
       "3  дополнительное образование   образование  \n",
       "4             сыграть свадьбу       свадьба  \n",
       "5               покупка жилья  недвижимость  \n",
       "6           операции с жильем  недвижимость  \n",
       "7                 образование   образование  \n",
       "8       на проведение свадьбы       свадьба  \n",
       "9     покупка жилья для семьи  недвижимость  "
      ]
     },
     "execution_count": 5,
     "metadata": {},
     "output_type": "execute_result"
    }
   ],
   "source": [
    "from pymystem3 import Mystem\n",
    "m = Mystem()\n",
    "from collections import Counter\n",
    "from nltk.stem import SnowballStemmer \n",
    "russian_stemmer = SnowballStemmer('russian')\n",
    "\n",
    "lst = [i for i in data['purpose']]\n",
    "lemms = []\n",
    "for i in lst: #Сенсей, простите за \"ВЦ\"код\n",
    "   lemms+=m.lemmatize(i)\n",
    "\n",
    "print(Counter(lemms)) \n",
    "\n",
    "dict_lemm = ['жилая','коммерческая','недвижимость', 'недвижимость', 'автомобиль', 'образование', 'свадьба', 'ремонт']\n",
    "\n",
    "stem_lst = [] #в попытках найти способ подбора \"идеального\" способа оформить единообразие в целях провёл стемминг слов\n",
    "#из слов после лемматизации.\n",
    "for x in lemms:\n",
    "    stem_lst.append(russian_stemmer.stem(x))\n",
    "    \n",
    "print(Counter(stem_lst))\n",
    "\n",
    "\n",
    "'''\n",
    "\n",
    "Лемматизация помогла из данных выявить основные категории целей кредита: свадьба, автомобиль, недвижимость, \n",
    "образование, ремонт. После этого предстояло придумать инстурмент, который будет анализировать старый вариант\n",
    "описания цели и заменять его на унифицированный.\n",
    "\n",
    "\n",
    "'''\n",
    "\n",
    "\n",
    "purposes_dict = {'свадьба': ['свадьба', 'на проведение свадьбы', 'сыграть свадьбу'],\n",
    "'автомобиль': ['на покупку своего автомобиля','автомобиль','сделка с подержанным автомобилем', 'свой автомобиль',\n",
    "'на покупку подержанного автомобиля', 'автомобили', 'на покупку автомобиля','приобретение автомобиля',\n",
    "'сделка с автомобилем'],\n",
    "'недвижимость': ['операции с недвижимостью', 'покупка коммерческой недвижимости',\n",
    "'покупка жилья для сдачи','операции с жильем', 'операции с коммерческой недвижимостью',\n",
    "'жилье', 'покупка жилья', 'покупка жилья для семьи', 'строительство собственной недвижимости',\n",
    "'недвижимость', 'операции со своей недвижимостью', 'строительство жилой недвижимости', 'покупка недвижимости',\n",
    "'строительство недвижимости', 'покупка своего жилья', 'покупка жилой недвижимости'], \n",
    "                 'образование': ['заняться высшим образованием','дополнительное образование', 'высшее образование',\n",
    "                                'получение дополнительного образования', 'образование', 'получение образования',\n",
    "                                'профильное образование', 'получение высшего образования', 'заняться образованием'],\n",
    "                 'ремонт': ['ремонт жилью']}\n",
    "\n",
    "\n",
    "   \n",
    "def change_purpose(data, dict):\n",
    "    temp_lst = list(data['purpose']) #создаём списко из значений колонки с целями\n",
    "    new_purposes_list = [] #пустой список, который будет заполнен в цикле\n",
    "    new_purposes_dict = {'new_purpose':new_purposes_list} #создаваемый словарь с ключём new_purpose для входа в общую таблицу\n",
    "\n",
    "    for s in temp_lst: #начинаем перебор старых целей\n",
    "        for key, value in dict.items(): #включаем в работу перебор ключей и значений\n",
    "            for u in value: #под микроскопом всматриваемся в значения \n",
    "                if s == u: \n",
    "                    new_purposes_list.append(key) #добавление в список ключ из водимого \n",
    "                    #словаря, если нашлось совпадение между стройкой ячейки и значением одного из ключей\n",
    "              \n",
    "    new_table = pd.DataFrame(new_purposes_list) #создайм новый датафрейм из словаря, который в цикде уже был заполнен значениями.\n",
    "    data['new_purpose'] = new_table #легко и просто в столбец добавили новый датафрейм. Старый значения оставил специально.\n",
    "    return\n",
    "\n",
    "change_purpose(data, purposes_dict) \n",
    "    \n",
    "data.head(10)"
   ]
  },
  {
   "cell_type": "markdown",
   "metadata": {},
   "source": [
    "### Вывод"
   ]
  },
  {
   "cell_type": "markdown",
   "metadata": {},
   "source": [
    "Проведённая лемматизация позволила сузиться на основных категориях: свадьба, автомобиль, недвижимость, \n",
    "образование, ремонт.<br> \n",
    "Стемминг может быть полезнее лемматизации, если речь идёт о более сложном сравнении данных. <br> \n",
    "В датафрейм нельзя добавлять просто список. Для этого нужно создать словарь. <br> \n",
    "<br> \n",
    "<br> "
   ]
  },
  {
   "cell_type": "markdown",
   "metadata": {},
   "source": [
    "## Этап 3: Категоризация данных   \n",
    "Провожу анализ взаимосвязей:  \n",
    "1) Наличие детей у заёмщика и возврат займа в срок.\n",
    "2) Семейное положение и возврат займа в срок.\n",
    "3) Уровень дохода и возврат кредита в срок.\n",
    "4) Цель кредита и его возврат в срок"
   ]
  },
  {
   "cell_type": "code",
   "execution_count": 1,
   "metadata": {},
   "outputs": [
    {
     "ename": "NameError",
     "evalue": "name 'data' is not defined",
     "output_type": "error",
     "traceback": [
      "\u001b[0;31m---------------------------------------------------------------------------\u001b[0m",
      "\u001b[0;31mNameError\u001b[0m                                 Traceback (most recent call last)",
      "\u001b[0;32m<ipython-input-1-93a42f1c3b13>\u001b[0m in \u001b[0;36m<module>\u001b[0;34m\u001b[0m\n\u001b[0;32m----> 1\u001b[0;31m \u001b[0mchildren_debt\u001b[0m \u001b[0;34m=\u001b[0m \u001b[0mdata\u001b[0m\u001b[0;34m[\u001b[0m\u001b[0;34m[\u001b[0m\u001b[0;34m'children'\u001b[0m\u001b[0;34m,\u001b[0m\u001b[0;34m'debt'\u001b[0m\u001b[0;34m]\u001b[0m\u001b[0;34m]\u001b[0m\u001b[0;34m\u001b[0m\u001b[0;34m\u001b[0m\u001b[0m\n\u001b[0m\u001b[1;32m      2\u001b[0m \u001b[0mdebt_grouped\u001b[0m \u001b[0;34m=\u001b[0m \u001b[0mchildren_debt\u001b[0m\u001b[0;34m.\u001b[0m\u001b[0mgroupby\u001b[0m\u001b[0;34m(\u001b[0m\u001b[0;34m'children'\u001b[0m\u001b[0;34m)\u001b[0m\u001b[0;34m.\u001b[0m\u001b[0msum\u001b[0m\u001b[0;34m(\u001b[0m\u001b[0;34m)\u001b[0m\u001b[0;34m\u001b[0m\u001b[0;34m\u001b[0m\u001b[0m\n\u001b[1;32m      3\u001b[0m \u001b[0;34m\u001b[0m\u001b[0m\n\u001b[1;32m      4\u001b[0m \u001b[0mparents_debt\u001b[0m \u001b[0;34m=\u001b[0m \u001b[0mdebt_grouped\u001b[0m\u001b[0;34m.\u001b[0m\u001b[0mloc\u001b[0m\u001b[0;34m[\u001b[0m\u001b[0;36m1\u001b[0m\u001b[0;34m:\u001b[0m\u001b[0;34m,\u001b[0m \u001b[0;34m'debt'\u001b[0m\u001b[0;34m]\u001b[0m\u001b[0;34m.\u001b[0m\u001b[0msum\u001b[0m\u001b[0;34m(\u001b[0m\u001b[0;34m)\u001b[0m\u001b[0;34m\u001b[0m\u001b[0;34m\u001b[0m\u001b[0m\n\u001b[1;32m      5\u001b[0m \u001b[0mchildless_debt\u001b[0m \u001b[0;34m=\u001b[0m \u001b[0mdebt_grouped\u001b[0m\u001b[0;34m.\u001b[0m\u001b[0mloc\u001b[0m\u001b[0;34m[\u001b[0m\u001b[0;36m0\u001b[0m\u001b[0;34m,\u001b[0m \u001b[0;34m'debt'\u001b[0m\u001b[0;34m]\u001b[0m\u001b[0;34m.\u001b[0m\u001b[0msum\u001b[0m\u001b[0;34m(\u001b[0m\u001b[0;34m)\u001b[0m\u001b[0;34m\u001b[0m\u001b[0;34m\u001b[0m\u001b[0m\n",
      "\u001b[0;31mNameError\u001b[0m: name 'data' is not defined"
     ]
    }
   ],
   "source": [
    "children_debt = data[['children','debt']] \n",
    "debt_grouped = children_debt.groupby('children').sum() \n",
    "\n",
    "parents_debt = debt_grouped.loc[1:, 'debt'].sum() \n",
    "childless_debt = debt_grouped.loc[0, 'debt'].sum()\n",
    "total_debt = parents_debt + childless_debt \n",
    "\n",
    "percent_total_debt = total_debt/len(data)\n",
    "\n",
    "percent_parents_debt = parents_debt / total_debt \n",
    "percent_childless_debt = childless_debt / total_debt \n",
    "\n",
    "family_data = data[['family_status', 'debt']]\n",
    "new_family_data = family_data.groupby('family_status').sum()\n",
    "\n",
    "col = ['family_status', 'count']\n",
    "notice_count = family_data['family_status'].value_counts() \n",
    "pd.DataFrame(data = notice_count, columns = col)\n",
    "notice_count = notice_count.reset_index() \n",
    "notice_count.set_axis(['family_status', 'count'],axis = 'columns',inplace = True) \n",
    "\n",
    "common_table = new_family_data.merge(notice_count, on='family_status', how='left')\n",
    "common_table\n",
    "common_table['ratio'] = common_table.loc[:,'debt']/common_table.loc[:,'count']\n",
    "\n",
    "income_debt = data[['total_income','debt']]\n",
    "income_debt = income_debt.sort_values('total_income', ascending = False)\n",
    "median_income = int(income_debt['total_income'].median())\n",
    "above_median = int(median_income + (median_income/4))\n",
    "below_median = int(median_income - (median_income/4))\n",
    "\n",
    "\n",
    "income_debt['income_groups'] = income_debt['total_income'].astype('str')\n",
    "\n",
    "def income_categories (income):\n",
    "    try:\n",
    "        if above_median > income > median_income:\n",
    "            return 'выше медианы'\n",
    "        elif income >= above_median:\n",
    "            return 'высокий доход'\n",
    "        elif median_income > income >= below_median:\n",
    "            return'ниже медианы'\n",
    "        elif below_median >= income:\n",
    "            return 'низкий доход'\n",
    "    except:\n",
    "        return 'Error'\n",
    "    return\n",
    "     \n",
    "income_debt['income_groups'] = income_debt['total_income'].apply(income_categories)\n",
    "\n",
    "result_income_debt = income_debt[['income_groups', 'debt']].groupby('income_groups').count()\n",
    "\n",
    "purposes_debt = data[['new_purpose','debt']]\n",
    "\n",
    "\n",
    "number_categories = purposes_debt['new_purpose'].value_counts()\n",
    "purposes_debt = purposes_debt.groupby('new_purpose').sum()\n",
    "purposes_debt['number'] = number_categories\n",
    "purposes_debt['ratio'] = purposes_debt['debt']/purposes_debt['number']\n"
   ]
  },
  {
   "cell_type": "markdown",
   "metadata": {},
   "source": [
    "### Вывод"
   ]
  },
  {
   "cell_type": "markdown",
   "metadata": {},
   "source": [
    "Категоризация данных произведена следующим образом:<br> \n",
    "<br> \n",
    "Для анализ взаимосвязи наличия детей у заёмщика и возвратом займа в срок в качестве исходных данных выбраны столбцы **children, debt**. Мне нужно было сопоставить факт наличия ребёнка со случаями невозврата кредита. Поэтому я посчитал общее количество невозвратов в % и распределил это количество на бездетных и клиентов с детьми.<br> \n",
    "<br> \n",
    "Для анализ взаимосвязи семейного положения и возвратом займа в срок в качестве исходных данных выбраны столбцы **family_status, debt**. По каждому семейному положению посчитал отношение количества случаев просрочки этой группы на общее количество записей этой группы.<br> \n",
    "<br> \n",
    "Для анализ взаимосвязи между уровнем дохода и возвратом кредита в срок в качестве исходных данных выбраны столбцы **total_income, debt**. Колонка с доходомо нужна была для понимания распределения уровня доходов. Были определены 4 категории суммы дохода. Каждая категория получила расчёт количества случае просрочки.<br> \n",
    "<br> \n",
    "Для анализ взаимосвязи цели кредита и его возвратом в срок в качестве исходных данных выбраны столбцы **new_purpose, debt**. После лемматизации были выявлены 5 основных групп целей. Для каждой категории было выявлено количество просрочек."
   ]
  },
  {
   "cell_type": "markdown",
   "metadata": {},
   "source": [
    "### Исслоедование зависимостей"
   ]
  },
  {
   "cell_type": "code",
   "execution_count": 7,
   "metadata": {},
   "outputs": [
    {
     "name": "stdout",
     "output_type": "stream",
     "text": [
      "Всего клиентов с просрочками: 8.083624%\n",
      "Из них клиентов с детьми: 38.908046%\n",
      "Из них бездетных клиентов: 61.091954%\n",
      "Разница в 1.6 раза\n"
     ]
    }
   ],
   "source": [
    "print('Всего клиентов с просрочками: {:%}'.format(percent_total_debt))\n",
    "print('Из них клиентов с детьми: {:%}'.format(percent_parents_debt))\n",
    "print('Из них бездетных клиентов: {:%}'.format(percent_childless_debt))\n",
    "print('Разница в {:.2} раза'.format(percent_childless_debt/percent_parents_debt))"
   ]
  },
  {
   "cell_type": "markdown",
   "metadata": {},
   "source": [
    "### Вывод"
   ]
  },
  {
   "cell_type": "markdown",
   "metadata": {},
   "source": [
    "Бездетные клиенты оказались более неблагонадёжными заёмщиками, нежели клиенты с детьми.\n"
   ]
  },
  {
   "cell_type": "code",
   "execution_count": 8,
   "metadata": {},
   "outputs": [
    {
     "data": {
      "text/html": [
       "<div>\n",
       "<style scoped>\n",
       "    .dataframe tbody tr th:only-of-type {\n",
       "        vertical-align: middle;\n",
       "    }\n",
       "\n",
       "    .dataframe tbody tr th {\n",
       "        vertical-align: top;\n",
       "    }\n",
       "\n",
       "    .dataframe thead th {\n",
       "        text-align: right;\n",
       "    }\n",
       "</style>\n",
       "<table border=\"1\" class=\"dataframe\">\n",
       "  <thead>\n",
       "    <tr style=\"text-align: right;\">\n",
       "      <th></th>\n",
       "      <th>family_status</th>\n",
       "      <th>debt</th>\n",
       "      <th>count</th>\n",
       "      <th>ratio</th>\n",
       "    </tr>\n",
       "  </thead>\n",
       "  <tbody>\n",
       "    <tr>\n",
       "      <td>4</td>\n",
       "      <td>не женат / не замужем</td>\n",
       "      <td>274</td>\n",
       "      <td>2813</td>\n",
       "      <td>0.097405</td>\n",
       "    </tr>\n",
       "    <tr>\n",
       "      <td>2</td>\n",
       "      <td>гражданский брак</td>\n",
       "      <td>388</td>\n",
       "      <td>4177</td>\n",
       "      <td>0.092890</td>\n",
       "    </tr>\n",
       "    <tr>\n",
       "      <td>3</td>\n",
       "      <td>женат / замужем</td>\n",
       "      <td>931</td>\n",
       "      <td>12380</td>\n",
       "      <td>0.075202</td>\n",
       "    </tr>\n",
       "    <tr>\n",
       "      <td>0</td>\n",
       "      <td>в разводе</td>\n",
       "      <td>85</td>\n",
       "      <td>1195</td>\n",
       "      <td>0.071130</td>\n",
       "    </tr>\n",
       "    <tr>\n",
       "      <td>1</td>\n",
       "      <td>вдовец / вдова</td>\n",
       "      <td>63</td>\n",
       "      <td>960</td>\n",
       "      <td>0.065625</td>\n",
       "    </tr>\n",
       "  </tbody>\n",
       "</table>\n",
       "</div>"
      ],
      "text/plain": [
       "           family_status  debt  count     ratio\n",
       "4  не женат / не замужем   274   2813  0.097405\n",
       "2       гражданский брак   388   4177  0.092890\n",
       "3        женат / замужем   931  12380  0.075202\n",
       "0              в разводе    85   1195  0.071130\n",
       "1         вдовец / вдова    63    960  0.065625"
      ]
     },
     "execution_count": 8,
     "metadata": {},
     "output_type": "execute_result"
    }
   ],
   "source": [
    "common_table.sort_values(by = 'ratio', ascending = False)\n"
   ]
  },
  {
   "cell_type": "markdown",
   "metadata": {},
   "source": [
    "### Вывод"
   ]
  },
  {
   "cell_type": "markdown",
   "metadata": {},
   "source": [
    "**Самыми неблагонажёными** заёмщиками оказались люди без офицально закреплённых отношений со статусами: <br> \n",
    "не женат / не замужем и гражданский брак. Вероятно, эти категории могут быть объеденены в одну.<br> \n",
    "<br> \n",
    "Имеющие или имевшие статус нахождения в официальном браке заняли второе место.<br> \n",
    "\n",
    "*Удивительный факт: самыми благонадёжными заёмщиками оказались вдовцы и вдовы*\n",
    "\n",
    "\n"
   ]
  },
  {
   "cell_type": "code",
   "execution_count": 9,
   "metadata": {},
   "outputs": [
    {
     "data": {
      "text/html": [
       "<div>\n",
       "<style scoped>\n",
       "    .dataframe tbody tr th:only-of-type {\n",
       "        vertical-align: middle;\n",
       "    }\n",
       "\n",
       "    .dataframe tbody tr th {\n",
       "        vertical-align: top;\n",
       "    }\n",
       "\n",
       "    .dataframe thead th {\n",
       "        text-align: right;\n",
       "    }\n",
       "</style>\n",
       "<table border=\"1\" class=\"dataframe\">\n",
       "  <thead>\n",
       "    <tr style=\"text-align: right;\">\n",
       "      <th></th>\n",
       "      <th>debt</th>\n",
       "    </tr>\n",
       "    <tr>\n",
       "      <th>income_groups</th>\n",
       "      <th></th>\n",
       "    </tr>\n",
       "  </thead>\n",
       "  <tbody>\n",
       "    <tr>\n",
       "      <td>высокий доход</td>\n",
       "      <td>6338</td>\n",
       "    </tr>\n",
       "    <tr>\n",
       "      <td>выше медианы</td>\n",
       "      <td>3337</td>\n",
       "    </tr>\n",
       "    <tr>\n",
       "      <td>ниже медианы</td>\n",
       "      <td>4174</td>\n",
       "    </tr>\n",
       "    <tr>\n",
       "      <td>низкий доход</td>\n",
       "      <td>5501</td>\n",
       "    </tr>\n",
       "  </tbody>\n",
       "</table>\n",
       "</div>"
      ],
      "text/plain": [
       "               debt\n",
       "income_groups      \n",
       "высокий доход  6338\n",
       "выше медианы   3337\n",
       "ниже медианы   4174\n",
       "низкий доход   5501"
      ]
     },
     "execution_count": 9,
     "metadata": {},
     "output_type": "execute_result"
    }
   ],
   "source": [
    "result_income_debt"
   ]
  },
  {
   "cell_type": "markdown",
   "metadata": {},
   "source": [
    "### Вывод"
   ]
  },
  {
   "cell_type": "markdown",
   "metadata": {},
   "source": [
    "Самыми благонадёжными заёмщиками показали люди с уровнем дохода, приближенным к медиане по выборе.<br> \n",
    "\"Хвосты\" распределения показали более негативную динамику.<br> \n",
    "Самыми неблагонадёжными оказались люди с наибольшим доходом.<br> \n",
    "Отметим, что лучший результа достался с клиентами, которые имеют доход выше медианы, но не вошли в список самых состоятельных.<br> \n",
    "<br> \n",
    "**Можно сделать вывод о том, что лучшим заёмщиком оказался представитель среднего класса.**"
   ]
  },
  {
   "cell_type": "code",
   "execution_count": 10,
   "metadata": {},
   "outputs": [
    {
     "data": {
      "text/html": [
       "<div>\n",
       "<style scoped>\n",
       "    .dataframe tbody tr th:only-of-type {\n",
       "        vertical-align: middle;\n",
       "    }\n",
       "\n",
       "    .dataframe tbody tr th {\n",
       "        vertical-align: top;\n",
       "    }\n",
       "\n",
       "    .dataframe thead th {\n",
       "        text-align: right;\n",
       "    }\n",
       "</style>\n",
       "<table border=\"1\" class=\"dataframe\">\n",
       "  <thead>\n",
       "    <tr style=\"text-align: right;\">\n",
       "      <th></th>\n",
       "      <th>debt</th>\n",
       "      <th>number</th>\n",
       "      <th>ratio</th>\n",
       "    </tr>\n",
       "    <tr>\n",
       "      <th>new_purpose</th>\n",
       "      <th></th>\n",
       "      <th></th>\n",
       "      <th></th>\n",
       "    </tr>\n",
       "  </thead>\n",
       "  <tbody>\n",
       "    <tr>\n",
       "      <td>автомобиль</td>\n",
       "      <td>403</td>\n",
       "      <td>4315</td>\n",
       "      <td>0.093395</td>\n",
       "    </tr>\n",
       "    <tr>\n",
       "      <td>недвижимость</td>\n",
       "      <td>747</td>\n",
       "      <td>10228</td>\n",
       "      <td>0.073035</td>\n",
       "    </tr>\n",
       "    <tr>\n",
       "      <td>образование</td>\n",
       "      <td>370</td>\n",
       "      <td>4022</td>\n",
       "      <td>0.091994</td>\n",
       "    </tr>\n",
       "    <tr>\n",
       "      <td>ремонт</td>\n",
       "      <td>35</td>\n",
       "      <td>612</td>\n",
       "      <td>0.057190</td>\n",
       "    </tr>\n",
       "    <tr>\n",
       "      <td>свадьба</td>\n",
       "      <td>186</td>\n",
       "      <td>2348</td>\n",
       "      <td>0.079216</td>\n",
       "    </tr>\n",
       "  </tbody>\n",
       "</table>\n",
       "</div>"
      ],
      "text/plain": [
       "              debt  number     ratio\n",
       "new_purpose                         \n",
       "автомобиль     403    4315  0.093395\n",
       "недвижимость   747   10228  0.073035\n",
       "образование    370    4022  0.091994\n",
       "ремонт          35     612  0.057190\n",
       "свадьба        186    2348  0.079216"
      ]
     },
     "execution_count": 10,
     "metadata": {},
     "output_type": "execute_result"
    }
   ],
   "source": [
    "purposes_debt"
   ]
  },
  {
   "cell_type": "markdown",
   "metadata": {},
   "source": [
    "### Вывод"
   ]
  },
  {
   "cell_type": "markdown",
   "metadata": {},
   "source": [
    "Чаще всего просрочка вознекает по кредиту, взятому на покупку автомобиля или получение образования.<br> \n",
    "\"Свадебные\" кредиты и займы с целью покупки недвижимости имею практически равный процент случаев просрочки.<br> \n",
    "Самыми благонадёжными оказались желающие сделать дома ремонт, однако выборка по данной категории оказалсь самой небольшой.\n"
   ]
  },
  {
   "cell_type": "markdown",
   "metadata": {},
   "source": [
    "### Общий вывод"
   ]
  },
  {
   "cell_type": "markdown",
   "metadata": {},
   "source": [
    "Анализ позволил разобраться в 4 факторах, которые могут стать базой для определения степени благонадёжности клиента:\n",
    "<br> 1) цель кредита\n",
    "<br> 2) семейное положение\n",
    "<br> 3) категория уровня дохода\n",
    "<br> 4) наличие детей\n",
    "\n",
    "Например, на основе полученны данных можно сформировать портрет идеального заёмщика:\n",
    "<br> 1) Это женатый человек (или вдовец/вдова) с детьми\n",
    "<br> 2) С достатком выше медианы, но не входящий в группу с высоким доходом.\n",
    "<br> 3) Цель кредита: ремонт.\n"
   ]
  }
 ],
 "metadata": {
  "kernelspec": {
   "display_name": "Python 3",
   "language": "python",
   "name": "python3"
  },
  "language_info": {
   "codemirror_mode": {
    "name": "ipython",
    "version": 3
   },
   "file_extension": ".py",
   "mimetype": "text/x-python",
   "name": "python",
   "nbconvert_exporter": "python",
   "pygments_lexer": "ipython3",
   "version": "3.7.6"
  }
 },
 "nbformat": 4,
 "nbformat_minor": 2
}
