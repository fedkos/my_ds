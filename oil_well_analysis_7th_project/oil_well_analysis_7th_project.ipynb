{
 "cells": [
  {
   "cell_type": "markdown",
   "metadata": {},
   "source": [
    "## Этап 1: Загрузка и предобработка данных"
   ]
  },
  {
   "cell_type": "code",
   "execution_count": 2,
   "metadata": {},
   "outputs": [],
   "source": [
    "import pandas as pd\n",
    "import numpy as np\n",
    "import matplotlib as pyplot\n",
    "pd.options.mode.chained_assignment = None\n"
   ]
  },
  {
   "cell_type": "code",
   "execution_count": 3,
   "metadata": {},
   "outputs": [],
   "source": [
    "geo_data_0 = pd.read_csv('datasets/geo_data_0.csv')\n",
    "geo_data_1 = pd.read_csv('datasets/geo_data_1.csv')\n",
    "geo_data_2 = pd.read_csv('datasets/geo_data_2.csv')"
   ]
  },
  {
   "cell_type": "code",
   "execution_count": 4,
   "metadata": {},
   "outputs": [
    {
     "name": "stdout",
     "output_type": "stream",
     "text": [
      "<class 'pandas.core.frame.DataFrame'>\n",
      "RangeIndex: 100000 entries, 0 to 99999\n",
      "Data columns (total 5 columns):\n",
      " #   Column   Non-Null Count   Dtype  \n",
      "---  ------   --------------   -----  \n",
      " 0   id       100000 non-null  object \n",
      " 1   f0       100000 non-null  float64\n",
      " 2   f1       100000 non-null  float64\n",
      " 3   f2       100000 non-null  float64\n",
      " 4   product  100000 non-null  float64\n",
      "dtypes: float64(4), object(1)\n",
      "memory usage: 3.8+ MB\n",
      "<class 'pandas.core.frame.DataFrame'>\n",
      "RangeIndex: 100000 entries, 0 to 99999\n",
      "Data columns (total 5 columns):\n",
      " #   Column   Non-Null Count   Dtype  \n",
      "---  ------   --------------   -----  \n",
      " 0   id       100000 non-null  object \n",
      " 1   f0       100000 non-null  float64\n",
      " 2   f1       100000 non-null  float64\n",
      " 3   f2       100000 non-null  float64\n",
      " 4   product  100000 non-null  float64\n",
      "dtypes: float64(4), object(1)\n",
      "memory usage: 3.8+ MB\n",
      "<class 'pandas.core.frame.DataFrame'>\n",
      "RangeIndex: 100000 entries, 0 to 99999\n",
      "Data columns (total 5 columns):\n",
      " #   Column   Non-Null Count   Dtype  \n",
      "---  ------   --------------   -----  \n",
      " 0   id       100000 non-null  object \n",
      " 1   f0       100000 non-null  float64\n",
      " 2   f1       100000 non-null  float64\n",
      " 3   f2       100000 non-null  float64\n",
      " 4   product  100000 non-null  float64\n",
      "dtypes: float64(4), object(1)\n",
      "memory usage: 3.8+ MB\n"
     ]
    },
    {
     "data": {
      "text/html": [
       "<div>\n",
       "<style scoped>\n",
       "    .dataframe tbody tr th:only-of-type {\n",
       "        vertical-align: middle;\n",
       "    }\n",
       "\n",
       "    .dataframe tbody tr th {\n",
       "        vertical-align: top;\n",
       "    }\n",
       "\n",
       "    .dataframe thead th {\n",
       "        text-align: right;\n",
       "    }\n",
       "</style>\n",
       "<table border=\"1\" class=\"dataframe\">\n",
       "  <thead>\n",
       "    <tr style=\"text-align: right;\">\n",
       "      <th></th>\n",
       "      <th>id</th>\n",
       "      <th>f0</th>\n",
       "      <th>f1</th>\n",
       "      <th>f2</th>\n",
       "      <th>product</th>\n",
       "    </tr>\n",
       "  </thead>\n",
       "  <tbody>\n",
       "    <tr>\n",
       "      <th>0</th>\n",
       "      <td>txEyH</td>\n",
       "      <td>0.705745</td>\n",
       "      <td>-0.497823</td>\n",
       "      <td>1.221170</td>\n",
       "      <td>105.280062</td>\n",
       "    </tr>\n",
       "    <tr>\n",
       "      <th>1</th>\n",
       "      <td>2acmU</td>\n",
       "      <td>1.334711</td>\n",
       "      <td>-0.340164</td>\n",
       "      <td>4.365080</td>\n",
       "      <td>73.037750</td>\n",
       "    </tr>\n",
       "    <tr>\n",
       "      <th>2</th>\n",
       "      <td>409Wp</td>\n",
       "      <td>1.022732</td>\n",
       "      <td>0.151990</td>\n",
       "      <td>1.419926</td>\n",
       "      <td>85.265647</td>\n",
       "    </tr>\n",
       "    <tr>\n",
       "      <th>3</th>\n",
       "      <td>iJLyR</td>\n",
       "      <td>-0.032172</td>\n",
       "      <td>0.139033</td>\n",
       "      <td>2.978566</td>\n",
       "      <td>168.620776</td>\n",
       "    </tr>\n",
       "    <tr>\n",
       "      <th>4</th>\n",
       "      <td>Xdl7t</td>\n",
       "      <td>1.988431</td>\n",
       "      <td>0.155413</td>\n",
       "      <td>4.751769</td>\n",
       "      <td>154.036647</td>\n",
       "    </tr>\n",
       "  </tbody>\n",
       "</table>\n",
       "</div>"
      ],
      "text/plain": [
       "      id        f0        f1        f2     product\n",
       "0  txEyH  0.705745 -0.497823  1.221170  105.280062\n",
       "1  2acmU  1.334711 -0.340164  4.365080   73.037750\n",
       "2  409Wp  1.022732  0.151990  1.419926   85.265647\n",
       "3  iJLyR -0.032172  0.139033  2.978566  168.620776\n",
       "4  Xdl7t  1.988431  0.155413  4.751769  154.036647"
      ]
     },
     "execution_count": 4,
     "metadata": {},
     "output_type": "execute_result"
    }
   ],
   "source": [
    "geo_data_0.info()\n",
    "geo_data_1.info()\n",
    "geo_data_2.info()\n",
    "geo_data_0.head()\n"
   ]
  },
  {
   "cell_type": "code",
   "execution_count": 6,
   "metadata": {},
   "outputs": [
    {
     "data": {
      "text/plain": [
       "<matplotlib.axes._subplots.AxesSubplot at 0x11e5441c0>"
      ]
     },
     "execution_count": 6,
     "metadata": {},
     "output_type": "execute_result"
    },
    {
     "data": {
      "image/png": "[encoded data removed]",
      "text/plain": [
       "<Figure size 432x288 with 1 Axes>"
      ]
     },
     "metadata": {
      "needs_background": "light"
     },
     "output_type": "display_data"
    }
   ],
   "source": [
    "geo_data_0['f2'].hist(bins = 30)"
   ]
  },
  {
   "cell_type": "markdown",
   "metadata": {},
   "source": [
    "#### Загрузка и подготовка данных   \n",
    "Данные загружены, пропусков нет, тип для данных указан верный.   \n",
    "Просмотрел расброс данных признаков с помощью гистограммы.  Признаки f2 распределены более нормально, без выбросов.  "
   ]
  },
  {
   "cell_type": "markdown",
   "metadata": {},
   "source": [
    "## Этап 2: Подготовка выборок, тестирование моделей"
   ]
  },
  {
   "cell_type": "markdown",
   "metadata": {},
   "source": [
    "### Обучение модели по данным geo_0"
   ]
  },
  {
   "cell_type": "code",
   "execution_count": 64,
   "metadata": {},
   "outputs": [],
   "source": [
    "from sklearn.model_selection import train_test_split"
   ]
  },
  {
   "cell_type": "code",
   "execution_count": 32,
   "metadata": {},
   "outputs": [],
   "source": [
    "target_geo_0 = geo_data_0['product']\n",
    "features_geo_0 = geo_data_0.drop(['product','id'], axis=1)\n",
    "\n",
    "features_train0, features_valid0, target_train0, target_valid0 = train_test_split(\n",
    "    features_geo_0, target_geo_0, test_size=0.25, random_state=12345)"
   ]
  },
  {
   "cell_type": "code",
   "execution_count": 33,
   "metadata": {},
   "outputs": [
    {
     "data": {
      "text/plain": [
       "37.5794217150813"
      ]
     },
     "execution_count": 33,
     "metadata": {},
     "output_type": "execute_result"
    }
   ],
   "source": [
    "from sklearn.linear_model import LinearRegression\n",
    "from sklearn.metrics import mean_squared_error\n",
    "\n",
    "model = LinearRegression()\n",
    "model.fit(features_train0, target_train0)\n",
    "model_predicted_geo0 = model.predict(features_valid0)\n",
    "result = mean_squared_error(target_valid0, model_predicted_geo0)\n",
    "rmse_model_geo_0 = result**0.5"
   ]
  },
  {
   "cell_type": "code",
   "execution_count": 34,
   "metadata": {},
   "outputs": [
    {
     "data": {
      "text/plain": [
       "44.289591053907365"
      ]
     },
     "execution_count": 34,
     "metadata": {},
     "output_type": "execute_result"
    }
   ],
   "source": [
    "#сравнение со случайной величиной (средним)\n",
    "predictions_mean = pd.Series(target_train0.mean(), index = target_valid0.index)\n",
    "mse_mean_series = mean_squared_error(target_valid0, predictions_mean)\n",
    "mse_mean_series**0.5"
   ]
  },
  {
   "cell_type": "code",
   "execution_count": 35,
   "metadata": {},
   "outputs": [],
   "source": [
    "def model_predict (features_train, features_valid, target_train, target_valid):\n",
    "    model = LinearRegression()\n",
    "    model.fit(features_train, target_train)\n",
    "    model_predicted = model.predict(features_valid)\n",
    "    model_predicted_mean = model_predicted.mean()\n",
    "    result = mean_squared_error(target_valid, model_predicted)\n",
    "    rmse_model = result**0.5\n",
    "    predictions_mean = pd.Series(target_valid.mean(), index = target_valid.index)\n",
    "    mse_mean_series = mean_squared_error(target_valid, predictions_mean)\n",
    "    rmse_mean = mse_mean_series**0.5\n",
    "    return 'Model RMSE:', rmse_model, 'Mean RMSE:', rmse_mean, 'Predictions mean:', model_predicted_mean\n",
    "        "
   ]
  },
  {
   "cell_type": "code",
   "execution_count": 36,
   "metadata": {},
   "outputs": [
    {
     "name": "stdout",
     "output_type": "stream",
     "text": [
      "geo_0: ('Model RMSE:', 37.5794217150813, 'Mean RMSE:', 44.28602687855358, 'Predictions mean:', 92.59256778438038)\n"
     ]
    }
   ],
   "source": [
    "print('geo_0:', model_predict(features_train0, features_valid0, target_train0, target_valid0))"
   ]
  },
  {
   "cell_type": "code",
   "execution_count": 38,
   "metadata": {},
   "outputs": [],
   "source": [
    "model_predicted_geo0\n",
    "target_valid0\n",
    "geo_0_rmse = 37.5794217150813\n",
    "geo_0_mean_rmse = 44.289591053907365\n",
    "geo_0_pred_mean = 92.59256778438038\n"
   ]
  },
  {
   "cell_type": "markdown",
   "metadata": {},
   "source": [
    "### Обучение модели по данным geo_1"
   ]
  },
  {
   "cell_type": "code",
   "execution_count": 39,
   "metadata": {},
   "outputs": [],
   "source": [
    "target_geo_1 = geo_data_1['product']\n",
    "features_geo_1 = geo_data_1.drop(['product','id'], axis=1)\n",
    "\n",
    "features_train1, features_valid1, target_train1, target_valid1 = train_test_split(\n",
    "    features_geo_1, target_geo_1, test_size=0.25, random_state=12345)"
   ]
  },
  {
   "cell_type": "code",
   "execution_count": 40,
   "metadata": {},
   "outputs": [
    {
     "name": "stdout",
     "output_type": "stream",
     "text": [
      "geo_1: ('Model RMSE:', 0.893099286775616, 'Mean RMSE:', 46.0212449226281, 'Predictions mean:', 68.72854689544602)\n"
     ]
    }
   ],
   "source": [
    "print('geo_1:', model_predict(features_train1, features_valid1, target_train1, target_valid1))"
   ]
  },
  {
   "cell_type": "code",
   "execution_count": 65,
   "metadata": {},
   "outputs": [],
   "source": [
    "model.fit(features_train1, target_train1)\n",
    "model_predicted_geo1 = model.predict(features_valid1)\n",
    "result_geo1 = mean_squared_error(target_valid1, model_predicted_geo1)\n",
    "rmse_model_geo_1 = result**0.5"
   ]
  },
  {
   "cell_type": "code",
   "execution_count": 42,
   "metadata": {},
   "outputs": [],
   "source": [
    "model_predicted_geo1\n",
    "target_valid1\n",
    "geo_1_rmse = 0.8930992867756158\n",
    "geo_1_mean_rmse = 46.02144533725462\n",
    "geo_1_pred_mean = 68.728546895446\n"
   ]
  },
  {
   "cell_type": "markdown",
   "metadata": {},
   "source": [
    "### Обучение модели по данным geo_2"
   ]
  },
  {
   "cell_type": "code",
   "execution_count": 43,
   "metadata": {},
   "outputs": [],
   "source": [
    "target_geo_2 = geo_data_2['product']\n",
    "features_geo_2 = geo_data_2.drop(['product','id'], axis=1)\n",
    "\n",
    "features_train2, features_valid2, target_train2, target_valid2 = train_test_split(\n",
    "    features_geo_2, target_geo_2, test_size=0.25, random_state=12345)"
   ]
  },
  {
   "cell_type": "code",
   "execution_count": 44,
   "metadata": {},
   "outputs": [
    {
     "name": "stdout",
     "output_type": "stream",
     "text": [
      "geo_2: ('Model RMSE:', 40.02970873393434, 'Mean RMSE:', 44.902084376898294, 'Predictions mean:', 94.96504596800489)\n"
     ]
    }
   ],
   "source": [
    "print('geo_2:', model_predict(features_train2, features_valid2, target_train2, target_valid2))"
   ]
  },
  {
   "cell_type": "code",
   "execution_count": 66,
   "metadata": {},
   "outputs": [],
   "source": [
    "model.fit(features_train2, target_train2)\n",
    "model_predicted_geo2 = model.predict(features_valid2)\n",
    "result_geo2 = mean_squared_error(target_valid2, model_predicted_geo2)\n",
    "rmse_model_geo_2 = result**0.5\n"
   ]
  },
  {
   "cell_type": "code",
   "execution_count": 46,
   "metadata": {},
   "outputs": [],
   "source": [
    "model_predicted_geo2\n",
    "target_valid2\n",
    "target_valid_mean = target_valid2.mean()\n",
    "geo_2_rmse = 40.02970873393434\n",
    "geo_2_mean_rmse = 44.90234968510566\n",
    "geo_2_pred_mean = 94.96504596800489\n"
   ]
  },
  {
   "cell_type": "markdown",
   "metadata": {},
   "source": [
    "### Выводы:  \n",
    "Минимальный показатель RMSE выявлен в geo_1, однако в этом регионе самое низкое среднее значение по запасам.    \n",
    "Показатели RMSE модели стабильно ниже, чем RMSE средних значений валидационных выборок, с которым сравнивалась работа модели.  \n",
    "Делаю вывод об адекватности модели.  \n"
   ]
  },
  {
   "cell_type": "markdown",
   "metadata": {},
   "source": [
    "## Этап 3: Расчёт прибыли  "
   ]
  },
  {
   "cell_type": "code",
   "execution_count": 30,
   "metadata": {},
   "outputs": [
    {
     "data": {
      "text/html": [
       "<div>\n",
       "<style scoped>\n",
       "    .dataframe tbody tr th:only-of-type {\n",
       "        vertical-align: middle;\n",
       "    }\n",
       "\n",
       "    .dataframe tbody tr th {\n",
       "        vertical-align: top;\n",
       "    }\n",
       "\n",
       "    .dataframe thead th {\n",
       "        text-align: right;\n",
       "    }\n",
       "</style>\n",
       "<table border=\"1\" class=\"dataframe\">\n",
       "  <thead>\n",
       "    <tr style=\"text-align: right;\">\n",
       "      <th></th>\n",
       "      <th>index</th>\n",
       "      <th>value</th>\n",
       "    </tr>\n",
       "  </thead>\n",
       "  <tbody>\n",
       "    <tr>\n",
       "      <th>0</th>\n",
       "      <td>exploration cost</td>\n",
       "      <td>10000000000.0</td>\n",
       "    </tr>\n",
       "    <tr>\n",
       "      <th>1</th>\n",
       "      <td>income per unit</td>\n",
       "      <td>50000000.0</td>\n",
       "    </tr>\n",
       "    <tr>\n",
       "      <th>2</th>\n",
       "      <td>production per unit</td>\n",
       "      <td>111.111</td>\n",
       "    </tr>\n",
       "    <tr>\n",
       "      <th>3</th>\n",
       "      <td>total product per region</td>\n",
       "      <td>22222.222</td>\n",
       "    </tr>\n",
       "  </tbody>\n",
       "</table>\n",
       "</div>"
      ],
      "text/plain": [
       "                      index          value\n",
       "0          exploration cost  10000000000.0\n",
       "1           income per unit     50000000.0\n",
       "2       production per unit        111.111\n",
       "3  total product per region      22222.222"
      ]
     },
     "execution_count": 30,
     "metadata": {},
     "output_type": "execute_result"
    }
   ],
   "source": [
    "exploration_cost = 10000000000\n",
    "brl_price = 450000\n",
    "necessary_profit =  exploration_cost / 200\n",
    "unit_prod = necessary_profit / brl_price\n",
    "necessary_total_prod = exploration_cost/ brl_price\n",
    "\n",
    "estimate_table = pd.DataFrame({\n",
    "    'index':['exploration cost', 'income per unit', 'production per unit', 'total product per region'],\n",
    "    'value': [exploration_cost, necessary_profit, unit_prod, necessary_total_prod]\n",
    "})\n",
    "estimate_table['value'] = round(estimate_table['value'],3)\n",
    "estimate_table['value'] = estimate_table['value'].astype('str')\n",
    "estimate_table"
   ]
  },
  {
   "cell_type": "code",
   "execution_count": 51,
   "metadata": {},
   "outputs": [
    {
     "name": "stdout",
     "output_type": "stream",
     "text": [
      "Сравнение среднего значения запасов по каждому региону и необходимого:\n"
     ]
    },
    {
     "data": {
      "text/html": [
       "<div>\n",
       "<style scoped>\n",
       "    .dataframe tbody tr th:only-of-type {\n",
       "        vertical-align: middle;\n",
       "    }\n",
       "\n",
       "    .dataframe tbody tr th {\n",
       "        vertical-align: top;\n",
       "    }\n",
       "\n",
       "    .dataframe thead th {\n",
       "        text-align: right;\n",
       "    }\n",
       "</style>\n",
       "<table border=\"1\" class=\"dataframe\">\n",
       "  <thead>\n",
       "    <tr style=\"text-align: right;\">\n",
       "      <th></th>\n",
       "      <th>geo</th>\n",
       "      <th>value</th>\n",
       "      <th>ration with necessary</th>\n",
       "    </tr>\n",
       "  </thead>\n",
       "  <tbody>\n",
       "    <tr>\n",
       "      <th>0</th>\n",
       "      <td>0</td>\n",
       "      <td>92.592568</td>\n",
       "      <td>0.833333</td>\n",
       "    </tr>\n",
       "    <tr>\n",
       "      <th>1</th>\n",
       "      <td>1</td>\n",
       "      <td>68.728547</td>\n",
       "      <td>0.618557</td>\n",
       "    </tr>\n",
       "    <tr>\n",
       "      <th>2</th>\n",
       "      <td>2</td>\n",
       "      <td>94.965046</td>\n",
       "      <td>0.854685</td>\n",
       "    </tr>\n",
       "    <tr>\n",
       "      <th>3</th>\n",
       "      <td>necessary</td>\n",
       "      <td>111.111111</td>\n",
       "      <td>1.000000</td>\n",
       "    </tr>\n",
       "  </tbody>\n",
       "</table>\n",
       "</div>"
      ],
      "text/plain": [
       "         geo       value  ration with necessary\n",
       "0          0   92.592568               0.833333\n",
       "1          1   68.728547               0.618557\n",
       "2          2   94.965046               0.854685\n",
       "3  necessary  111.111111               1.000000"
      ]
     },
     "execution_count": 51,
     "metadata": {},
     "output_type": "execute_result"
    }
   ],
   "source": [
    "compare_mean_result = pd.DataFrame({\n",
    "    'geo': [0, 1, 2, 'necessary'], 'value': [geo_0_pred_mean, geo_1_pred_mean, geo_2_pred_mean, unit_prod]\n",
    "})\n",
    "compare_mean_result['ration with necessary'] = compare_mean_result['value']/unit_prod\n",
    "print('Сравнение среднего значения запасов по каждому региону и необходимого:')\n",
    "compare_mean_result"
   ]
  },
  {
   "cell_type": "markdown",
   "metadata": {},
   "source": [
    "### Выводы по п. 3:  \n",
    "Для выхода в безубыток каждое из 200 месторождений должно приносить не менее 50 млн. выручки.  \n",
    "Каждое из 200 месторождений должно принести не менее 111.111 тыс. баррелей.  \n",
    "Суммарный объём сырья в регионе должен быть не менее 22222.222 тыс. баррелей.  \n",
    "Сравнение средних значений прогноза по всем трём регионам оказалось ниже необходимого значения на 25-38%.  "
   ]
  },
  {
   "cell_type": "code",
   "execution_count": 55,
   "metadata": {},
   "outputs": [],
   "source": [
    "from numpy.random import RandomState\n",
    "\n",
    "def profit (target, probabilities):\n",
    "    state = np.random.RandomState()\n",
    "    target = pd.Series(target)\n",
    "    probabilities = pd.Series(probabilities)\n",
    "    probabilities.index = target.index\n",
    "    prob_sample = probabilities.sample(n = 500, replace=True, random_state=state)\n",
    "    probs_sorted = prob_sample.sort_values(ascending=False)\n",
    "    selected = target[probs_sorted.index][:200]\n",
    "    return brl_price * selected.sum() - exploration_cost\n",
    "    \n"
   ]
  },
  {
   "cell_type": "markdown",
   "metadata": {},
   "source": [
    "Функция расчёта прибыли принимает на вход реальные значения и предсказания.  \n",
    "Из выборки с предсказаниями выбираются 500 случайных.  \n",
    "Из 500 случайных отбираются 200 с наибольшим результатом по запасам.  \n",
    "По индексам 200 отобранных предсказаниц, мы обращаемся к реальным данным по отобранным скважинам.  \n",
    "Рассчёт прибыли ведём по реальным данным: умножаем стоимость 1000 баррелей на сумму запасов выборки.  \n",
    "Из получившегося значения вычитаем расходы на освоение региона.  "
   ]
  },
  {
   "cell_type": "markdown",
   "metadata": {},
   "source": [
    "## Этап 4: Анализ рисков  "
   ]
  },
  {
   "cell_type": "code",
   "execution_count": 60,
   "metadata": {},
   "outputs": [],
   "source": [
    "values_geo0 = []\n",
    "count_geo0 = 0\n",
    "for i in range(1000):\n",
    "    result = profit(target_valid0, model_predicted_geo0)\n",
    "    values_geo0.append(result)\n",
    "    if result < 0:\n",
    "        count_geo0+=1\n",
    "\n",
    "values_geo1 = []\n",
    "count_geo1 = 0\n",
    "for i in range(1000):\n",
    "    result = profit(target_valid1, model_predicted_geo1)\n",
    "    values_geo1.append(result)\n",
    "    if result < 0:\n",
    "        count_geo1+=1\n",
    "\n",
    "values_geo2 = []\n",
    "count_geo2 = 0\n",
    "for i in range(1000):\n",
    "    result = profit(target_valid2, model_predicted_geo2)\n",
    "    values_geo2.append(result)\n",
    "    if result < 0:\n",
    "        count_geo2+=1\n",
    "\n",
    "    \n"
   ]
  },
  {
   "cell_type": "code",
   "execution_count": 61,
   "metadata": {},
   "outputs": [],
   "source": [
    "from scipy.stats import t\n",
    "\n",
    "bootstrap_data_geo0 = pd.Series(values_geo0)\n",
    "mean_geo0 = bootstrap_data_geo0.mean()\n",
    "confidence_interval_geo0 = t.interval(0.95, len(values_geo0)-1, mean_geo0, bootstrap_data_geo0.sem())\n",
    "pvalue_geo0 = 1. * count_geo0 / 1000\n",
    "\n",
    "bootstrap_data_geo1 = pd.Series(values_geo1)\n",
    "mean_geo1 = bootstrap_data_geo1.mean()\n",
    "confidence_interval_geo1 = t.interval(0.95, len(values_geo1)-1, mean_geo1, bootstrap_data_geo1.sem())\n",
    "pvalue_geo1 = 1. * count_geo1 / 1000\n",
    "\n",
    "bootstrap_data_geo2 = pd.Series(values_geo2)\n",
    "mean_geo2 = bootstrap_data_geo2.mean()\n",
    "confidence_interval_geo2 = t.interval(0.95, len(values_geo2)-1, mean_geo2, bootstrap_data_geo2.sem())\n",
    "pvalue_geo2 = 1. * count_geo2 / 1000\n",
    "\n",
    "\n",
    "\n"
   ]
  },
  {
   "cell_type": "code",
   "execution_count": 62,
   "metadata": {},
   "outputs": [],
   "source": [
    "common_result = pd.DataFrame({\n",
    "    'geo': [0, 1, 2], 'mean': [mean_geo0, mean_geo1, mean_geo2],\n",
    "    'confidence interval': [confidence_interval_geo0, confidence_interval_geo1, confidence_interval_geo2],\n",
    "    'loss probabilities':[pvalue_geo0, pvalue_geo1, pvalue_geo2]\n",
    "\n",
    "})"
   ]
  },
  {
   "cell_type": "code",
   "execution_count": 63,
   "metadata": {},
   "outputs": [
    {
     "data": {
      "text/html": [
       "<div>\n",
       "<style scoped>\n",
       "    .dataframe tbody tr th:only-of-type {\n",
       "        vertical-align: middle;\n",
       "    }\n",
       "\n",
       "    .dataframe tbody tr th {\n",
       "        vertical-align: top;\n",
       "    }\n",
       "\n",
       "    .dataframe thead th {\n",
       "        text-align: right;\n",
       "    }\n",
       "</style>\n",
       "<table border=\"1\" class=\"dataframe\">\n",
       "  <thead>\n",
       "    <tr style=\"text-align: right;\">\n",
       "      <th></th>\n",
       "      <th>geo</th>\n",
       "      <th>mean</th>\n",
       "      <th>confidence interval</th>\n",
       "      <th>loss probabilities</th>\n",
       "    </tr>\n",
       "  </thead>\n",
       "  <tbody>\n",
       "    <tr>\n",
       "      <th>0</th>\n",
       "      <td>0</td>\n",
       "      <td>385227599</td>\n",
       "      <td>(368917134.7846566, 401538064.6448205)</td>\n",
       "      <td>0.066</td>\n",
       "    </tr>\n",
       "    <tr>\n",
       "      <th>1</th>\n",
       "      <td>1</td>\n",
       "      <td>456888286</td>\n",
       "      <td>(444122573.8748333, 469653999.57484335)</td>\n",
       "      <td>0.017</td>\n",
       "    </tr>\n",
       "    <tr>\n",
       "      <th>2</th>\n",
       "      <td>2</td>\n",
       "      <td>391546627</td>\n",
       "      <td>(374981378.2756602, 408111876.55800647)</td>\n",
       "      <td>0.073</td>\n",
       "    </tr>\n",
       "  </tbody>\n",
       "</table>\n",
       "</div>"
      ],
      "text/plain": [
       "   geo       mean                      confidence interval  loss probabilities\n",
       "0    0  385227599   (368917134.7846566, 401538064.6448205)               0.066\n",
       "1    1  456888286  (444122573.8748333, 469653999.57484335)               0.017\n",
       "2    2  391546627  (374981378.2756602, 408111876.55800647)               0.073"
      ]
     },
     "execution_count": 63,
     "metadata": {},
     "output_type": "execute_result"
    }
   ],
   "source": [
    "common_result['mean'] = common_result['mean'].astype(int)\n",
    "common_result"
   ]
  },
  {
   "cell_type": "markdown",
   "metadata": {},
   "source": [
    "# Выводы. \n",
    "Исследование показало, что разработка региона 1 является наиболее рациональным решением, поскольку:  \n",
    "1) Самое высокое значение средней прибыли после масштабных опытов с Bootstrap.  \n",
    "2) Самая низкая (единственно допустимая) вероятность убытка.  \n",
    "\n"
   ]
  }
 ],
 "metadata": {
  "kernelspec": {
   "display_name": "Python 3",
   "language": "python",
   "name": "python3"
  },
  "language_info": {
   "codemirror_mode": {
    "name": "ipython",
    "version": 3
   },
   "file_extension": ".py",
   "mimetype": "text/x-python",
   "name": "python",
   "nbconvert_exporter": "python",
   "pygments_lexer": "ipython3",
   "version": "3.7.6"
  }
 },
 "nbformat": 4,
 "nbformat_minor": 4
}
