{
 "cells": [
  {
   "cell_type": "markdown",
   "metadata": {},
   "source": [
    "## Этап 1: Предобработка данных"
   ]
  },
  {
   "cell_type": "code",
   "execution_count": 5,
   "metadata": {},
   "outputs": [],
   "source": [
    "import pandas as pd\n",
    "import numpy as np\n",
    "import matplotlib.pyplot as plt\n",
    "from sklearn.metrics import roc_auc_score\n",
    "from sklearn.metrics import roc_curve\n",
    "from sklearn.model_selection import train_test_split\n",
    "from sklearn.tree import DecisionTreeClassifier\n",
    "from sklearn.metrics import confusion_matrix\n",
    "from sklearn.metrics import recall_score\n",
    "from sklearn.metrics import precision_score\n",
    "from sklearn.metrics import f1_score\n",
    "from sklearn.linear_model import LogisticRegression\n",
    "from sklearn.utils import shuffle\n",
    "from sklearn.ensemble import RandomForestClassifier\n",
    "from sklearn.metrics import roc_curve\n"
   ]
  },
  {
   "cell_type": "code",
   "execution_count": 6,
   "metadata": {},
   "outputs": [
    {
     "name": "stdout",
     "output_type": "stream",
     "text": [
      "<class 'pandas.core.frame.DataFrame'>\n",
      "RangeIndex: 10000 entries, 0 to 9999\n",
      "Data columns (total 14 columns):\n",
      " #   Column           Non-Null Count  Dtype  \n",
      "---  ------           --------------  -----  \n",
      " 0   RowNumber        10000 non-null  int64  \n",
      " 1   CustomerId       10000 non-null  int64  \n",
      " 2   Surname          10000 non-null  object \n",
      " 3   CreditScore      10000 non-null  int64  \n",
      " 4   Geography        10000 non-null  object \n",
      " 5   Gender           10000 non-null  object \n",
      " 6   Age              10000 non-null  int64  \n",
      " 7   Tenure           9091 non-null   float64\n",
      " 8   Balance          10000 non-null  float64\n",
      " 9   NumOfProducts    10000 non-null  int64  \n",
      " 10  HasCrCard        10000 non-null  int64  \n",
      " 11  IsActiveMember   10000 non-null  int64  \n",
      " 12  EstimatedSalary  10000 non-null  float64\n",
      " 13  Exited           10000 non-null  int64  \n",
      "dtypes: float64(3), int64(8), object(3)\n",
      "memory usage: 1.1+ MB\n"
     ]
    }
   ],
   "source": [
    "data = pd.read_csv('/datasets/Churn.csv')\n",
    "data.info()"
   ]
  },
  {
   "cell_type": "markdown",
   "metadata": {},
   "source": [
    "### Обзорная информация о выборке \n",
    "Длинна выборки: 10000  \n",
    "Число ушедших клиентов: 2037  (отмечаю дисбаланс классов).   \n",
    "Типы данных указаны верно.   \n",
    "\n",
    "### UPD.   \n",
    "**Пропуски есть в признке Tenure (количество недвижимости у клиента).  Буду заполнять нулями.**  "
   ]
  },
  {
   "cell_type": "markdown",
   "metadata": {},
   "source": [
    "## Этап 2: Подготовка данных к обучению"
   ]
  },
  {
   "cell_type": "code",
   "execution_count": 7,
   "metadata": {},
   "outputs": [
    {
     "name": "stdout",
     "output_type": "stream",
     "text": [
      "<class 'pandas.core.frame.DataFrame'>\n",
      "RangeIndex: 10000 entries, 0 to 9999\n",
      "Data columns (total 14 columns):\n",
      " #   Column           Non-Null Count  Dtype  \n",
      "---  ------           --------------  -----  \n",
      " 0   RowNumber        10000 non-null  int64  \n",
      " 1   CustomerId       10000 non-null  int64  \n",
      " 2   Surname          10000 non-null  object \n",
      " 3   CreditScore      10000 non-null  int64  \n",
      " 4   Geography        10000 non-null  object \n",
      " 5   Gender           10000 non-null  object \n",
      " 6   Age              10000 non-null  int64  \n",
      " 7   Tenure           10000 non-null  float64\n",
      " 8   Balance          10000 non-null  float64\n",
      " 9   NumOfProducts    10000 non-null  int64  \n",
      " 10  HasCrCard        10000 non-null  int64  \n",
      " 11  IsActiveMember   10000 non-null  int64  \n",
      " 12  EstimatedSalary  10000 non-null  float64\n",
      " 13  Exited           10000 non-null  int64  \n",
      "dtypes: float64(3), int64(8), object(3)\n",
      "memory usage: 1.1+ MB\n"
     ]
    }
   ],
   "source": [
    "data['Tenure'] = data['Tenure'].fillna(0)\n",
    "data.info()"
   ]
  },
  {
   "cell_type": "code",
   "execution_count": 8,
   "metadata": {},
   "outputs": [],
   "source": [
    "data_ohe = pd.get_dummies(data[['Geography', 'Gender']], drop_first = True)\n",
    "data = data.join(data_ohe).copy()\n",
    "\n"
   ]
  },
  {
   "cell_type": "code",
   "execution_count": 9,
   "metadata": {},
   "outputs": [
    {
     "data": {
      "text/html": [
       "<div>\n",
       "<style scoped>\n",
       "    .dataframe tbody tr th:only-of-type {\n",
       "        vertical-align: middle;\n",
       "    }\n",
       "\n",
       "    .dataframe tbody tr th {\n",
       "        vertical-align: top;\n",
       "    }\n",
       "\n",
       "    .dataframe thead th {\n",
       "        text-align: right;\n",
       "    }\n",
       "</style>\n",
       "<table border=\"1\" class=\"dataframe\">\n",
       "  <thead>\n",
       "    <tr style=\"text-align: right;\">\n",
       "      <th></th>\n",
       "      <th>CreditScore</th>\n",
       "      <th>Age</th>\n",
       "      <th>Tenure</th>\n",
       "      <th>Balance</th>\n",
       "      <th>NumOfProducts</th>\n",
       "      <th>HasCrCard</th>\n",
       "      <th>IsActiveMember</th>\n",
       "      <th>EstimatedSalary</th>\n",
       "      <th>Exited</th>\n",
       "      <th>Geography_Germany</th>\n",
       "      <th>Geography_Spain</th>\n",
       "      <th>Gender_Male</th>\n",
       "    </tr>\n",
       "  </thead>\n",
       "  <tbody>\n",
       "    <tr>\n",
       "      <th>0</th>\n",
       "      <td>619</td>\n",
       "      <td>42</td>\n",
       "      <td>2.0</td>\n",
       "      <td>0.00</td>\n",
       "      <td>1</td>\n",
       "      <td>1</td>\n",
       "      <td>1</td>\n",
       "      <td>101348.88</td>\n",
       "      <td>1</td>\n",
       "      <td>0</td>\n",
       "      <td>0</td>\n",
       "      <td>0</td>\n",
       "    </tr>\n",
       "    <tr>\n",
       "      <th>1</th>\n",
       "      <td>608</td>\n",
       "      <td>41</td>\n",
       "      <td>1.0</td>\n",
       "      <td>83807.86</td>\n",
       "      <td>1</td>\n",
       "      <td>0</td>\n",
       "      <td>1</td>\n",
       "      <td>112542.58</td>\n",
       "      <td>0</td>\n",
       "      <td>0</td>\n",
       "      <td>1</td>\n",
       "      <td>0</td>\n",
       "    </tr>\n",
       "    <tr>\n",
       "      <th>2</th>\n",
       "      <td>502</td>\n",
       "      <td>42</td>\n",
       "      <td>8.0</td>\n",
       "      <td>159660.80</td>\n",
       "      <td>3</td>\n",
       "      <td>1</td>\n",
       "      <td>0</td>\n",
       "      <td>113931.57</td>\n",
       "      <td>1</td>\n",
       "      <td>0</td>\n",
       "      <td>0</td>\n",
       "      <td>0</td>\n",
       "    </tr>\n",
       "    <tr>\n",
       "      <th>3</th>\n",
       "      <td>699</td>\n",
       "      <td>39</td>\n",
       "      <td>1.0</td>\n",
       "      <td>0.00</td>\n",
       "      <td>2</td>\n",
       "      <td>0</td>\n",
       "      <td>0</td>\n",
       "      <td>93826.63</td>\n",
       "      <td>0</td>\n",
       "      <td>0</td>\n",
       "      <td>0</td>\n",
       "      <td>0</td>\n",
       "    </tr>\n",
       "    <tr>\n",
       "      <th>4</th>\n",
       "      <td>850</td>\n",
       "      <td>43</td>\n",
       "      <td>2.0</td>\n",
       "      <td>125510.82</td>\n",
       "      <td>1</td>\n",
       "      <td>1</td>\n",
       "      <td>1</td>\n",
       "      <td>79084.10</td>\n",
       "      <td>0</td>\n",
       "      <td>0</td>\n",
       "      <td>1</td>\n",
       "      <td>0</td>\n",
       "    </tr>\n",
       "  </tbody>\n",
       "</table>\n",
       "</div>"
      ],
      "text/plain": [
       "   CreditScore  Age  Tenure    Balance  NumOfProducts  HasCrCard  \\\n",
       "0          619   42     2.0       0.00              1          1   \n",
       "1          608   41     1.0   83807.86              1          0   \n",
       "2          502   42     8.0  159660.80              3          1   \n",
       "3          699   39     1.0       0.00              2          0   \n",
       "4          850   43     2.0  125510.82              1          1   \n",
       "\n",
       "   IsActiveMember  EstimatedSalary  Exited  Geography_Germany  \\\n",
       "0               1        101348.88       1                  0   \n",
       "1               1        112542.58       0                  0   \n",
       "2               0        113931.57       1                  0   \n",
       "3               0         93826.63       0                  0   \n",
       "4               1         79084.10       0                  0   \n",
       "\n",
       "   Geography_Spain  Gender_Male  \n",
       "0                0            0  \n",
       "1                1            0  \n",
       "2                0            0  \n",
       "3                0            0  \n",
       "4                1            0  "
      ]
     },
     "execution_count": 9,
     "metadata": {},
     "output_type": "execute_result"
    }
   ],
   "source": [
    "data = data.drop(['Surname','Geography','Gender','RowNumber', 'CustomerId'], 1).copy()\n",
    "data.head()"
   ]
  },
  {
   "cell_type": "code",
   "execution_count": 36,
   "metadata": {},
   "outputs": [
    {
     "name": "stdout",
     "output_type": "stream",
     "text": [
      "<class 'pandas.core.frame.DataFrame'>\n",
      "RangeIndex: 10000 entries, 0 to 9999\n",
      "Data columns (total 12 columns):\n",
      " #   Column             Non-Null Count  Dtype  \n",
      "---  ------             --------------  -----  \n",
      " 0   CreditScore        10000 non-null  int64  \n",
      " 1   Age                10000 non-null  int64  \n",
      " 2   Tenure             10000 non-null  float64\n",
      " 3   Balance            10000 non-null  float64\n",
      " 4   NumOfProducts      10000 non-null  int64  \n",
      " 5   HasCrCard          10000 non-null  int64  \n",
      " 6   IsActiveMember     10000 non-null  int64  \n",
      " 7   EstimatedSalary    10000 non-null  float64\n",
      " 8   Exited             10000 non-null  int64  \n",
      " 9   Geography_Germany  10000 non-null  uint8  \n",
      " 10  Geography_Spain    10000 non-null  uint8  \n",
      " 11  Gender_Male        10000 non-null  uint8  \n",
      "dtypes: float64(3), int64(6), uint8(3)\n",
      "memory usage: 732.5 KB\n"
     ]
    }
   ],
   "source": [
    "data.info()"
   ]
  },
  {
   "cell_type": "markdown",
   "metadata": {},
   "source": [
    "##### Комментарии по преобразованию\n",
    "Была применена функция pd.get_dummies для категориальных прихзнаков 'Geography','Gender', как дублирующие.  \n",
    "Также были удалены Surname, CustomerId, поскольку их роль в качествк признака, заслуживающего внимания, сомнительна.  "
   ]
  },
  {
   "cell_type": "code",
   "execution_count": 10,
   "metadata": {},
   "outputs": [],
   "source": [
    "from sklearn.preprocessing import StandardScaler\n",
    "\n",
    "target = data['Exited']\n",
    "features = data.drop('Exited', axis=1)\n",
    "\n",
    "features_train, features_valid, target_train, target_valid = train_test_split(\n",
    "    features, target, test_size=0.25, random_state=12345)\n"
   ]
  },
  {
   "cell_type": "code",
   "execution_count": 11,
   "metadata": {},
   "outputs": [],
   "source": [
    "features_valid, features_control, target_valid, target_control = train_test_split(\n",
    "    features_valid, target_valid, test_size=0.50, random_state=12345)"
   ]
  },
  {
   "cell_type": "markdown",
   "metadata": {},
   "source": [
    "### Разделение выборок  \n",
    "Исходная выборка была разделена на обучающую, валидационную и контрольную выборку для финального теста.    "
   ]
  },
  {
   "cell_type": "code",
   "execution_count": 12,
   "metadata": {},
   "outputs": [
    {
     "data": {
      "text/html": [
       "<div>\n",
       "<style scoped>\n",
       "    .dataframe tbody tr th:only-of-type {\n",
       "        vertical-align: middle;\n",
       "    }\n",
       "\n",
       "    .dataframe tbody tr th {\n",
       "        vertical-align: top;\n",
       "    }\n",
       "\n",
       "    .dataframe thead th {\n",
       "        text-align: right;\n",
       "    }\n",
       "</style>\n",
       "<table border=\"1\" class=\"dataframe\">\n",
       "  <thead>\n",
       "    <tr style=\"text-align: right;\">\n",
       "      <th></th>\n",
       "      <th>CreditScore</th>\n",
       "      <th>Age</th>\n",
       "      <th>Tenure</th>\n",
       "      <th>Balance</th>\n",
       "      <th>NumOfProducts</th>\n",
       "      <th>HasCrCard</th>\n",
       "      <th>IsActiveMember</th>\n",
       "      <th>EstimatedSalary</th>\n",
       "      <th>Geography_Germany</th>\n",
       "      <th>Geography_Spain</th>\n",
       "      <th>Gender_Male</th>\n",
       "    </tr>\n",
       "  </thead>\n",
       "  <tbody>\n",
       "    <tr>\n",
       "      <th>226</th>\n",
       "      <td>0.442805</td>\n",
       "      <td>-0.841274</td>\n",
       "      <td>1.426885</td>\n",
       "      <td>-1.224577</td>\n",
       "      <td>0.817772</td>\n",
       "      <td>1</td>\n",
       "      <td>1</td>\n",
       "      <td>-1.269750</td>\n",
       "      <td>0</td>\n",
       "      <td>0</td>\n",
       "      <td>0</td>\n",
       "    </tr>\n",
       "    <tr>\n",
       "      <th>7756</th>\n",
       "      <td>-0.310897</td>\n",
       "      <td>-0.270730</td>\n",
       "      <td>0.784858</td>\n",
       "      <td>0.641783</td>\n",
       "      <td>-0.896874</td>\n",
       "      <td>1</td>\n",
       "      <td>1</td>\n",
       "      <td>0.960396</td>\n",
       "      <td>0</td>\n",
       "      <td>1</td>\n",
       "      <td>0</td>\n",
       "    </tr>\n",
       "    <tr>\n",
       "      <th>2065</th>\n",
       "      <td>-0.259274</td>\n",
       "      <td>-0.556002</td>\n",
       "      <td>1.105871</td>\n",
       "      <td>-1.224577</td>\n",
       "      <td>0.817772</td>\n",
       "      <td>1</td>\n",
       "      <td>0</td>\n",
       "      <td>0.661864</td>\n",
       "      <td>0</td>\n",
       "      <td>0</td>\n",
       "      <td>1</td>\n",
       "    </tr>\n",
       "    <tr>\n",
       "      <th>2800</th>\n",
       "      <td>1.217157</td>\n",
       "      <td>1.155631</td>\n",
       "      <td>1.426885</td>\n",
       "      <td>1.290462</td>\n",
       "      <td>0.817772</td>\n",
       "      <td>1</td>\n",
       "      <td>0</td>\n",
       "      <td>-1.039476</td>\n",
       "      <td>0</td>\n",
       "      <td>0</td>\n",
       "      <td>1</td>\n",
       "    </tr>\n",
       "    <tr>\n",
       "      <th>7028</th>\n",
       "      <td>0.690598</td>\n",
       "      <td>-1.221637</td>\n",
       "      <td>-1.462240</td>\n",
       "      <td>1.142121</td>\n",
       "      <td>-0.896874</td>\n",
       "      <td>0</td>\n",
       "      <td>0</td>\n",
       "      <td>-0.851729</td>\n",
       "      <td>1</td>\n",
       "      <td>0</td>\n",
       "      <td>1</td>\n",
       "    </tr>\n",
       "  </tbody>\n",
       "</table>\n",
       "</div>"
      ],
      "text/plain": [
       "      CreditScore       Age    Tenure   Balance  NumOfProducts  HasCrCard  \\\n",
       "226      0.442805 -0.841274  1.426885 -1.224577       0.817772          1   \n",
       "7756    -0.310897 -0.270730  0.784858  0.641783      -0.896874          1   \n",
       "2065    -0.259274 -0.556002  1.105871 -1.224577       0.817772          1   \n",
       "2800     1.217157  1.155631  1.426885  1.290462       0.817772          1   \n",
       "7028     0.690598 -1.221637 -1.462240  1.142121      -0.896874          0   \n",
       "\n",
       "      IsActiveMember  EstimatedSalary  Geography_Germany  Geography_Spain  \\\n",
       "226                1        -1.269750                  0                0   \n",
       "7756               1         0.960396                  0                1   \n",
       "2065               0         0.661864                  0                0   \n",
       "2800               0        -1.039476                  0                0   \n",
       "7028               0        -0.851729                  1                0   \n",
       "\n",
       "      Gender_Male  \n",
       "226             0  \n",
       "7756            0  \n",
       "2065            1  \n",
       "2800            1  \n",
       "7028            1  "
      ]
     },
     "execution_count": 12,
     "metadata": {},
     "output_type": "execute_result"
    }
   ],
   "source": [
    "pd.options.mode.chained_assignment = None\n",
    "numeric = ['CreditScore', 'Age', 'Tenure', 'Balance','NumOfProducts', 'EstimatedSalary']\n",
    "scaler = StandardScaler()\n",
    "scaler.fit(features_train[numeric])\n",
    "features_train[numeric] = scaler.transform(features_train[numeric])\n",
    "features_valid[numeric] = scaler.transform(features_valid[numeric])\n",
    "features_control[numeric] = scaler.transform(features_control[numeric])\n",
    "\n",
    "features_train.head()"
   ]
  },
  {
   "cell_type": "markdown",
   "metadata": {},
   "source": [
    "### Масштабированию признаков. \n",
    "Было проведено масштабирование числовых признаков 'CreditScore', 'Age', 'Tenure', 'Balance','NumOfProducts', 'EstimatedSalary'"
   ]
  },
  {
   "cell_type": "markdown",
   "metadata": {},
   "source": [
    "## Этап 3: Тестирование моделей"
   ]
  },
  {
   "cell_type": "markdown",
   "metadata": {},
   "source": [
    "#### Подготовка увеличенной и уменьшенной выборок  \n",
    "Потребуются для обучения модели и устранения дисбаланса классов. "
   ]
  },
  {
   "cell_type": "code",
   "execution_count": 13,
   "metadata": {},
   "outputs": [],
   "source": [
    "def upsample(features, target, repeat): \n",
    "    features_zeros = features[target == 0]\n",
    "    features_ones = features[target == 1]\n",
    "    target_zeros = target[target == 0]\n",
    "    target_ones = target[target == 1]\n",
    "\n",
    "    features_upsampled = pd.concat([features_zeros] + [features_ones] * repeat)\n",
    "    target_upsampled = pd.concat([target_zeros] + [target_ones] * repeat)\n",
    "    \n",
    "    features_upsampled, target_upsampled = shuffle(\n",
    "        features_upsampled, target_upsampled, random_state=12345)\n",
    "    \n",
    "    return features_upsampled, target_upsampled\n",
    "\n",
    "features_upsampled, target_upsampled = upsample(features_train, target_train, 100)"
   ]
  },
  {
   "cell_type": "code",
   "execution_count": 14,
   "metadata": {},
   "outputs": [],
   "source": [
    "def downsample(features, target, fraction):\n",
    "    features_zeros = features[target == 0]\n",
    "    features_ones = features[target == 1]\n",
    "    target_zeros = target[target == 0]\n",
    "    target_ones = target[target == 1]\n",
    "\n",
    "    features_downsampled = pd.concat(\n",
    "        [features_zeros.sample(frac=fraction, random_state=12345)] + [features_ones])\n",
    "    target_downsampled = pd.concat(\n",
    "        [target_zeros.sample(frac=fraction, random_state=12345)] + [target_ones])\n",
    "    \n",
    "    features_downsampled, target_downsampled = shuffle(\n",
    "        features_downsampled, target_downsampled, random_state=12345)\n",
    "    \n",
    "    return features_downsampled, target_downsampled\n",
    "\n",
    "features_downsampled, target_downsampled = downsample(features_train, target_train, 0.1)"
   ]
  },
  {
   "cell_type": "markdown",
   "metadata": {},
   "source": [
    "#### Дерево решенией"
   ]
  },
  {
   "cell_type": "code",
   "execution_count": 15,
   "metadata": {},
   "outputs": [
    {
     "name": "stdout",
     "output_type": "stream",
     "text": [
      "Метрики Дерева решений\n",
      "F1: 0.47970479704797053\n",
      "AUR-ROC: 0.6716670326410639\n"
     ]
    }
   ],
   "source": [
    "model = DecisionTreeClassifier(random_state=12345) #можно убрать баланс послое увелич выборки\n",
    "model.fit(features_train, target_train)\n",
    "predicted_valid = model.predict(features_valid)\n",
    "dec_tree_auc_roc = roc_auc_score(target_valid, predicted_valid)\n",
    "\n",
    "f1_dec_tree_train = f1_score(target_valid, predicted_valid)\n",
    "print('Метрики Дерева решений')\n",
    "print('F1:', f1_dec_tree_train)\n",
    "print('AUR-ROC:', dec_tree_auc_roc)\n"
   ]
  },
  {
   "cell_type": "code",
   "execution_count": 16,
   "metadata": {},
   "outputs": [
    {
     "name": "stdout",
     "output_type": "stream",
     "text": [
      "Метрики Дерева решений, обученной по увеличенной выборке\n",
      "F1: 0.4708333333333333\n",
      "AUR-ROC: 0.6621439935896695\n"
     ]
    }
   ],
   "source": [
    "model = DecisionTreeClassifier(random_state=12345)\n",
    "model.fit(features_upsampled, target_upsampled)\n",
    "predicted_valid = model.predict(features_valid)\n",
    "dec_tree_auc_roc_up = roc_auc_score(target_valid, predicted_valid)\n",
    "\n",
    "f1_dec_tree_train_up = f1_score(target_valid, predicted_valid)\n",
    "print('Метрики Дерева решений, обученной по увеличенной выборке')\n",
    "print('F1:', f1_dec_tree_train_up)\n",
    "print('AUR-ROC:', dec_tree_auc_roc_up)"
   ]
  },
  {
   "cell_type": "code",
   "execution_count": 17,
   "metadata": {},
   "outputs": [
    {
     "name": "stdout",
     "output_type": "stream",
     "text": [
      "Метрики Дерева решений, обученной по увеличенной выборке + сбалансирован класс\n",
      "F1: 0.5245283018867923\n",
      "AUR-ROC: 0.6994155966731002\n"
     ]
    }
   ],
   "source": [
    "model = DecisionTreeClassifier(random_state=12345, class_weight = 'balanced')\n",
    "model.fit(features_upsampled, target_upsampled)\n",
    "predicted_valid = model.predict(features_valid)\n",
    "random_forest_auc_roc = roc_auc_score(target_valid, predicted_valid)\n",
    "\n",
    "f1_dec_tree_train = f1_score(target_valid, predicted_valid)\n",
    "print('Метрики Дерева решений, обученной по увеличенной выборке + сбалансирован класс')\n",
    "print('F1:', f1_score(target_valid, predicted_valid))\n",
    "print('AUR-ROC:', random_forest_auc_roc)"
   ]
  },
  {
   "cell_type": "code",
   "execution_count": 19,
   "metadata": {},
   "outputs": [
    {
     "name": "stdout",
     "output_type": "stream",
     "text": [
      "max_depth: 1 F1: 0.4864 AUR-ROC: 0.6825904053070141\n",
      "max_depth: 3 F1: 0.5314900153609832 AUR-ROC: 0.7199814316147946\n",
      "max_depth: 5 F1: 0.6035889070146819 AUR-ROC: 0.7681244004761519\n",
      "max_depth: 7 F1: 0.5655172413793105 AUR-ROC: 0.7595413377712544\n",
      "max_depth: 9 F1: 0.5751824817518247 AUR-ROC: 0.7605429519109641\n",
      "max_depth: 11 F1: 0.5426356589147288 AUR-ROC: 0.7278363978873647\n",
      "max_depth: 13 F1: 0.53 AUR-ROC: 0.7121091297128834\n",
      "max_depth: 15 F1: 0.5263157894736843 AUR-ROC: 0.7056371614255281\n",
      "max_depth: 17 F1: 0.5230202578268875 AUR-ROC: 0.7000531625966462\n",
      "max_depth: 19 F1: 0.51024208566108 AUR-ROC: 0.6910540447875615\n",
      "max_depth: 21 F1: 0.5269016697588126 AUR-ROC: 0.7020795050485205\n",
      "max_depth: 23 F1: 0.5122410546139359 AUR-ROC: 0.6916858321679938\n",
      "max_depth: 25 F1: 0.527306967984934 AUR-ROC: 0.7013167373575109\n",
      "max_depth: 27 F1: 0.5245283018867923 AUR-ROC: 0.6994155966731002\n",
      "max_depth: 29 F1: 0.5245283018867923 AUR-ROC: 0.6994155966731002\n"
     ]
    }
   ],
   "source": [
    "for m in range(1,30,2):\n",
    "    model = DecisionTreeClassifier(random_state=12345, class_weight = 'balanced', max_depth = m)\n",
    "    model.fit(features_upsampled, target_upsampled)\n",
    "    predicted_valid = model.predict(features_valid)\n",
    "    random_forest_auc_roc = roc_auc_score(target_valid, predicted_valid)\n",
    "\n",
    "    f1_dec_tree_train = f1_score(target_valid, predicted_valid)\n",
    "    print('max_depth:', m, 'F1:', f1_dec_tree_train, 'AUR-ROC:', random_forest_auc_roc)"
   ]
  },
  {
   "cell_type": "markdown",
   "metadata": {},
   "source": [
    "### Выводы по Дереву решений:  \n",
    "\n",
    "Максимальное значение F1 составило 0.6035889070146819 при активации class_weight = 'balanced'  \n",
    "и гиперпараметре max_depth = 5\n",
    "\n",
    "Значение AUR-ROC при этом = 0.7681244004761519  "
   ]
  },
  {
   "cell_type": "markdown",
   "metadata": {},
   "source": [
    "#### Логистическая регрессия"
   ]
  },
  {
   "cell_type": "code",
   "execution_count": 20,
   "metadata": {},
   "outputs": [
    {
     "name": "stdout",
     "output_type": "stream",
     "text": [
      "Метрики Логистической регрессии без учёта дисбаланса классов\n",
      "F1: 0.29295774647887324\n",
      "AUR-ROC: 0.5785958910706098\n"
     ]
    }
   ],
   "source": [
    "log_reg_model = LogisticRegression(\n",
    "    random_state=12345, solver = 'lbfgs').fit(features_train, target_train)\n",
    "log_reg_predicted_valid = log_reg_model.predict(features_valid)\n",
    "log_reg_train_auc_roc = roc_auc_score(target_valid, log_reg_predicted_valid)\n",
    "f1_log_reg_train = f1_score(target_valid, log_reg_predicted_valid)\n",
    "\n",
    "\n",
    "print('Метрики Логистической регрессии без учёта дисбаланса классов')\n",
    "print('F1:', f1_log_reg_train)\n",
    "print('AUR-ROC:', log_reg_train_auc_roc)"
   ]
  },
  {
   "cell_type": "code",
   "execution_count": 22,
   "metadata": {},
   "outputs": [
    {
     "name": "stdout",
     "output_type": "stream",
     "text": [
      "Метрики Логистической регрессии, обученной по увеличенной выборке\n",
      "F1: 0.34788359788359785\n",
      "AUR-ROC: 0.5005065856129686\n"
     ]
    }
   ],
   "source": [
    "log_reg_model = LogisticRegression(\n",
    "    random_state=12345, solver = 'lbfgs').fit(features_upsampled, target_upsampled)\n",
    "log_reg_predicted_valid = log_reg_model.predict(features_valid)\n",
    "log_reg_auc_roc = roc_auc_score(target_valid, log_reg_predicted_valid)\n",
    "f1_log_reg = f1_score(target_valid, log_reg_predicted_valid)\n",
    "\n",
    "\n",
    "print('Метрики Логистической регрессии, обученной по увеличенной выборке')\n",
    "print('F1:', f1_log_reg)\n",
    "print('AUR-ROC:', log_reg_auc_roc)"
   ]
  },
  {
   "cell_type": "code",
   "execution_count": 23,
   "metadata": {},
   "outputs": [
    {
     "name": "stdout",
     "output_type": "stream",
     "text": [
      "Метрики Логистической регрессии, обученной по увеличенной выборке\n",
      "F1: 0.5132978723404255\n",
      "AUR-ROC: 0.7169708106525516\n"
     ]
    }
   ],
   "source": [
    "log_reg_model = LogisticRegression(\n",
    "    random_state=12345, solver = 'lbfgs', class_weight = 'balanced').fit(features_upsampled, target_upsampled)\n",
    "log_reg_predicted_valid = log_reg_model.predict(features_valid)\n",
    "log_reg_train_auc_roc = roc_auc_score(target_valid, log_reg_predicted_valid)\n",
    "f1_log_reg_train = f1_score(target_valid, log_reg_predicted_valid)\n",
    "\n",
    "\n",
    "print('Метрики Логистической регрессии, обученной по увеличенной выборке')\n",
    "print('F1:', f1_log_reg_train)\n",
    "print('AUR-ROC:', log_reg_train_auc_roc)\n",
    "\n"
   ]
  },
  {
   "cell_type": "markdown",
   "metadata": {},
   "source": [
    "### Выводы по Логистической регрессии:  \n",
    "Параметр F1 удалось разогнать с 0.29295774647887324 до 0.5132978723404255 (AUR-ROC: 0.7169708106525516),  \n",
    "благодаря обучению по увеличенной выборке, а также применению class_weight = 'balanced'."
   ]
  },
  {
   "cell_type": "markdown",
   "metadata": {},
   "source": [
    "#### Случайный лес"
   ]
  },
  {
   "cell_type": "code",
   "execution_count": 24,
   "metadata": {},
   "outputs": [
    {
     "name": "stdout",
     "output_type": "stream",
     "text": [
      "Метрики модели Случайный лес без учёта дисбаланса классов\n",
      "F1: 0.5357142857142858\n",
      "AUR-ROC: 0.695208817286319\n"
     ]
    }
   ],
   "source": [
    "random_forest_model = RandomForestClassifier(random_state=12345, n_estimators=5, )\n",
    "random_forest_model.fit(features_train, target_train)\n",
    "random_forest_predict = random_forest_model.predict(features_valid)\n",
    "f1_rand_for_train = f1_score(target_valid, random_forest_predict)\n",
    "auc_roc_rand_for_train = roc_auc_score(target_valid, random_forest_predict)\n",
    "\n",
    "print('Метрики модели Случайный лес без учёта дисбаланса классов')\n",
    "print('F1:', f1_rand_for_train)\n",
    "print('AUR-ROC:', auc_roc_rand_for_train)\n"
   ]
  },
  {
   "cell_type": "code",
   "execution_count": 25,
   "metadata": {},
   "outputs": [
    {
     "name": "stdout",
     "output_type": "stream",
     "text": [
      "Метрики модели Случайный лес по увеличенной выборке\n",
      "F1: 0.5514403292181069\n",
      "AUR-ROC: 0.709666732156822\n"
     ]
    }
   ],
   "source": [
    "upsampled_random_forest_model = RandomForestClassifier(random_state=12345, n_estimators=5)\n",
    "upsampled_random_forest_model.fit(features_upsampled, target_upsampled)\n",
    "upsampled_random_forest_predict = upsampled_random_forest_model.predict(features_valid)\n",
    "f1_rand_for_upsampled= f1_score(target_valid, upsampled_random_forest_predict)\n",
    "auc_roc_rand_for_upsampled = roc_auc_score(target_valid, upsampled_random_forest_predict)\n",
    "\n",
    "print('Метрики модели Случайный лес по увеличенной выборке')\n",
    "print('F1:', f1_rand_for_upsampled)\n",
    "print('AUR-ROC:', auc_roc_rand_for_upsampled)"
   ]
  },
  {
   "cell_type": "code",
   "execution_count": 26,
   "metadata": {},
   "outputs": [
    {
     "name": "stdout",
     "output_type": "stream",
     "text": [
      "Метрики модели Случайный лес по уменьшенной выборке\n",
      "F1: 0.46766169154228865\n",
      "AUR-ROC: 0.6899291550614258\n"
     ]
    }
   ],
   "source": [
    "downsampled_random_forest_model = RandomForestClassifier(random_state=12345, n_estimators=5)\n",
    "downsampled_random_forest_model.fit(features_downsampled, target_downsampled)\n",
    "downsampled_random_forest_predict = downsampled_random_forest_model.predict(features_valid)\n",
    "f1_rand_for_downsampled = f1_score(target_valid, downsampled_random_forest_predict)\n",
    "auc_roc_rand_for_downsampled= roc_auc_score(target_valid, downsampled_random_forest_predict)\n",
    "\n",
    "print('Метрики модели Случайный лес по уменьшенной выборке')\n",
    "print('F1:', f1_rand_for_downsampled)\n",
    "print('AUR-ROC:', auc_roc_rand_for_downsampled)"
   ]
  },
  {
   "cell_type": "markdown",
   "metadata": {},
   "source": [
    "#### Подборка параметров для Случайного леса в цикле  \n",
    "При этом добавляется min_samples_leaf = 5, чтобы снизить эффект переобучения, а также class_weight = 'balanced'.  "
   ]
  },
  {
   "cell_type": "markdown",
   "metadata": {},
   "source": [
    "##### Первая итерация улучшения"
   ]
  },
  {
   "cell_type": "code",
   "execution_count": 27,
   "metadata": {},
   "outputs": [
    {
     "name": "stdout",
     "output_type": "stream",
     "text": [
      "If n_estimators = 16 F1 (upsampled data) = 0.6219931271477663 AUR-ROC: 0.7741976492886614\n",
      "If n_estimators = 31 F1 (upsampled data) = 0.6347517730496454 AUR-ROC: 0.7785007377273374\n",
      "If n_estimators = 46 F1 (upsampled data) = 0.6300884955752213 AUR-ROC: 0.7755864258169896\n",
      "If n_estimators = 61 F1 (upsampled data) = 0.627659574468085 AUR-ROC: 0.7736852851325791\n",
      "If n_estimators = 76 F1 (upsampled data) = 0.6285714285714286 AUR-ROC: 0.7733039012870742\n",
      "If n_estimators = 91 F1 (upsampled data) = 0.635379061371841 AUR-ROC: 0.7763434149648857\n",
      "If n_estimators = 106 F1 (upsampled data) = 0.6365280289330922 AUR-ROC: 0.7768500005778542\n",
      "If n_estimators = 121 F1 (upsampled data) = 0.6340579710144928 AUR-ROC: 0.7749488598934438\n",
      "If n_estimators = 136 F1 (upsampled data) = 0.6338797814207651 AUR-ROC: 0.7740608904349703\n",
      "If n_estimators = 151 F1 (upsampled data) = 0.6256781193490054 AUR-ROC: 0.7696268216857165\n",
      "If n_estimators = 166 F1 (upsampled data) = 0.6327272727272727 AUR-ROC: 0.7735543048220016\n",
      "If n_estimators = 181 F1 (upsampled data) = 0.6304347826086957 AUR-ROC: 0.7725411335960645\n",
      "If n_estimators = 196 F1 (upsampled data) = 0.631768953068592 AUR-ROC: 0.7739356886675065\n",
      "If n_estimators = 211 F1 (upsampled data) = 0.6365280289330922 AUR-ROC: 0.7768500005778542\n",
      "If n_estimators = 226 F1 (upsampled data) = 0.6414414414414414 AUR-ROC: 0.7806522819466757\n",
      "If n_estimators = 241 F1 (upsampled data) = 0.6355475763016158 AUR-ROC: 0.7772313844233593\n",
      "If n_estimators = 256 F1 (upsampled data) = 0.6414414414414414 AUR-ROC: 0.7806522819466757\n",
      "If n_estimators = 271 F1 (upsampled data) = 0.6436363636363636 AUR-ROC: 0.7807774837141394\n",
      "If n_estimators = 286 F1 (upsampled data) = 0.6413043478260869 AUR-ROC: 0.7797643124882022\n"
     ]
    }
   ],
   "source": [
    "for e in range(1,300,15):\n",
    "    random_forest_model = RandomForestClassifier(\n",
    "        random_state=12345, n_estimators= e, min_samples_leaf = 5, class_weight = 'balanced')\n",
    "    random_forest_model.fit(features_upsampled, target_upsampled)\n",
    "    random_forest_predict = random_forest_model.predict(features_valid)\n",
    "    f1_metric = f1_score(target_valid, random_forest_predict)\n",
    "    auc_roc_rand_for = roc_auc_score(target_valid, random_forest_predict)\n",
    "    if f1_metric > 0.6:\n",
    "        print('If n_estimators =', e, \"F1 (upsampled data) =\", f1_metric, 'AUR-ROC:', auc_roc_rand_for)  "
   ]
  },
  {
   "cell_type": "markdown",
   "metadata": {},
   "source": [
    "##### Вторая итерация улучшения на основен полученных данных:\n",
    "Работа в цикле показала, что n_estimators= 271 является оптимальным параметром.  \n",
    "В условиях n_estimators= 271, class_weight = 'balanced' и min_samples_leaf = 5  \n",
    "Параметр F1 = 0.6436363636363636, AUR-ROC = 0.7807774837141394.  "
   ]
  },
  {
   "cell_type": "code",
   "execution_count": 28,
   "metadata": {},
   "outputs": [
    {
     "name": "stdout",
     "output_type": "stream",
     "text": [
      "max_depth = 3 F1 (upsampled data) = 0.6067073170731708 AUR-ROC =  0.780049387281812\n",
      "max_depth = 4 F1 (upsampled data) = 0.6094946401225114 AUR-ROC =  0.7815691441207178\n",
      "max_depth = 5 F1 (upsampled data) = 0.6137404580152672 AUR-ROC =  0.785371425489539\n",
      "max_depth = 6 F1 (upsampled data) = 0.6300940438871474 AUR-ROC =  0.793983380910005\n",
      "max_depth = 7 F1 (upsampled data) = 0.637223974763407 AUR-ROC =  0.7984174496592586\n",
      "max_depth = 8 F1 (upsampled data) = 0.6498422712933755 AUR-ROC =  0.8080483548487756\n",
      "max_depth = 9 F1 (upsampled data) = 0.6397415185783523 AUR-ROC =  0.7963853286642704\n",
      "max_depth = 10 F1 (upsampled data) = 0.6533996683250415 AUR-ROC =  0.8020829721743886\n",
      "max_depth = 11 F1 (upsampled data) = 0.6452702702702703 AUR-ROC =  0.7932090561327678\n",
      "max_depth = 12 F1 (upsampled data) = 0.6458333333333334 AUR-ROC =  0.789275794453369\n",
      "max_depth = 13 F1 (upsampled data) = 0.6315789473684211 AUR-ROC =  0.7778689503469052\n",
      "max_depth = 14 F1 (upsampled data) = 0.627659574468085 AUR-ROC =  0.7736852851325791\n",
      "max_depth = 15 F1 (upsampled data) = 0.6308243727598567 AUR-ROC =  0.7743170725130114\n",
      "max_depth = 16 F1 (upsampled data) = 0.6438848920863309 AUR-ROC =  0.7825534226310862\n",
      "max_depth = 17 F1 (upsampled data) = 0.6330935251798561 AUR-ROC =  0.7753302437389484\n",
      "max_depth = 18 F1 (upsampled data) = 0.64 AUR-ROC =  0.7783697574167601\n",
      "max_depth = 19 F1 (upsampled data) = 0.6389891696750902 AUR-ROC =  0.7787511412622651\n",
      "max_depth = 20 F1 (upsampled data) = 0.635379061371841 AUR-ROC =  0.7763434149648857\n",
      "max_depth = 21 F1 (upsampled data) = 0.6373626373626373 AUR-ROC =  0.7755806472738761\n",
      "max_depth = 22 F1 (upsampled data) = 0.6352087114337568 AUR-ROC =  0.7754554455064123\n",
      "max_depth = 23 F1 (upsampled data) = 0.6352087114337568 AUR-ROC =  0.7754554455064123\n",
      "max_depth = 24 F1 (upsampled data) = 0.6424682395644283 AUR-ROC =  0.7802708981011708\n",
      "max_depth = 25 F1 (upsampled data) = 0.6401446654611213 AUR-ROC =  0.7792577268752335\n",
      "max_depth = 26 F1 (upsampled data) = 0.6401446654611213 AUR-ROC =  0.7792577268752335\n",
      "max_depth = 27 F1 (upsampled data) = 0.6401446654611213 AUR-ROC =  0.7792577268752335\n",
      "max_depth = 28 F1 (upsampled data) = 0.6436363636363636 AUR-ROC =  0.7807774837141394\n",
      "max_depth = 29 F1 (upsampled data) = 0.6436363636363636 AUR-ROC =  0.7807774837141394\n"
     ]
    }
   ],
   "source": [
    "max_f1_first_iter = 0.6436363636363636\n",
    "aur_roc_first_iter = 0.7807774837141394\n",
    "\n",
    "for i in range(1,30):\n",
    "    random_forest_model = RandomForestClassifier(\n",
    "    random_state=12345, n_estimators= 271, max_depth= i, min_samples_leaf = 5, class_weight = 'balanced')\n",
    "    random_forest_model.fit(features_upsampled, target_upsampled)\n",
    "    random_forest_predict = random_forest_model.predict(features_valid)\n",
    "    f1_metric = f1_score(target_valid, random_forest_predict)\n",
    "    auc_roc_rand_for = roc_auc_score(target_valid, random_forest_predict)\n",
    "    if f1_metric > 0.6:\n",
    "        print('max_depth =', i, \"F1 (upsampled data) =\", f1_metric, 'AUR-ROC = ', auc_roc_rand_for)"
   ]
  },
  {
   "cell_type": "code",
   "execution_count": 29,
   "metadata": {},
   "outputs": [
    {
     "name": "stdout",
     "output_type": "stream",
     "text": [
      "Метрики финализированной модели Случайный лес\n",
      "F1: 0.6533996683250415\n",
      "AUR-ROC: 0.8020829721743886\n"
     ]
    }
   ],
   "source": [
    "aur_roc_second_iter = 0.8020829721743886\n",
    "\n",
    "final_model_random_forest = RandomForestClassifier(\n",
    "    random_state=12345, n_estimators= 271, max_depth= 10, min_samples_leaf = 5, class_weight = 'balanced')\n",
    "final_model_random_forest.fit(features_upsampled, target_upsampled)\n",
    "final_model_random_forest_predict = final_model_random_forest.predict(features_valid)\n",
    "f1_rand_for_final = f1_score(target_valid, final_model_random_forest_predict)\n",
    "auc_roc_rand_for_final = roc_auc_score(target_valid, final_model_random_forest_predict)\n",
    "\n",
    "print('Метрики финализированной модели Случайный лес')\n",
    "print('F1:', f1_rand_for_final)\n",
    "print('AUR-ROC:', auc_roc_rand_for_final)"
   ]
  },
  {
   "cell_type": "code",
   "execution_count": 31,
   "metadata": {},
   "outputs": [
    {
     "name": "stdout",
     "output_type": "stream",
     "text": [
      "Метрики финализированной модели Случайный лес по контрольной выборке\n",
      "F1: 0.6317460317460318\n",
      "AUR-ROC: 0.7845204799711295\n"
     ]
    }
   ],
   "source": [
    "control_random_forest_predict = final_model_random_forest.predict(features_control)\n",
    "f1_rand_for_control = f1_score(target_control, control_random_forest_predict)\n",
    "auc_roc_rand_for_control = roc_auc_score(target_control, control_random_forest_predict)\n",
    "print('Метрики финализированной модели Случайный лес по контрольной выборке')\n",
    "print('F1:', f1_rand_for_control)\n",
    "print('AUR-ROC:', auc_roc_rand_for_control)"
   ]
  },
  {
   "cell_type": "code",
   "execution_count": 35,
   "metadata": {},
   "outputs": [
    {
     "data": {
      "image/png": "[encoded data removed]",
      "text/plain": [
       "<Figure size 432x432 with 1 Axes>"
      ]
     },
     "metadata": {
      "needs_background": "light"
     },
     "output_type": "display_data"
    }
   ],
   "source": [
    "fpr, tpr, thresholds = roc_curve(target_control, control_random_forest_predict)\n",
    "plt.figure(figsize=(6, 6))\n",
    "plt.plot([0, 1], [0, 1], linestyle='--')\n",
    "plt.step(fpr, tpr, where='post')\n",
    "plt.ylim([0.0, 1.05])\n",
    "plt.xlim([0.0, 1.05])\n",
    "plt.xlabel('False Positive Rate')\n",
    "plt.ylabel('True Positive Rate')\n",
    "plt.title('ROC-кривая')\n",
    "plt.show()\n",
    "\n"
   ]
  },
  {
   "cell_type": "code",
   "execution_count": 33,
   "metadata": {},
   "outputs": [],
   "source": [
    "rand_for_result = pd.DataFrame.from_dict({'Iterations': [\n",
    "    'Train', 'Upsamled', 'Downsampled', 'First improvement', 'Second improvement', 'Control'],\n",
    "                    'F1': [\n",
    "                        f1_rand_for_train, f1_rand_for_upsampled,\n",
    "                        f1_rand_for_downsampled, max_f1_first_iter, f1_rand_for_final, f1_rand_for_control],\n",
    "                    'AUR-ROC': [\n",
    "                        auc_roc_rand_for_train, auc_roc_rand_for_upsampled,\n",
    "                        auc_roc_rand_for_downsampled, aur_roc_first_iter, \n",
    "                        aur_roc_second_iter, auc_roc_rand_for_control]})\n",
    "\n"
   ]
  },
  {
   "cell_type": "markdown",
   "metadata": {},
   "source": [
    "### Выводы по Случайному лесу. \n",
    "Модель показала лучшие результаты.  \n",
    "Стартовые метрики на учебной выборке: F1: 0.5357142857142858, AUR-ROC: 0.695208817286319 \n",
    "Регулировка гиперпараметров n_estimators = 271 и max_depth= 20, а также добавление min_samples_leaf = 5, class_weight = 'balanced'  \n",
    "позволили улучшить показатели модели. Во вторую итреацию улучшения показатели на тестовой выборке составили:  \n",
    "F1: 0.6533996683250415, AUR-ROC: 0.8020829721743886.    \n",
    "  \n",
    "На контрольной выборке:  \n",
    "F1: 0.6317460317460318, AUR-ROC: 0.8020829721743886.   \n",
    "Таким образом, была достигнута цель проекта (метрика F1 не менее 0.59). AUR-ROC лучше, чем у случайной модели, так как  \n",
    "превышает 0.5.  \n",
    "\n",
    "_Динамика изменения метрик модели представлена ниже._"
   ]
  },
  {
   "cell_type": "code",
   "execution_count": 34,
   "metadata": {},
   "outputs": [
    {
     "data": {
      "text/html": [
       "<div>\n",
       "<style scoped>\n",
       "    .dataframe tbody tr th:only-of-type {\n",
       "        vertical-align: middle;\n",
       "    }\n",
       "\n",
       "    .dataframe tbody tr th {\n",
       "        vertical-align: top;\n",
       "    }\n",
       "\n",
       "    .dataframe thead th {\n",
       "        text-align: right;\n",
       "    }\n",
       "</style>\n",
       "<table border=\"1\" class=\"dataframe\">\n",
       "  <thead>\n",
       "    <tr style=\"text-align: right;\">\n",
       "      <th></th>\n",
       "      <th>Iterations</th>\n",
       "      <th>F1</th>\n",
       "      <th>AUR-ROC</th>\n",
       "    </tr>\n",
       "  </thead>\n",
       "  <tbody>\n",
       "    <tr>\n",
       "      <th>0</th>\n",
       "      <td>Train</td>\n",
       "      <td>0.535714</td>\n",
       "      <td>0.695209</td>\n",
       "    </tr>\n",
       "    <tr>\n",
       "      <th>1</th>\n",
       "      <td>Upsamled</td>\n",
       "      <td>0.551440</td>\n",
       "      <td>0.709667</td>\n",
       "    </tr>\n",
       "    <tr>\n",
       "      <th>2</th>\n",
       "      <td>Downsampled</td>\n",
       "      <td>0.467662</td>\n",
       "      <td>0.689929</td>\n",
       "    </tr>\n",
       "    <tr>\n",
       "      <th>3</th>\n",
       "      <td>First improvement</td>\n",
       "      <td>0.645985</td>\n",
       "      <td>0.781791</td>\n",
       "    </tr>\n",
       "    <tr>\n",
       "      <th>4</th>\n",
       "      <td>Second improvement</td>\n",
       "      <td>0.653400</td>\n",
       "      <td>0.802083</td>\n",
       "    </tr>\n",
       "    <tr>\n",
       "      <th>5</th>\n",
       "      <td>Control</td>\n",
       "      <td>0.631746</td>\n",
       "      <td>0.784520</td>\n",
       "    </tr>\n",
       "  </tbody>\n",
       "</table>\n",
       "</div>"
      ],
      "text/plain": [
       "           Iterations        F1   AUR-ROC\n",
       "0               Train  0.535714  0.695209\n",
       "1            Upsamled  0.551440  0.709667\n",
       "2         Downsampled  0.467662  0.689929\n",
       "3   First improvement  0.645985  0.781791\n",
       "4  Second improvement  0.653400  0.802083\n",
       "5             Control  0.631746  0.784520"
      ]
     },
     "execution_count": 34,
     "metadata": {},
     "output_type": "execute_result"
    }
   ],
   "source": [
    "rand_for_result"
   ]
  },
  {
   "cell_type": "markdown",
   "metadata": {},
   "source": [
    "### Дополнительные выводы.   \n",
    "При работе с моделями очень важно на этапе подготовки данных отсечь \"лишие\" признаки.  \n",
    "В данном случае таковым являлись 'Surname','RowNumber', 'CustomerId'.  \n",
    "Изначально была допущена ошибка и был сохранён CustomerId, и в таком случае показатель F1 линейной регрессии был равен 0.  \n",
    "Это обстоятельство заставило пересмотреть этап подготовки данных.  \n",
    "\n",
    "Модель Случайный лес показала лучшие результаты после обучения на тренировочной и увеличенной выборке, поэтому в работу  \n",
    "для дальнейшего улучшения была выбрана именно она.  "
   ]
  }
 ],
 "metadata": {
  "kernelspec": {
   "display_name": "Python 3",
   "language": "python",
   "name": "python3"
  },
  "language_info": {
   "codemirror_mode": {
    "name": "ipython",
    "version": 3
   },
   "file_extension": ".py",
   "mimetype": "text/x-python",
   "name": "python",
   "nbconvert_exporter": "python",
   "pygments_lexer": "ipython3",
   "version": "3.7.6"
  }
 },
 "nbformat": 4,
 "nbformat_minor": 4
}
