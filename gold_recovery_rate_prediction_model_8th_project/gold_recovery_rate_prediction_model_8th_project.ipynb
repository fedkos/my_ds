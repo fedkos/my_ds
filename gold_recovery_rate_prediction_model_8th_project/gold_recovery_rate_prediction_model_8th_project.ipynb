{
 "cells": [
  {
   "cell_type": "markdown",
   "metadata": {},
   "source": [
    "## Задача  \n",
    "Подготовьте прототип модели машинного обучения для «Цифры». Компания разрабатывает решения для эффективной работы промышленных   предприятий.    \n",
    "Модель должна предсказать коэффициент восстановления золота из золотосодержащей руды. В вашем распоряжении данные с параметрами добычи и очистки.  \n",
    "Модель поможет оптимизировать производство, чтобы не запускать предприятие с убыточными характеристиками.  \n",
    "Вам нужно:  \n",
    "Подготовить данные;  \n",
    "Провести исследовательский анализ данных;  \n",
    "Построить и обучить модель.  \n",
    "Чтобы выполнить проект, обращайтесь к библиотекам pandas, matplotlib и sklearn. Вам поможет их документация.  \n",
    "Следующий урок посвящён технологическому процессу очистки руды. Решите сами, какие детали нужны для построения модели, а какие — нет.  "
   ]
  },
  {
   "cell_type": "markdown",
   "metadata": {},
   "source": [
    "## Этап 1: Подготовка данных, проверка правильности рассчёта эффективности обогащения, анализ признаков "
   ]
  },
  {
   "cell_type": "code",
   "execution_count": 1,
   "metadata": {},
   "outputs": [],
   "source": [
    "import pandas as pd\n",
    "import numpy as np\n",
    "import matplotlib.pyplot as plt"
   ]
  },
  {
   "cell_type": "code",
   "execution_count": 2,
   "metadata": {},
   "outputs": [],
   "source": [
    "full_data = pd.read_csv('/datasets/gold_recovery_full.csv', index_col = 'date')\n",
    "train_data = pd.read_csv('/datasets/gold_recovery_train.csv', index_col = 'date')\n",
    "test_data = pd.read_csv('/datasets/gold_recovery_test.csv', index_col = 'date')"
   ]
  },
  {
   "cell_type": "code",
   "execution_count": 3,
   "metadata": {},
   "outputs": [
    {
     "data": {
      "text/html": [
       "<div>\n",
       "<style scoped>\n",
       "    .dataframe tbody tr th:only-of-type {\n",
       "        vertical-align: middle;\n",
       "    }\n",
       "\n",
       "    .dataframe tbody tr th {\n",
       "        vertical-align: top;\n",
       "    }\n",
       "\n",
       "    .dataframe thead th {\n",
       "        text-align: right;\n",
       "    }\n",
       "</style>\n",
       "<table border=\"1\" class=\"dataframe\">\n",
       "  <thead>\n",
       "    <tr style=\"text-align: right;\">\n",
       "      <th></th>\n",
       "      <th>final.output.concentrate_ag</th>\n",
       "      <th>final.output.concentrate_pb</th>\n",
       "      <th>final.output.concentrate_sol</th>\n",
       "      <th>final.output.concentrate_au</th>\n",
       "      <th>final.output.recovery</th>\n",
       "      <th>final.output.tail_ag</th>\n",
       "      <th>final.output.tail_pb</th>\n",
       "      <th>final.output.tail_sol</th>\n",
       "      <th>final.output.tail_au</th>\n",
       "      <th>primary_cleaner.input.sulfate</th>\n",
       "      <th>...</th>\n",
       "      <th>secondary_cleaner.state.floatbank4_a_air</th>\n",
       "      <th>secondary_cleaner.state.floatbank4_a_level</th>\n",
       "      <th>secondary_cleaner.state.floatbank4_b_air</th>\n",
       "      <th>secondary_cleaner.state.floatbank4_b_level</th>\n",
       "      <th>secondary_cleaner.state.floatbank5_a_air</th>\n",
       "      <th>secondary_cleaner.state.floatbank5_a_level</th>\n",
       "      <th>secondary_cleaner.state.floatbank5_b_air</th>\n",
       "      <th>secondary_cleaner.state.floatbank5_b_level</th>\n",
       "      <th>secondary_cleaner.state.floatbank6_a_air</th>\n",
       "      <th>secondary_cleaner.state.floatbank6_a_level</th>\n",
       "    </tr>\n",
       "    <tr>\n",
       "      <th>date</th>\n",
       "      <th></th>\n",
       "      <th></th>\n",
       "      <th></th>\n",
       "      <th></th>\n",
       "      <th></th>\n",
       "      <th></th>\n",
       "      <th></th>\n",
       "      <th></th>\n",
       "      <th></th>\n",
       "      <th></th>\n",
       "      <th></th>\n",
       "      <th></th>\n",
       "      <th></th>\n",
       "      <th></th>\n",
       "      <th></th>\n",
       "      <th></th>\n",
       "      <th></th>\n",
       "      <th></th>\n",
       "      <th></th>\n",
       "      <th></th>\n",
       "      <th></th>\n",
       "    </tr>\n",
       "  </thead>\n",
       "  <tbody>\n",
       "    <tr>\n",
       "      <th>2016-01-15 00:00:00</th>\n",
       "      <td>6.055403</td>\n",
       "      <td>9.889648</td>\n",
       "      <td>5.507324</td>\n",
       "      <td>42.192020</td>\n",
       "      <td>70.541216</td>\n",
       "      <td>10.411962</td>\n",
       "      <td>0.895447</td>\n",
       "      <td>16.904297</td>\n",
       "      <td>2.143149</td>\n",
       "      <td>127.092003</td>\n",
       "      <td>...</td>\n",
       "      <td>14.016835</td>\n",
       "      <td>-502.488007</td>\n",
       "      <td>12.099931</td>\n",
       "      <td>-504.715942</td>\n",
       "      <td>9.925633</td>\n",
       "      <td>-498.310211</td>\n",
       "      <td>8.079666</td>\n",
       "      <td>-500.470978</td>\n",
       "      <td>14.151341</td>\n",
       "      <td>-605.841980</td>\n",
       "    </tr>\n",
       "    <tr>\n",
       "      <th>2016-01-15 01:00:00</th>\n",
       "      <td>6.029369</td>\n",
       "      <td>9.968944</td>\n",
       "      <td>5.257781</td>\n",
       "      <td>42.701629</td>\n",
       "      <td>69.266198</td>\n",
       "      <td>10.462676</td>\n",
       "      <td>0.927452</td>\n",
       "      <td>16.634514</td>\n",
       "      <td>2.224930</td>\n",
       "      <td>125.629232</td>\n",
       "      <td>...</td>\n",
       "      <td>13.992281</td>\n",
       "      <td>-505.503262</td>\n",
       "      <td>11.950531</td>\n",
       "      <td>-501.331529</td>\n",
       "      <td>10.039245</td>\n",
       "      <td>-500.169983</td>\n",
       "      <td>7.984757</td>\n",
       "      <td>-500.582168</td>\n",
       "      <td>13.998353</td>\n",
       "      <td>-599.787184</td>\n",
       "    </tr>\n",
       "    <tr>\n",
       "      <th>2016-01-15 02:00:00</th>\n",
       "      <td>6.055926</td>\n",
       "      <td>10.213995</td>\n",
       "      <td>5.383759</td>\n",
       "      <td>42.657501</td>\n",
       "      <td>68.116445</td>\n",
       "      <td>10.507046</td>\n",
       "      <td>0.953716</td>\n",
       "      <td>16.208849</td>\n",
       "      <td>2.257889</td>\n",
       "      <td>123.819808</td>\n",
       "      <td>...</td>\n",
       "      <td>14.015015</td>\n",
       "      <td>-502.520901</td>\n",
       "      <td>11.912783</td>\n",
       "      <td>-501.133383</td>\n",
       "      <td>10.070913</td>\n",
       "      <td>-500.129135</td>\n",
       "      <td>8.013877</td>\n",
       "      <td>-500.517572</td>\n",
       "      <td>14.028663</td>\n",
       "      <td>-601.427363</td>\n",
       "    </tr>\n",
       "    <tr>\n",
       "      <th>2016-01-15 03:00:00</th>\n",
       "      <td>6.047977</td>\n",
       "      <td>9.977019</td>\n",
       "      <td>4.858634</td>\n",
       "      <td>42.689819</td>\n",
       "      <td>68.347543</td>\n",
       "      <td>10.422762</td>\n",
       "      <td>0.883763</td>\n",
       "      <td>16.532835</td>\n",
       "      <td>2.146849</td>\n",
       "      <td>122.270188</td>\n",
       "      <td>...</td>\n",
       "      <td>14.036510</td>\n",
       "      <td>-500.857308</td>\n",
       "      <td>11.999550</td>\n",
       "      <td>-501.193686</td>\n",
       "      <td>9.970366</td>\n",
       "      <td>-499.201640</td>\n",
       "      <td>7.977324</td>\n",
       "      <td>-500.255908</td>\n",
       "      <td>14.005551</td>\n",
       "      <td>-599.996129</td>\n",
       "    </tr>\n",
       "    <tr>\n",
       "      <th>2016-01-15 04:00:00</th>\n",
       "      <td>6.148599</td>\n",
       "      <td>10.142511</td>\n",
       "      <td>4.939416</td>\n",
       "      <td>42.774141</td>\n",
       "      <td>66.927016</td>\n",
       "      <td>10.360302</td>\n",
       "      <td>0.792826</td>\n",
       "      <td>16.525686</td>\n",
       "      <td>2.055292</td>\n",
       "      <td>117.988169</td>\n",
       "      <td>...</td>\n",
       "      <td>14.027298</td>\n",
       "      <td>-499.838632</td>\n",
       "      <td>11.953070</td>\n",
       "      <td>-501.053894</td>\n",
       "      <td>9.925709</td>\n",
       "      <td>-501.686727</td>\n",
       "      <td>7.894242</td>\n",
       "      <td>-500.356035</td>\n",
       "      <td>13.996647</td>\n",
       "      <td>-601.496691</td>\n",
       "    </tr>\n",
       "  </tbody>\n",
       "</table>\n",
       "<p>5 rows × 86 columns</p>\n",
       "</div>"
      ],
      "text/plain": [
       "                     final.output.concentrate_ag  final.output.concentrate_pb  \\\n",
       "date                                                                            \n",
       "2016-01-15 00:00:00                     6.055403                     9.889648   \n",
       "2016-01-15 01:00:00                     6.029369                     9.968944   \n",
       "2016-01-15 02:00:00                     6.055926                    10.213995   \n",
       "2016-01-15 03:00:00                     6.047977                     9.977019   \n",
       "2016-01-15 04:00:00                     6.148599                    10.142511   \n",
       "\n",
       "                     final.output.concentrate_sol  \\\n",
       "date                                                \n",
       "2016-01-15 00:00:00                      5.507324   \n",
       "2016-01-15 01:00:00                      5.257781   \n",
       "2016-01-15 02:00:00                      5.383759   \n",
       "2016-01-15 03:00:00                      4.858634   \n",
       "2016-01-15 04:00:00                      4.939416   \n",
       "\n",
       "                     final.output.concentrate_au  final.output.recovery  \\\n",
       "date                                                                      \n",
       "2016-01-15 00:00:00                    42.192020              70.541216   \n",
       "2016-01-15 01:00:00                    42.701629              69.266198   \n",
       "2016-01-15 02:00:00                    42.657501              68.116445   \n",
       "2016-01-15 03:00:00                    42.689819              68.347543   \n",
       "2016-01-15 04:00:00                    42.774141              66.927016   \n",
       "\n",
       "                     final.output.tail_ag  final.output.tail_pb  \\\n",
       "date                                                              \n",
       "2016-01-15 00:00:00             10.411962              0.895447   \n",
       "2016-01-15 01:00:00             10.462676              0.927452   \n",
       "2016-01-15 02:00:00             10.507046              0.953716   \n",
       "2016-01-15 03:00:00             10.422762              0.883763   \n",
       "2016-01-15 04:00:00             10.360302              0.792826   \n",
       "\n",
       "                     final.output.tail_sol  final.output.tail_au  \\\n",
       "date                                                               \n",
       "2016-01-15 00:00:00              16.904297              2.143149   \n",
       "2016-01-15 01:00:00              16.634514              2.224930   \n",
       "2016-01-15 02:00:00              16.208849              2.257889   \n",
       "2016-01-15 03:00:00              16.532835              2.146849   \n",
       "2016-01-15 04:00:00              16.525686              2.055292   \n",
       "\n",
       "                     primary_cleaner.input.sulfate  ...  \\\n",
       "date                                                ...   \n",
       "2016-01-15 00:00:00                     127.092003  ...   \n",
       "2016-01-15 01:00:00                     125.629232  ...   \n",
       "2016-01-15 02:00:00                     123.819808  ...   \n",
       "2016-01-15 03:00:00                     122.270188  ...   \n",
       "2016-01-15 04:00:00                     117.988169  ...   \n",
       "\n",
       "                     secondary_cleaner.state.floatbank4_a_air  \\\n",
       "date                                                            \n",
       "2016-01-15 00:00:00                                 14.016835   \n",
       "2016-01-15 01:00:00                                 13.992281   \n",
       "2016-01-15 02:00:00                                 14.015015   \n",
       "2016-01-15 03:00:00                                 14.036510   \n",
       "2016-01-15 04:00:00                                 14.027298   \n",
       "\n",
       "                     secondary_cleaner.state.floatbank4_a_level  \\\n",
       "date                                                              \n",
       "2016-01-15 00:00:00                                 -502.488007   \n",
       "2016-01-15 01:00:00                                 -505.503262   \n",
       "2016-01-15 02:00:00                                 -502.520901   \n",
       "2016-01-15 03:00:00                                 -500.857308   \n",
       "2016-01-15 04:00:00                                 -499.838632   \n",
       "\n",
       "                     secondary_cleaner.state.floatbank4_b_air  \\\n",
       "date                                                            \n",
       "2016-01-15 00:00:00                                 12.099931   \n",
       "2016-01-15 01:00:00                                 11.950531   \n",
       "2016-01-15 02:00:00                                 11.912783   \n",
       "2016-01-15 03:00:00                                 11.999550   \n",
       "2016-01-15 04:00:00                                 11.953070   \n",
       "\n",
       "                     secondary_cleaner.state.floatbank4_b_level  \\\n",
       "date                                                              \n",
       "2016-01-15 00:00:00                                 -504.715942   \n",
       "2016-01-15 01:00:00                                 -501.331529   \n",
       "2016-01-15 02:00:00                                 -501.133383   \n",
       "2016-01-15 03:00:00                                 -501.193686   \n",
       "2016-01-15 04:00:00                                 -501.053894   \n",
       "\n",
       "                     secondary_cleaner.state.floatbank5_a_air  \\\n",
       "date                                                            \n",
       "2016-01-15 00:00:00                                  9.925633   \n",
       "2016-01-15 01:00:00                                 10.039245   \n",
       "2016-01-15 02:00:00                                 10.070913   \n",
       "2016-01-15 03:00:00                                  9.970366   \n",
       "2016-01-15 04:00:00                                  9.925709   \n",
       "\n",
       "                     secondary_cleaner.state.floatbank5_a_level  \\\n",
       "date                                                              \n",
       "2016-01-15 00:00:00                                 -498.310211   \n",
       "2016-01-15 01:00:00                                 -500.169983   \n",
       "2016-01-15 02:00:00                                 -500.129135   \n",
       "2016-01-15 03:00:00                                 -499.201640   \n",
       "2016-01-15 04:00:00                                 -501.686727   \n",
       "\n",
       "                     secondary_cleaner.state.floatbank5_b_air  \\\n",
       "date                                                            \n",
       "2016-01-15 00:00:00                                  8.079666   \n",
       "2016-01-15 01:00:00                                  7.984757   \n",
       "2016-01-15 02:00:00                                  8.013877   \n",
       "2016-01-15 03:00:00                                  7.977324   \n",
       "2016-01-15 04:00:00                                  7.894242   \n",
       "\n",
       "                     secondary_cleaner.state.floatbank5_b_level  \\\n",
       "date                                                              \n",
       "2016-01-15 00:00:00                                 -500.470978   \n",
       "2016-01-15 01:00:00                                 -500.582168   \n",
       "2016-01-15 02:00:00                                 -500.517572   \n",
       "2016-01-15 03:00:00                                 -500.255908   \n",
       "2016-01-15 04:00:00                                 -500.356035   \n",
       "\n",
       "                     secondary_cleaner.state.floatbank6_a_air  \\\n",
       "date                                                            \n",
       "2016-01-15 00:00:00                                 14.151341   \n",
       "2016-01-15 01:00:00                                 13.998353   \n",
       "2016-01-15 02:00:00                                 14.028663   \n",
       "2016-01-15 03:00:00                                 14.005551   \n",
       "2016-01-15 04:00:00                                 13.996647   \n",
       "\n",
       "                     secondary_cleaner.state.floatbank6_a_level  \n",
       "date                                                             \n",
       "2016-01-15 00:00:00                                 -605.841980  \n",
       "2016-01-15 01:00:00                                 -599.787184  \n",
       "2016-01-15 02:00:00                                 -601.427363  \n",
       "2016-01-15 03:00:00                                 -599.996129  \n",
       "2016-01-15 04:00:00                                 -601.496691  \n",
       "\n",
       "[5 rows x 86 columns]"
      ]
     },
     "execution_count": 3,
     "metadata": {},
     "output_type": "execute_result"
    }
   ],
   "source": [
    "full_data.head()"
   ]
  },
  {
   "cell_type": "code",
   "execution_count": 4,
   "metadata": {},
   "outputs": [
    {
     "name": "stdout",
     "output_type": "stream",
     "text": [
      "<class 'pandas.core.frame.DataFrame'>\n",
      "Index: 16860 entries, 2016-01-15 00:00:00 to 2018-08-18 10:59:59\n",
      "Data columns (total 86 columns):\n",
      " #   Column                                              Non-Null Count  Dtype  \n",
      "---  ------                                              --------------  -----  \n",
      " 0   final.output.concentrate_ag                         16788 non-null  float64\n",
      " 1   final.output.concentrate_pb                         16788 non-null  float64\n",
      " 2   final.output.concentrate_sol                        16490 non-null  float64\n",
      " 3   final.output.concentrate_au                         16789 non-null  float64\n",
      " 4   final.output.recovery                               15339 non-null  float64\n",
      " 5   final.output.tail_ag                                16794 non-null  float64\n",
      " 6   final.output.tail_pb                                16677 non-null  float64\n",
      " 7   final.output.tail_sol                               16715 non-null  float64\n",
      " 8   final.output.tail_au                                16794 non-null  float64\n",
      " 9   primary_cleaner.input.sulfate                       15553 non-null  float64\n",
      " 10  primary_cleaner.input.depressant                    15598 non-null  float64\n",
      " 11  primary_cleaner.input.feed_size                     16860 non-null  float64\n",
      " 12  primary_cleaner.input.xanthate                      15875 non-null  float64\n",
      " 13  primary_cleaner.output.concentrate_ag               16778 non-null  float64\n",
      " 14  primary_cleaner.output.concentrate_pb               16502 non-null  float64\n",
      " 15  primary_cleaner.output.concentrate_sol              16224 non-null  float64\n",
      " 16  primary_cleaner.output.concentrate_au               16778 non-null  float64\n",
      " 17  primary_cleaner.output.tail_ag                      16777 non-null  float64\n",
      " 18  primary_cleaner.output.tail_pb                      16761 non-null  float64\n",
      " 19  primary_cleaner.output.tail_sol                     16579 non-null  float64\n",
      " 20  primary_cleaner.output.tail_au                      16777 non-null  float64\n",
      " 21  primary_cleaner.state.floatbank8_a_air              16820 non-null  float64\n",
      " 22  primary_cleaner.state.floatbank8_a_level            16827 non-null  float64\n",
      " 23  primary_cleaner.state.floatbank8_b_air              16820 non-null  float64\n",
      " 24  primary_cleaner.state.floatbank8_b_level            16833 non-null  float64\n",
      " 25  primary_cleaner.state.floatbank8_c_air              16822 non-null  float64\n",
      " 26  primary_cleaner.state.floatbank8_c_level            16833 non-null  float64\n",
      " 27  primary_cleaner.state.floatbank8_d_air              16821 non-null  float64\n",
      " 28  primary_cleaner.state.floatbank8_d_level            16833 non-null  float64\n",
      " 29  rougher.calculation.sulfate_to_au_concentrate       16833 non-null  float64\n",
      " 30  rougher.calculation.floatbank10_sulfate_to_au_feed  16833 non-null  float64\n",
      " 31  rougher.calculation.floatbank11_sulfate_to_au_feed  16833 non-null  float64\n",
      " 32  rougher.calculation.au_pb_ratio                     15618 non-null  float64\n",
      " 33  rougher.input.feed_ag                               16778 non-null  float64\n",
      " 34  rougher.input.feed_pb                               16632 non-null  float64\n",
      " 35  rougher.input.feed_rate                             16347 non-null  float64\n",
      " 36  rougher.input.feed_size                             16443 non-null  float64\n",
      " 37  rougher.input.feed_sol                              16568 non-null  float64\n",
      " 38  rougher.input.feed_au                               16777 non-null  float64\n",
      " 39  rougher.input.floatbank10_sulfate                   15816 non-null  float64\n",
      " 40  rougher.input.floatbank10_xanthate                  16514 non-null  float64\n",
      " 41  rougher.input.floatbank11_sulfate                   16237 non-null  float64\n",
      " 42  rougher.input.floatbank11_xanthate                  14956 non-null  float64\n",
      " 43  rougher.output.concentrate_ag                       16778 non-null  float64\n",
      " 44  rougher.output.concentrate_pb                       16778 non-null  float64\n",
      " 45  rougher.output.concentrate_sol                      16698 non-null  float64\n",
      " 46  rougher.output.concentrate_au                       16778 non-null  float64\n",
      " 47  rougher.output.recovery                             14287 non-null  float64\n",
      " 48  rougher.output.tail_ag                              14610 non-null  float64\n",
      " 49  rougher.output.tail_pb                              16778 non-null  float64\n",
      " 50  rougher.output.tail_sol                             14611 non-null  float64\n",
      " 51  rougher.output.tail_au                              14611 non-null  float64\n",
      " 52  rougher.state.floatbank10_a_air                     16807 non-null  float64\n",
      " 53  rougher.state.floatbank10_a_level                   16807 non-null  float64\n",
      " 54  rougher.state.floatbank10_b_air                     16807 non-null  float64\n",
      " 55  rougher.state.floatbank10_b_level                   16807 non-null  float64\n",
      " 56  rougher.state.floatbank10_c_air                     16807 non-null  float64\n",
      " 57  rougher.state.floatbank10_c_level                   16814 non-null  float64\n",
      " 58  rougher.state.floatbank10_d_air                     16802 non-null  float64\n",
      " 59  rougher.state.floatbank10_d_level                   16809 non-null  float64\n",
      " 60  rougher.state.floatbank10_e_air                     16257 non-null  float64\n",
      " 61  rougher.state.floatbank10_e_level                   16809 non-null  float64\n",
      " 62  rougher.state.floatbank10_f_air                     16802 non-null  float64\n",
      " 63  rougher.state.floatbank10_f_level                   16802 non-null  float64\n",
      " 64  secondary_cleaner.output.tail_ag                    16776 non-null  float64\n",
      " 65  secondary_cleaner.output.tail_pb                    16764 non-null  float64\n",
      " 66  secondary_cleaner.output.tail_sol                   14874 non-null  float64\n",
      " 67  secondary_cleaner.output.tail_au                    16778 non-null  float64\n",
      " 68  secondary_cleaner.state.floatbank2_a_air            16497 non-null  float64\n",
      " 69  secondary_cleaner.state.floatbank2_a_level          16751 non-null  float64\n",
      " 70  secondary_cleaner.state.floatbank2_b_air            16705 non-null  float64\n",
      " 71  secondary_cleaner.state.floatbank2_b_level          16748 non-null  float64\n",
      " 72  secondary_cleaner.state.floatbank3_a_air            16763 non-null  float64\n",
      " 73  secondary_cleaner.state.floatbank3_a_level          16747 non-null  float64\n",
      " 74  secondary_cleaner.state.floatbank3_b_air            16752 non-null  float64\n",
      " 75  secondary_cleaner.state.floatbank3_b_level          16750 non-null  float64\n",
      " 76  secondary_cleaner.state.floatbank4_a_air            16731 non-null  float64\n",
      " 77  secondary_cleaner.state.floatbank4_a_level          16747 non-null  float64\n",
      " 78  secondary_cleaner.state.floatbank4_b_air            16768 non-null  float64\n",
      " 79  secondary_cleaner.state.floatbank4_b_level          16767 non-null  float64\n",
      " 80  secondary_cleaner.state.floatbank5_a_air            16775 non-null  float64\n",
      " 81  secondary_cleaner.state.floatbank5_a_level          16775 non-null  float64\n",
      " 82  secondary_cleaner.state.floatbank5_b_air            16775 non-null  float64\n",
      " 83  secondary_cleaner.state.floatbank5_b_level          16776 non-null  float64\n",
      " 84  secondary_cleaner.state.floatbank6_a_air            16757 non-null  float64\n",
      " 85  secondary_cleaner.state.floatbank6_a_level          16775 non-null  float64\n",
      "dtypes: float64(86)\n",
      "memory usage: 11.2+ MB\n"
     ]
    }
   ],
   "source": [
    "train_data.info()"
   ]
  },
  {
   "cell_type": "code",
   "execution_count": 5,
   "metadata": {},
   "outputs": [],
   "source": [
    "def recovery_result (c, f, t):\n",
    "    result = (c * (f - t) / (f*(c - t))) * 100\n",
    "    return result"
   ]
  },
  {
   "cell_type": "code",
   "execution_count": 6,
   "metadata": {},
   "outputs": [
    {
     "data": {
      "text/plain": [
       "0"
      ]
     },
     "execution_count": 6,
     "metadata": {},
     "output_type": "execute_result"
    }
   ],
   "source": [
    "c_val = train_data['rougher.output.concentrate_au'] \n",
    "f_val = train_data['rougher.input.feed_au'] \n",
    "t_val = train_data['rougher.output.tail_au']\n",
    "\n",
    "rougher_output_recovery_calculated = recovery_result(c_val, f_val, t_val)\n",
    "rougher_output_recovery_calculated = rougher_output_recovery_calculated.dropna()\n",
    "rougher_output_recovery_calculated.isnull().sum()\n"
   ]
  },
  {
   "cell_type": "code",
   "execution_count": 7,
   "metadata": {},
   "outputs": [],
   "source": [
    "from sklearn.metrics import mean_absolute_error"
   ]
  },
  {
   "cell_type": "code",
   "execution_count": 8,
   "metadata": {},
   "outputs": [],
   "source": [
    "real_rought_output_recovery = full_data['rougher.output.recovery']\n",
    "real_rought_output_recovery = real_rought_output_recovery[rougher_output_recovery_calculated.index]\n",
    "real_rought_output_recovery = real_rought_output_recovery.dropna()\n",
    "rougher_output_recovery_calculated = rougher_output_recovery_calculated[real_rought_output_recovery.index]"
   ]
  },
  {
   "cell_type": "code",
   "execution_count": 9,
   "metadata": {},
   "outputs": [
    {
     "data": {
      "text/plain": [
       "date\n",
       "2016-01-15 00:00:00    87.107763\n",
       "2016-01-15 01:00:00    86.843261\n",
       "2016-01-15 02:00:00    86.842308\n",
       "2016-01-15 03:00:00    87.226430\n",
       "2016-01-15 04:00:00    86.688794\n",
       "                         ...    \n",
       "2018-08-18 06:59:59    89.574376\n",
       "2018-08-18 07:59:59    87.724007\n",
       "2018-08-18 08:59:59    88.890579\n",
       "2018-08-18 09:59:59    89.858126\n",
       "2018-08-18 10:59:59    89.514960\n",
       "Name: rougher.output.recovery, Length: 14287, dtype: float64"
      ]
     },
     "execution_count": 9,
     "metadata": {},
     "output_type": "execute_result"
    }
   ],
   "source": [
    "real_rought_output_recovery"
   ]
  },
  {
   "cell_type": "code",
   "execution_count": 10,
   "metadata": {},
   "outputs": [
    {
     "data": {
      "text/plain": [
       "date\n",
       "2016-01-15 00:00:00    87.107763\n",
       "2016-01-15 01:00:00    86.843261\n",
       "2016-01-15 02:00:00    86.842308\n",
       "2016-01-15 03:00:00    87.226430\n",
       "2016-01-15 04:00:00    86.688794\n",
       "                         ...    \n",
       "2018-08-18 06:59:59    89.574376\n",
       "2018-08-18 07:59:59    87.724007\n",
       "2018-08-18 08:59:59    88.890579\n",
       "2018-08-18 09:59:59    89.858126\n",
       "2018-08-18 10:59:59    89.514960\n",
       "Length: 14287, dtype: float64"
      ]
     },
     "execution_count": 10,
     "metadata": {},
     "output_type": "execute_result"
    }
   ],
   "source": [
    "rougher_output_recovery_calculated\n"
   ]
  },
  {
   "cell_type": "code",
   "execution_count": 11,
   "metadata": {},
   "outputs": [
    {
     "name": "stdout",
     "output_type": "stream",
     "text": [
      "Значение MAE: 9.463293326830816e-15\n"
     ]
    }
   ],
   "source": [
    "mae = mean_absolute_error(real_rought_output_recovery, rougher_output_recovery_calculated)\n",
    "print('Значение MAE:', mae)"
   ]
  },
  {
   "cell_type": "code",
   "execution_count": 12,
   "metadata": {},
   "outputs": [],
   "source": [
    "test_column_names = list(test_data.columns)\n",
    "full_column_names = list(full_data.columns)\n",
    "missing_features = []"
   ]
  },
  {
   "cell_type": "code",
   "execution_count": 13,
   "metadata": {},
   "outputs": [
    {
     "data": {
      "text/plain": [
       "['final.output.concentrate_ag',\n",
       " 'final.output.concentrate_pb',\n",
       " 'final.output.concentrate_sol',\n",
       " 'final.output.concentrate_au',\n",
       " 'final.output.recovery',\n",
       " 'final.output.tail_ag',\n",
       " 'final.output.tail_pb',\n",
       " 'final.output.tail_sol',\n",
       " 'final.output.tail_au',\n",
       " 'primary_cleaner.output.concentrate_ag',\n",
       " 'primary_cleaner.output.concentrate_pb',\n",
       " 'primary_cleaner.output.concentrate_sol',\n",
       " 'primary_cleaner.output.concentrate_au',\n",
       " 'primary_cleaner.output.tail_ag',\n",
       " 'primary_cleaner.output.tail_pb',\n",
       " 'primary_cleaner.output.tail_sol',\n",
       " 'primary_cleaner.output.tail_au',\n",
       " 'rougher.calculation.sulfate_to_au_concentrate',\n",
       " 'rougher.calculation.floatbank10_sulfate_to_au_feed',\n",
       " 'rougher.calculation.floatbank11_sulfate_to_au_feed',\n",
       " 'rougher.calculation.au_pb_ratio',\n",
       " 'rougher.output.concentrate_ag',\n",
       " 'rougher.output.concentrate_pb',\n",
       " 'rougher.output.concentrate_sol',\n",
       " 'rougher.output.concentrate_au',\n",
       " 'rougher.output.recovery',\n",
       " 'rougher.output.tail_ag',\n",
       " 'rougher.output.tail_pb',\n",
       " 'rougher.output.tail_sol',\n",
       " 'rougher.output.tail_au',\n",
       " 'secondary_cleaner.output.tail_ag',\n",
       " 'secondary_cleaner.output.tail_pb',\n",
       " 'secondary_cleaner.output.tail_sol',\n",
       " 'secondary_cleaner.output.tail_au']"
      ]
     },
     "execution_count": 13,
     "metadata": {},
     "output_type": "execute_result"
    }
   ],
   "source": [
    "for i in full_column_names:\n",
    "    if i not in test_column_names:\n",
    "        missing_features.append(i)\n",
    "\n",
    "missing_features"
   ]
  },
  {
   "cell_type": "markdown",
   "metadata": {},
   "source": [
    "### Выводы\n",
    "Для расчёта эффективности обогащения была написана функция по формуле из методички.  \n",
    "Обратил внимание, что индексы датафреймов в выборках отличались, поэтому индексным столбцом был выбран date.  \n",
    "Удалены строки с NaN.  \n",
    "Проведён рассчёт rougher.output.recovery по данным обучающей выборки.  \n",
    "Результаты сравнены с реальными данными из таблицы с полными данными.  \n",
    "Проведён рассчёт MAE. Показатель оказался близким к нулю, что говорит о правильности рассчёта эффективности обогащения.  \n",
    "Параметры, недоступные в тестовой выборке относятся к типам: параметр продукта (output) и рассчётные (calculation)  \n",
    "Эти параметры появляются по мере прохождения технологической цепочки и описывают постепенное изменение основных метрик.    \n",
    "В конечном итоге из этих параметров можно высчитать эффективность добычи.  \n",
    "\n"
   ]
  },
  {
   "cell_type": "code",
   "execution_count": 14,
   "metadata": {},
   "outputs": [
    {
     "data": {
      "text/plain": [
       "3119"
      ]
     },
     "execution_count": 14,
     "metadata": {},
     "output_type": "execute_result"
    }
   ],
   "source": [
    "full_data['rougher.output.recovery'].isnull().sum()"
   ]
  },
  {
   "cell_type": "code",
   "execution_count": 15,
   "metadata": {},
   "outputs": [
    {
     "data": {
      "text/plain": [
       "2776"
      ]
     },
     "execution_count": 15,
     "metadata": {},
     "output_type": "execute_result"
    }
   ],
   "source": [
    "c_val_full = full_data['rougher.output.concentrate_au'] \n",
    "f_val_full = full_data['rougher.input.feed_au'] \n",
    "t_val_full = full_data['rougher.output.tail_au']\n",
    "\n",
    "full_data['rougher.output.recovery'] = recovery_result(c_val_full, f_val_full, t_val_full)\n",
    "full_data['rougher.output.recovery'].isnull().sum()"
   ]
  },
  {
   "cell_type": "code",
   "execution_count": 16,
   "metadata": {},
   "outputs": [],
   "source": [
    "fd_columns_list_without_target = ['final.output.concentrate_ag', 'final.output.concentrate_pb',\n",
    "       'final.output.concentrate_sol', 'final.output.concentrate_au',\n",
    "        'final.output.tail_ag', 'final.output.tail_pb',\n",
    "       'final.output.tail_sol', 'final.output.tail_au',\n",
    "       'primary_cleaner.input.sulfate', 'primary_cleaner.input.depressant',\n",
    "       'primary_cleaner.input.feed_size', 'primary_cleaner.input.xanthate',\n",
    "       'primary_cleaner.output.concentrate_ag',\n",
    "       'primary_cleaner.output.concentrate_pb',\n",
    "       'primary_cleaner.output.concentrate_sol',\n",
    "       'primary_cleaner.output.concentrate_au',\n",
    "       'primary_cleaner.output.tail_ag', 'primary_cleaner.output.tail_pb',\n",
    "       'primary_cleaner.output.tail_sol', 'primary_cleaner.output.tail_au',\n",
    "       'primary_cleaner.state.floatbank8_a_air',\n",
    "       'primary_cleaner.state.floatbank8_a_level',\n",
    "       'primary_cleaner.state.floatbank8_b_air',\n",
    "       'primary_cleaner.state.floatbank8_b_level',\n",
    "       'primary_cleaner.state.floatbank8_c_air',\n",
    "       'primary_cleaner.state.floatbank8_c_level',\n",
    "       'primary_cleaner.state.floatbank8_d_air',\n",
    "       'primary_cleaner.state.floatbank8_d_level',\n",
    "       'rougher.calculation.sulfate_to_au_concentrate',\n",
    "       'rougher.calculation.floatbank10_sulfate_to_au_feed',\n",
    "       'rougher.calculation.floatbank11_sulfate_to_au_feed',\n",
    "       'rougher.calculation.au_pb_ratio', 'rougher.input.feed_ag',\n",
    "       'rougher.input.feed_pb', 'rougher.input.feed_rate',\n",
    "       'rougher.input.feed_size', 'rougher.input.feed_sol',\n",
    "       'rougher.input.feed_au', 'rougher.input.floatbank10_sulfate',\n",
    "       'rougher.input.floatbank10_xanthate',\n",
    "       'rougher.input.floatbank11_sulfate',\n",
    "       'rougher.input.floatbank11_xanthate', 'rougher.output.concentrate_ag',\n",
    "       'rougher.output.concentrate_pb', 'rougher.output.concentrate_sol',\n",
    "       'rougher.output.concentrate_au',\n",
    "       'rougher.output.tail_ag', 'rougher.output.tail_pb',\n",
    "       'rougher.output.tail_sol', 'rougher.output.tail_au',\n",
    "       'rougher.state.floatbank10_a_air', 'rougher.state.floatbank10_a_level',\n",
    "       'rougher.state.floatbank10_b_air', 'rougher.state.floatbank10_b_level',\n",
    "       'rougher.state.floatbank10_c_air', 'rougher.state.floatbank10_c_level',\n",
    "       'rougher.state.floatbank10_d_air', 'rougher.state.floatbank10_d_level',\n",
    "       'rougher.state.floatbank10_e_air', 'rougher.state.floatbank10_e_level',\n",
    "       'rougher.state.floatbank10_f_air', 'rougher.state.floatbank10_f_level',\n",
    "       'secondary_cleaner.output.tail_ag', 'secondary_cleaner.output.tail_pb',\n",
    "       'secondary_cleaner.output.tail_sol', 'secondary_cleaner.output.tail_au',\n",
    "       'secondary_cleaner.state.floatbank2_a_air',\n",
    "       'secondary_cleaner.state.floatbank2_a_level',\n",
    "       'secondary_cleaner.state.floatbank2_b_air',\n",
    "       'secondary_cleaner.state.floatbank2_b_level',\n",
    "       'secondary_cleaner.state.floatbank3_a_air',\n",
    "       'secondary_cleaner.state.floatbank3_a_level',\n",
    "       'secondary_cleaner.state.floatbank3_b_air',\n",
    "       'secondary_cleaner.state.floatbank3_b_level',\n",
    "       'secondary_cleaner.state.floatbank4_a_air',\n",
    "       'secondary_cleaner.state.floatbank4_a_level',\n",
    "       'secondary_cleaner.state.floatbank4_b_air',\n",
    "       'secondary_cleaner.state.floatbank4_b_level',\n",
    "       'secondary_cleaner.state.floatbank5_a_air',\n",
    "       'secondary_cleaner.state.floatbank5_a_level',\n",
    "       'secondary_cleaner.state.floatbank5_b_air',\n",
    "       'secondary_cleaner.state.floatbank5_b_level',\n",
    "       'secondary_cleaner.state.floatbank6_a_air',\n",
    "       'secondary_cleaner.state.floatbank6_a_level']\n",
    "\n",
    "full_data_without_targets = full_data[fd_columns_list_without_target]\n",
    "    \n",
    "full_data_without_targets = full_data_without_targets.fillna(method = 'ffill')\n",
    "\n",
    "full_data[fd_columns_list_without_target] = full_data_without_targets"
   ]
  },
  {
   "cell_type": "code",
   "execution_count": 17,
   "metadata": {},
   "outputs": [
    {
     "data": {
      "text/plain": [
       "final.output.concentrate_ag                      0\n",
       "final.output.concentrate_pb                      0\n",
       "final.output.concentrate_sol                     0\n",
       "final.output.concentrate_au                      0\n",
       "final.output.recovery                         1963\n",
       "                                              ... \n",
       "secondary_cleaner.state.floatbank5_a_level       0\n",
       "secondary_cleaner.state.floatbank5_b_air         0\n",
       "secondary_cleaner.state.floatbank5_b_level       0\n",
       "secondary_cleaner.state.floatbank6_a_air         0\n",
       "secondary_cleaner.state.floatbank6_a_level       0\n",
       "Length: 86, dtype: int64"
      ]
     },
     "execution_count": 17,
     "metadata": {},
     "output_type": "execute_result"
    }
   ],
   "source": [
    "test_data.isnull().sum()\n",
    "train_data.isnull().sum()\n",
    "full_data.isnull().sum()"
   ]
  },
  {
   "cell_type": "code",
   "execution_count": 18,
   "metadata": {},
   "outputs": [],
   "source": [
    "def data_overfill (full, recovering_data):\n",
    "    columns = list(recovering_data.columns)\n",
    "    changed_full = full[columns]\n",
    "    result = changed_full.loc[recovering_data.index]\n",
    "    return result"
   ]
  },
  {
   "cell_type": "code",
   "execution_count": 19,
   "metadata": {},
   "outputs": [
    {
     "data": {
      "text/plain": [
       "0"
      ]
     },
     "execution_count": 19,
     "metadata": {},
     "output_type": "execute_result"
    }
   ],
   "source": [
    "test_data = data_overfill(full_data, test_data)\n",
    "test_data.isnull().sum().sum()"
   ]
  },
  {
   "cell_type": "code",
   "execution_count": 20,
   "metadata": {},
   "outputs": [
    {
     "data": {
      "text/plain": [
       "3804"
      ]
     },
     "execution_count": 20,
     "metadata": {},
     "output_type": "execute_result"
    }
   ],
   "source": [
    "train_data = data_overfill(full_data, train_data)\n",
    "train_data.isnull().sum().sum()"
   ]
  },
  {
   "cell_type": "code",
   "execution_count": 21,
   "metadata": {},
   "outputs": [],
   "source": [
    "def filled_target_features (full, recovering_data):\n",
    "    recovering_data = pd.DataFrame(recovering_data)\n",
    "    full = full.loc[recovering_data.index]\n",
    "    return full"
   ]
  },
  {
   "cell_type": "code",
   "execution_count": 22,
   "metadata": {},
   "outputs": [],
   "source": [
    "def filled_target_features_for_test (full, recovering_data):\n",
    "    recovering_data = pd.DataFrame(recovering_data)\n",
    "    full = full.loc[recovering_data.index]\n",
    "    recovering_data [['rougher.output.recovery', 'final.output.recovery']] = full[['rougher.output.recovery', 'final.output.recovery']]\n",
    "    return recovering_data"
   ]
  },
  {
   "cell_type": "code",
   "execution_count": 23,
   "metadata": {},
   "outputs": [],
   "source": [
    "test_data = filled_target_features_for_test(full_data, test_data)\n",
    "train_data = filled_target_features_for_test(full_data, train_data)"
   ]
  },
  {
   "cell_type": "code",
   "execution_count": 24,
   "metadata": {},
   "outputs": [
    {
     "data": {
      "text/plain": [
       "0"
      ]
     },
     "execution_count": 24,
     "metadata": {},
     "output_type": "execute_result"
    }
   ],
   "source": [
    "test_data.dropna(subset = ['rougher.output.recovery', 'final.output.recovery'], inplace = True)\n",
    "test_data[['rougher.output.recovery', 'final.output.recovery']].isnull().sum().sum()"
   ]
  },
  {
   "cell_type": "code",
   "execution_count": 25,
   "metadata": {},
   "outputs": [
    {
     "data": {
      "text/plain": [
       "0"
      ]
     },
     "execution_count": 25,
     "metadata": {},
     "output_type": "execute_result"
    }
   ],
   "source": [
    "train_data.dropna(subset = ['rougher.output.recovery', 'final.output.recovery'], inplace = True)\n",
    "train_data[['rougher.output.recovery', 'final.output.recovery']].isnull().sum().sum()"
   ]
  },
  {
   "cell_type": "code",
   "execution_count": 26,
   "metadata": {},
   "outputs": [
    {
     "data": {
      "text/plain": [
       "0"
      ]
     },
     "execution_count": 26,
     "metadata": {},
     "output_type": "execute_result"
    }
   ],
   "source": [
    "train_data.isnull().sum().sum()"
   ]
  },
  {
   "cell_type": "code",
   "execution_count": 27,
   "metadata": {},
   "outputs": [
    {
     "data": {
      "text/plain": [
       "0"
      ]
     },
     "execution_count": 27,
     "metadata": {},
     "output_type": "execute_result"
    }
   ],
   "source": [
    "test_data.isnull().sum().sum()"
   ]
  },
  {
   "cell_type": "markdown",
   "metadata": {},
   "source": [
    "### Выводы по предобработке\n",
    "Предобработка данных проходила следующими этапами:  \n",
    "1) с помощью уже написанной функции рассчитал (где возможно) параметр 'rougher.output.recovery'.  \n",
    "2) были заполнены все проспуски в столбцах фрейма full_data (за исключением целевых признаков 'rougher.output.recovery', 'final.output.recovery') методом fillna('ffill').  \n",
    "3) была написана функция, которая меняет данные тестовой или тренировочной выборки на данные из полного датафрейма без добавления новых признаков.  \n",
    "4) в тестовую и тренировочную выборки были подтянуты данные целевых признаков 'rougher.output.recovery', 'final.output.recovery' из полного датафрейма.  \n",
    "5) в тестовой и тренировочной выборках были дропнуты строки с пропусками в целевых признаках.  "
   ]
  },
  {
   "cell_type": "markdown",
   "metadata": {},
   "source": [
    "## Этап 2: Анализ данных"
   ]
  },
  {
   "cell_type": "markdown",
   "metadata": {},
   "source": [
    "**Отслеживание динамики изменения концентрации металлов (Au, Ag, Pb) на различных этапах очистки**\n"
   ]
  },
  {
   "cell_type": "code",
   "execution_count": 28,
   "metadata": {},
   "outputs": [],
   "source": [
    "au_concentration_columns = ['rougher.output.concentrate_au', 'primary_cleaner.output.concentrate_au', 'final.output.concentrate_au']\n",
    "ag_concentration_columns = ['rougher.output.concentrate_ag', 'primary_cleaner.output.concentrate_ag', 'final.output.concentrate_ag']\n",
    "pb_concentration_columns = ['rougher.output.concentrate_pb', 'primary_cleaner.output.concentrate_pb', 'final.output.concentrate_pb']"
   ]
  },
  {
   "cell_type": "code",
   "execution_count": 29,
   "metadata": {},
   "outputs": [
    {
     "data": {
      "text/plain": [
       "array([[<matplotlib.axes._subplots.AxesSubplot object at 0x11c5e3550>,\n",
       "        <matplotlib.axes._subplots.AxesSubplot object at 0x120f9f510>],\n",
       "       [<matplotlib.axes._subplots.AxesSubplot object at 0x120fd2d10>,\n",
       "        <matplotlib.axes._subplots.AxesSubplot object at 0x12100f550>]],\n",
       "      dtype=object)"
      ]
     },
     "execution_count": 29,
     "metadata": {},
     "output_type": "execute_result"
    },
    {
     "data": {
      "image/png": "[encoded data removed]",
      "text/plain": [
       "<Figure size 1152x576 with 4 Axes>"
      ]
     },
     "metadata": {
      "needs_background": "light"
     },
     "output_type": "display_data"
    }
   ],
   "source": [
    "full_data[au_concentration_columns].hist(bins = 50, figsize = (16,8))\n"
   ]
  },
  {
   "cell_type": "code",
   "execution_count": 30,
   "metadata": {},
   "outputs": [
    {
     "data": {
      "text/plain": [
       "array([[<matplotlib.axes._subplots.AxesSubplot object at 0x120ffa490>,\n",
       "        <matplotlib.axes._subplots.AxesSubplot object at 0x11d5eb510>],\n",
       "       [<matplotlib.axes._subplots.AxesSubplot object at 0x11d61ad10>,\n",
       "        <matplotlib.axes._subplots.AxesSubplot object at 0x11d658550>]],\n",
       "      dtype=object)"
      ]
     },
     "execution_count": 30,
     "metadata": {},
     "output_type": "execute_result"
    },
    {
     "data": {
      "image/png": "[encoded data removed]",
      "text/plain": [
       "<Figure size 1152x576 with 4 Axes>"
      ]
     },
     "metadata": {
      "needs_background": "light"
     },
     "output_type": "display_data"
    }
   ],
   "source": [
    "full_data[ag_concentration_columns].hist(bins = 50, color = 'r', figsize = (16,8))\n"
   ]
  },
  {
   "cell_type": "code",
   "execution_count": 31,
   "metadata": {},
   "outputs": [
    {
     "data": {
      "text/plain": [
       "array([[<matplotlib.axes._subplots.AxesSubplot object at 0x1a24e65710>,\n",
       "        <matplotlib.axes._subplots.AxesSubplot object at 0x1a24ea0890>],\n",
       "       [<matplotlib.axes._subplots.AxesSubplot object at 0x1a25085c10>,\n",
       "        <matplotlib.axes._subplots.AxesSubplot object at 0x1a250bc8d0>]],\n",
       "      dtype=object)"
      ]
     },
     "execution_count": 31,
     "metadata": {},
     "output_type": "execute_result"
    },
    {
     "data": {
      "image/png": "[encoded data removed]",
      "text/plain": [
       "<Figure size 1152x576 with 4 Axes>"
      ]
     },
     "metadata": {
      "needs_background": "light"
     },
     "output_type": "display_data"
    }
   ],
   "source": [
    "full_data[pb_concentration_columns].hist(bins = 50, color = 'g', figsize = (16,8))\n"
   ]
  },
  {
   "cell_type": "markdown",
   "metadata": {},
   "source": [
    "### Выводы  \n",
    "Концентрация золота устойчивости растёт по мере новых этапов очистки.  \n",
    "Концентрация серебра устойчивости снижается по мере новых этапов очистки.  \n",
    "Концентрация свинца растёт только после первого этапа. Последующие очистки не повышают концентрацию.  "
   ]
  },
  {
   "cell_type": "markdown",
   "metadata": {},
   "source": [
    "**Сравнение распределений размеров гранул сырья на обучающей и тестовой выборках.**\n"
   ]
  },
  {
   "cell_type": "code",
   "execution_count": 32,
   "metadata": {},
   "outputs": [
    {
     "data": {
      "image/png": "[encoded data removed]",
      "text/plain": [
       "<Figure size 432x288 with 1 Axes>"
      ]
     },
     "metadata": {
      "needs_background": "light"
     },
     "output_type": "display_data"
    }
   ],
   "source": [
    "#rougher.input.feed_size\n",
    "#primary_cleaner.input.feed_size\n",
    "#rougher.input.feed_size\n",
    "\n",
    "test_data['rougher.input.feed_size'].plot(kind='hist', bins = 100)\n",
    "train_data['rougher.input.feed_size'].plot(kind='hist', bins = 100, alpha = 0.5)\n",
    "plt.xlim(0,150)\n",
    "plt.title('Сравнение распределений rougher.input.feed_size')\n",
    "plt.show()"
   ]
  },
  {
   "cell_type": "code",
   "execution_count": 33,
   "metadata": {},
   "outputs": [
    {
     "data": {
      "image/png": "[encoded data removed]",
      "text/plain": [
       "<Figure size 432x288 with 1 Axes>"
      ]
     },
     "metadata": {
      "needs_background": "light"
     },
     "output_type": "display_data"
    }
   ],
   "source": [
    "test_data['primary_cleaner.input.feed_size'].plot(kind='hist', bins = 100)\n",
    "train_data['primary_cleaner.input.feed_size'].plot(kind='hist', bins = 100, alpha = 0.5)\n",
    "plt.xlim()\n",
    "plt.title('Сравнение распределений primary_cleaner.input.feed_size')\n",
    "plt.show()"
   ]
  },
  {
   "cell_type": "markdown",
   "metadata": {},
   "source": [
    "### Выводы\n",
    "Распределения не имеют существенных различий."
   ]
  },
  {
   "cell_type": "markdown",
   "metadata": {},
   "source": [
    "**Исследование суммарной концентрации всех веществ на разных стадиях, поиск и удаление аномалий.**  "
   ]
  },
  {
   "cell_type": "code",
   "execution_count": 34,
   "metadata": {},
   "outputs": [],
   "source": [
    "def conc_data_filling (full, recovering_data):\n",
    "    recovering_data = pd.DataFrame(recovering_data)\n",
    "    full = full.loc[recovering_data.index]\n",
    "    recovering_data[[\n",
    "        'final.output.concentrate_au', 'final.output.concentrate_ag',\n",
    "        'final.output.concentrate_pb', 'final.output.concentrate_sol',\n",
    "        'primary_cleaner.output.concentrate_au', 'primary_cleaner.output.concentrate_ag',\n",
    "        'primary_cleaner.output.concentrate_pb', 'primary_cleaner.output.concentrate_sol',\n",
    "        'rougher.output.concentrate_au', 'rougher.output.concentrate_ag',\n",
    "        'rougher.output.concentrate_pb', 'rougher.output.concentrate_sol']] = full[['final.output.concentrate_au', 'final.output.concentrate_ag',\n",
    "        'final.output.concentrate_pb', 'final.output.concentrate_sol',\n",
    "        'primary_cleaner.output.concentrate_au', 'primary_cleaner.output.concentrate_ag',\n",
    "        'primary_cleaner.output.concentrate_pb', 'primary_cleaner.output.concentrate_sol',\n",
    "        'rougher.output.concentrate_au', 'rougher.output.concentrate_ag',\n",
    "        'rougher.output.concentrate_pb', 'rougher.output.concentrate_sol']]\n",
    "    return recovering_data"
   ]
  },
  {
   "cell_type": "code",
   "execution_count": 35,
   "metadata": {},
   "outputs": [],
   "source": [
    "final_concentrate_columns = [\n",
    "    'final.output.concentrate_au', 'final.output.concentrate_ag',\n",
    "    'final.output.concentrate_pb', 'final.output.concentrate_sol']\n",
    "primary_concentrate_columns = [\n",
    "    'primary_cleaner.output.concentrate_au', 'primary_cleaner.output.concentrate_ag',\n",
    "    'primary_cleaner.output.concentrate_pb', 'primary_cleaner.output.concentrate_sol']\n",
    "rought_concentrate_columns = [\n",
    "    'rougher.output.concentrate_au', 'rougher.output.concentrate_ag',\n",
    "    'rougher.output.concentrate_pb', 'rougher.output.concentrate_sol']\n"
   ]
  },
  {
   "cell_type": "code",
   "execution_count": 36,
   "metadata": {},
   "outputs": [],
   "source": [
    "test_data_conc = conc_data_filling(full_data, test_data)\n",
    "train_data_conc = conc_data_filling(full_data, train_data)"
   ]
  },
  {
   "cell_type": "code",
   "execution_count": 37,
   "metadata": {},
   "outputs": [
    {
     "data": {
      "image/png": "[encoded data removed]",
      "text/plain": [
       "<Figure size 432x288 with 1 Axes>"
      ]
     },
     "metadata": {
      "needs_background": "light"
     },
     "output_type": "display_data"
    }
   ],
   "source": [
    "sum_concentradte_data = full_data\n",
    "sum_concentradte_data['final_total_concentrate'] = sum_concentradte_data[final_concentrate_columns].sum(axis =1)\n",
    "sum_concentradte_data['primary_total_concentrate'] = sum_concentradte_data[primary_concentrate_columns].sum(axis =1)\n",
    "sum_concentradte_data['rought_total_concentrate'] = sum_concentradte_data[rought_concentrate_columns].sum(axis =1)\n",
    "\n",
    "sum_concentradte_data['final_total_concentrate'].plot(kind='hist', bins = 100, legend = True)\n",
    "sum_concentradte_data['primary_total_concentrate'].plot(kind='hist', bins = 100, alpha = 0.5, legend = True)\n",
    "sum_concentradte_data['rought_total_concentrate'].plot(kind='hist', bins = 100, alpha = 0.5, legend = True)\n",
    "plt.xlim(0)\n",
    "plt.title('Сравнение распределений суммарной концентрации веществ на разных стадиях (полная выборка)')\n",
    "plt.show()"
   ]
  },
  {
   "cell_type": "code",
   "execution_count": 38,
   "metadata": {},
   "outputs": [
    {
     "data": {
      "image/png": "[encoded data removed]",
      "text/plain": [
       "<Figure size 432x288 with 1 Axes>"
      ]
     },
     "metadata": {
      "needs_background": "light"
     },
     "output_type": "display_data"
    }
   ],
   "source": [
    "sum_concentradte_test_data = test_data_conc\n",
    "sum_concentradte_test_data['final_total_concentrate'] = sum_concentradte_test_data[final_concentrate_columns].sum(axis =1)\n",
    "sum_concentradte_test_data['primary_total_concentrate'] = sum_concentradte_test_data[primary_concentrate_columns].sum(axis =1)\n",
    "sum_concentradte_test_data['rought_total_concentrate'] = sum_concentradte_test_data[rought_concentrate_columns].sum(axis =1)\n",
    "\n",
    "sum_concentradte_test_data['final_total_concentrate'].plot(kind='hist', bins = 100, legend = True)\n",
    "sum_concentradte_test_data['primary_total_concentrate'].plot(kind='hist', bins = 100, alpha = 0.5, legend = True)\n",
    "sum_concentradte_test_data['rought_total_concentrate'].plot(kind='hist', bins = 100, alpha = 0.5, legend = True)\n",
    "plt.xlim()\n",
    "plt.title('Сравнение распределений суммарной концентрации веществ на разных стадиях (тестовая выборка)')\n",
    "plt.show()"
   ]
  },
  {
   "cell_type": "code",
   "execution_count": 39,
   "metadata": {},
   "outputs": [
    {
     "data": {
      "image/png": "[encoded data removed]",
      "text/plain": [
       "<Figure size 432x288 with 1 Axes>"
      ]
     },
     "metadata": {
      "needs_background": "light"
     },
     "output_type": "display_data"
    }
   ],
   "source": [
    "sum_concentradte_train_data = train_data_conc\n",
    "sum_concentradte_train_data['final_total_concentrate'] = sum_concentradte_train_data[final_concentrate_columns].sum(axis =1)\n",
    "sum_concentradte_train_data['primary_total_concentrate'] = sum_concentradte_train_data[primary_concentrate_columns].sum(axis =1)\n",
    "sum_concentradte_train_data['rought_total_concentrate'] = sum_concentradte_train_data[rought_concentrate_columns].sum(axis =1)\n",
    "\n",
    "sum_concentradte_train_data['final_total_concentrate'].plot(kind='hist', bins = 100, legend = True)\n",
    "sum_concentradte_train_data['primary_total_concentrate'].plot(kind='hist', bins = 100, alpha = 0.5, legend = True)\n",
    "sum_concentradte_train_data['rought_total_concentrate'].plot(kind='hist', bins = 100, alpha = 0.5, legend = True)\n",
    "plt.xlim()\n",
    "plt.title('Сравнение распределений суммарной концентрации веществ на разных стадиях (тренировочная выборка)')\n",
    "plt.show()"
   ]
  },
  {
   "cell_type": "markdown",
   "metadata": {},
   "source": [
    "### Выводы\n",
    "Распределения суммарной концентрации веществ в сырье на тестовой выборке имеет отличия от остальных выборок.  \n",
    "В ней преобладает показатель около 75, тогда как в полном датасете и тренировочной выборке максимум значений распределены в районе 70.  \n",
    "Также отмечаю, что на тренировочной выборке максимум primary_total_concentrate находится околоо 60,  \n",
    "в отличие от полной и тестовой выборок.  \n",
    "Полагаю необходимым сократить количество количество записей, отвечающих критерию аномальности, в обоих датафреймах.  "
   ]
  },
  {
   "cell_type": "markdown",
   "metadata": {},
   "source": [
    "### (UPD)\n",
    "\n",
    "Аномалия на значении 0. Лучше исключить эти данные их выборок.  "
   ]
  },
  {
   "cell_type": "code",
   "execution_count": 40,
   "metadata": {},
   "outputs": [],
   "source": [
    "sum_concentradte_test_data = sum_concentradte_test_data.query(\n",
    "    'rought_total_concentrate > 0 & final_total_concentrate > 0 & primary_total_concentrate > 0')"
   ]
  },
  {
   "cell_type": "code",
   "execution_count": 41,
   "metadata": {},
   "outputs": [],
   "source": [
    "sum_concentradte_train_data = sum_concentradte_train_data.query(\n",
    "    'rought_total_concentrate > 0.9 & final_total_concentrate > 0.9 & primary_total_concentrate > 0.9')"
   ]
  },
  {
   "cell_type": "code",
   "execution_count": 42,
   "metadata": {},
   "outputs": [
    {
     "data": {
      "image/png": "[encoded data removed]",
      "text/plain": [
       "<Figure size 432x288 with 1 Axes>"
      ]
     },
     "metadata": {
      "needs_background": "light"
     },
     "output_type": "display_data"
    }
   ],
   "source": [
    "sum_concentradte_test_data['final_total_concentrate'].plot(kind='hist', bins = 100, legend = True)\n",
    "sum_concentradte_test_data['primary_total_concentrate'].plot(kind='hist', bins = 100, alpha = 0.5, legend = True)\n",
    "sum_concentradte_test_data['rought_total_concentrate'].plot(kind='hist', bins = 100, alpha = 0.5, legend = True)\n",
    "plt.title('Сравнение распределений суммарной концентрации веществ на разных стадиях (тестовая выборка)')\n",
    "plt.show()"
   ]
  },
  {
   "cell_type": "code",
   "execution_count": 43,
   "metadata": {},
   "outputs": [
    {
     "data": {
      "image/png": "[encoded data removed]",
      "text/plain": [
       "<Figure size 432x288 with 1 Axes>"
      ]
     },
     "metadata": {
      "needs_background": "light"
     },
     "output_type": "display_data"
    }
   ],
   "source": [
    "sum_concentradte_train_data['final_total_concentrate'].plot(kind='hist', bins = 100, legend = True)\n",
    "sum_concentradte_train_data['primary_total_concentrate'].plot(kind='hist', bins = 100, alpha = 0.5, legend = True)\n",
    "sum_concentradte_train_data['rought_total_concentrate'].plot(kind='hist', bins = 100, alpha = 0.5, legend = True)\n",
    "plt.xlim()\n",
    "plt.title('Сравнение распределений суммарной концентрации веществ на разных стадиях (тренировочная выборка)')\n",
    "plt.show()"
   ]
  },
  {
   "cell_type": "markdown",
   "metadata": {},
   "source": [
    "### Выводы (дополнение). \n",
    "Удалил рандомно строки, создающие дисбаланса в распределениях. \n"
   ]
  },
  {
   "cell_type": "markdown",
   "metadata": {},
   "source": [
    "### Выводы по 2.3.  (UPD). \n",
    "Сформированы датафреймы без нулевых значений, однако на тренировочной выборке всё же имеется хвост на значения до 0.9.  \n",
    "По этой причине удалил значения до 0.9."
   ]
  },
  {
   "cell_type": "markdown",
   "metadata": {},
   "source": [
    "## Этап 3: Построение моделей, создание функции smape "
   ]
  },
  {
   "cell_type": "code",
   "execution_count": 44,
   "metadata": {},
   "outputs": [],
   "source": [
    "def smape (answers, predictions):\n",
    "    result = 100/len(answers) * np.sum(2 * np.abs(\n",
    "        predictions - answers) / (np.abs(answers) + np.abs(predictions)))\n",
    "    return result\n",
    "\n",
    "\n",
    "def final_smape (answers_rougher, predictions_rougher, answers_final, predictions_final):\n",
    "    rought = 100/len(answers_rougher) * np.sum(2 * np.abs(\n",
    "        predictions_rougher - answers_rougher) / (np.abs(answers_rougher) + np.abs(predictions_rougher)))\n",
    "    final = 100/len(answers_final) * np.sum(2 * np.abs(\n",
    "        predictions_final - answers_final) / (np.abs(answers_final) + np.abs(predictions_final)))\n",
    "    \n",
    "    return rought*0.25 + final*0.75\n",
    "\n",
    "def smape_sec_ed(rought, final):\n",
    "    return rought*0.25 + final*0.75"
   ]
  },
  {
   "cell_type": "code",
   "execution_count": 45,
   "metadata": {},
   "outputs": [],
   "source": [
    "from sklearn.metrics import make_scorer\n",
    "scorer = make_scorer(smape)\n"
   ]
  },
  {
   "cell_type": "code",
   "execution_count": 46,
   "metadata": {},
   "outputs": [],
   "source": [
    "train_data_sample = sum_concentradte_train_data[test_data.columns]\n",
    "train_data_sample = train_data_sample.dropna()\n",
    "test_data = sum_concentradte_test_data[test_data.columns]\n",
    "test_data = test_data.dropna()"
   ]
  },
  {
   "cell_type": "code",
   "execution_count": 47,
   "metadata": {},
   "outputs": [],
   "source": [
    "train_target_rought = train_data_sample['rougher.output.recovery']\n",
    "train_target_final = train_data_sample['final.output.recovery']\n",
    "train_features = train_data_sample.drop(['rougher.output.recovery','final.output.recovery'], axis=1)\n",
    "\n",
    "\n",
    "test_target_rought = test_data['rougher.output.recovery']\n",
    "test_target_final = test_data['final.output.recovery']\n",
    "test_features = test_data.drop(['rougher.output.recovery','final.output.recovery'], axis=1)\n"
   ]
  },
  {
   "cell_type": "code",
   "execution_count": 48,
   "metadata": {},
   "outputs": [],
   "source": [
    "from sklearn.preprocessing import StandardScaler"
   ]
  },
  {
   "cell_type": "code",
   "execution_count": 49,
   "metadata": {},
   "outputs": [],
   "source": [
    "numeric = ['primary_cleaner.input.sulfate',\n",
    " 'primary_cleaner.input.depressant',\n",
    " 'primary_cleaner.input.feed_size',\n",
    " 'primary_cleaner.input.xanthate',\n",
    " 'primary_cleaner.state.floatbank8_a_air',\n",
    " 'primary_cleaner.state.floatbank8_a_level',\n",
    " 'primary_cleaner.state.floatbank8_b_air',\n",
    " 'primary_cleaner.state.floatbank8_b_level',\n",
    " 'primary_cleaner.state.floatbank8_c_air',\n",
    " 'primary_cleaner.state.floatbank8_c_level',\n",
    " 'primary_cleaner.state.floatbank8_d_air',\n",
    " 'primary_cleaner.state.floatbank8_d_level',\n",
    " 'rougher.input.feed_ag',\n",
    " 'rougher.input.feed_pb',\n",
    " 'rougher.input.feed_rate',\n",
    " 'rougher.input.feed_size',\n",
    " 'rougher.input.feed_sol',\n",
    " 'rougher.input.feed_au',\n",
    " 'rougher.input.floatbank10_sulfate',\n",
    " 'rougher.input.floatbank10_xanthate',\n",
    " 'rougher.input.floatbank11_sulfate',\n",
    " 'rougher.input.floatbank11_xanthate',\n",
    " 'rougher.state.floatbank10_a_air',\n",
    " 'rougher.state.floatbank10_a_level',\n",
    " 'rougher.state.floatbank10_b_air',\n",
    " 'rougher.state.floatbank10_b_level',\n",
    " 'rougher.state.floatbank10_c_air',\n",
    " 'rougher.state.floatbank10_c_level',\n",
    " 'rougher.state.floatbank10_d_air',\n",
    " 'rougher.state.floatbank10_d_level',\n",
    " 'rougher.state.floatbank10_e_air',\n",
    " 'rougher.state.floatbank10_e_level',\n",
    " 'rougher.state.floatbank10_f_air',\n",
    " 'rougher.state.floatbank10_f_level',\n",
    " 'secondary_cleaner.state.floatbank2_a_air',\n",
    " 'secondary_cleaner.state.floatbank2_a_level',\n",
    " 'secondary_cleaner.state.floatbank2_b_air',\n",
    " 'secondary_cleaner.state.floatbank2_b_level',\n",
    " 'secondary_cleaner.state.floatbank3_a_air',\n",
    " 'secondary_cleaner.state.floatbank3_a_level',\n",
    " 'secondary_cleaner.state.floatbank3_b_air',\n",
    " 'secondary_cleaner.state.floatbank3_b_level',\n",
    " 'secondary_cleaner.state.floatbank4_a_air',\n",
    " 'secondary_cleaner.state.floatbank4_a_level',\n",
    " 'secondary_cleaner.state.floatbank4_b_air',\n",
    " 'secondary_cleaner.state.floatbank4_b_level',\n",
    " 'secondary_cleaner.state.floatbank5_a_air',\n",
    " 'secondary_cleaner.state.floatbank5_a_level',\n",
    " 'secondary_cleaner.state.floatbank5_b_air',\n",
    " 'secondary_cleaner.state.floatbank5_b_level',\n",
    " 'secondary_cleaner.state.floatbank6_a_air',\n",
    " 'secondary_cleaner.state.floatbank6_a_level',\n",
    " 'final.output.concentrate_au',\n",
    " 'final.output.concentrate_ag',\n",
    " 'final.output.concentrate_pb',\n",
    " 'final.output.concentrate_sol',\n",
    " 'primary_cleaner.output.concentrate_au',\n",
    " 'primary_cleaner.output.concentrate_ag',\n",
    " 'primary_cleaner.output.concentrate_pb',\n",
    " 'primary_cleaner.output.concentrate_sol',\n",
    " 'rougher.output.concentrate_au',\n",
    " 'rougher.output.concentrate_ag',\n",
    " 'rougher.output.concentrate_pb',\n",
    " 'rougher.output.concentrate_sol']\n",
    "\n",
    "scaler = StandardScaler()\n",
    "scaler.fit(train_features[numeric])\n",
    "train_features[numeric] = scaler.transform(train_features[numeric])                           \n",
    "test_features[numeric] = scaler.transform(test_features[numeric])"
   ]
  },
  {
   "cell_type": "code",
   "execution_count": 50,
   "metadata": {},
   "outputs": [],
   "source": [
    "train_features_rought = train_data_sample[[\n",
    "    'rougher.input.feed_ag','rougher.input.feed_pb', 'rougher.input.feed_rate', 'rougher.input.feed_size',\n",
    "    'rougher.input.feed_sol', 'rougher.input.feed_au', 'rougher.input.floatbank10_sulfate', \n",
    "    'rougher.input.floatbank10_xanthate', 'rougher.input.floatbank11_sulfate', \n",
    "    'rougher.input.floatbank11_xanthate', 'rougher.state.floatbank10_a_air', 'rougher.state.floatbank10_a_level',\n",
    "    'rougher.state.floatbank10_b_air', 'rougher.state.floatbank10_b_level', 'rougher.state.floatbank10_c_air',\n",
    "    'rougher.state.floatbank10_c_level', 'rougher.state.floatbank10_d_air', 'rougher.state.floatbank10_d_level',\n",
    "    'rougher.state.floatbank10_e_air', 'rougher.state.floatbank10_e_level', \n",
    "    'rougher.state.floatbank10_f_air', 'rougher.state.floatbank10_f_level']]\n",
    "\n",
    "test_features_rought = test_data[[\n",
    "    'rougher.input.feed_ag','rougher.input.feed_pb', 'rougher.input.feed_rate', 'rougher.input.feed_size',\n",
    "    'rougher.input.feed_sol', 'rougher.input.feed_au', 'rougher.input.floatbank10_sulfate', \n",
    "    'rougher.input.floatbank10_xanthate', 'rougher.input.floatbank11_sulfate', \n",
    "    'rougher.input.floatbank11_xanthate', 'rougher.state.floatbank10_a_air', 'rougher.state.floatbank10_a_level',\n",
    "    'rougher.state.floatbank10_b_air', 'rougher.state.floatbank10_b_level', 'rougher.state.floatbank10_c_air',\n",
    "    'rougher.state.floatbank10_c_level', 'rougher.state.floatbank10_d_air', 'rougher.state.floatbank10_d_level',\n",
    "    'rougher.state.floatbank10_e_air', 'rougher.state.floatbank10_e_level', \n",
    "    'rougher.state.floatbank10_f_air', 'rougher.state.floatbank10_f_level']]\n"
   ]
  },
  {
   "cell_type": "markdown",
   "metadata": {},
   "source": [
    "Были подготоволены дополнительтные выборки, в которых для определения целевого параметра rought испольуется меньшее количество параметров - только те, которые имею приставку rougher.  "
   ]
  },
  {
   "cell_type": "markdown",
   "metadata": {},
   "source": [
    "**Обучение модели LinearRegressin**"
   ]
  },
  {
   "cell_type": "code",
   "execution_count": 51,
   "metadata": {},
   "outputs": [],
   "source": [
    "from sklearn.linear_model import LinearRegression\n",
    "from sklearn.metrics import mean_squared_error\n",
    "\n",
    "model_linear = LinearRegression()\n",
    "model_linear.fit(train_features, train_target_rought)\n",
    "model_predicted_rought = model_linear.predict(test_features)\n",
    "model_predicted_final = model_linear.predict(test_features)"
   ]
  },
  {
   "cell_type": "code",
   "execution_count": 52,
   "metadata": {},
   "outputs": [],
   "source": [
    "model_linear_cutted_data = LinearRegression()\n",
    "model_linear_cutted_data.fit(train_features_rought, train_target_rought)\n",
    "model_predicted_rought_cutted = model_linear_cutted_data.predict(test_features_rought)\n"
   ]
  },
  {
   "cell_type": "code",
   "execution_count": 53,
   "metadata": {},
   "outputs": [
    {
     "data": {
      "text/plain": [
       "(135.4764933585118, 118.05520462310162)"
      ]
     },
     "execution_count": 53,
     "metadata": {},
     "output_type": "execute_result"
    }
   ],
   "source": [
    "from sklearn.model_selection import cross_val_score\n",
    "\n",
    "rought_score_for_linear = cross_val_score(\n",
    "    model_linear, train_features, train_target_rought, cv=5, scoring = scorer).mean()\n",
    "rought_score_for_linear\n",
    "\n",
    "rought_score_for_linear_cutted = cross_val_score(\n",
    "    model_linear_cutted_data, train_features_rought, train_target_rought, cv=5, scoring = scorer).mean()\n",
    "\n",
    "\n",
    "rought_score_for_linear, rought_score_for_linear_cutted"
   ]
  },
  {
   "cell_type": "code",
   "execution_count": 54,
   "metadata": {},
   "outputs": [
    {
     "data": {
      "text/plain": [
       "10.381653485347723"
      ]
     },
     "execution_count": 54,
     "metadata": {},
     "output_type": "execute_result"
    }
   ],
   "source": [
    "final_score_for_linear = cross_val_score(\n",
    "    model_linear, train_features, train_target_final, cv=5, scoring = scorer).mean()\n",
    "final_score_for_linear\n"
   ]
  },
  {
   "cell_type": "code",
   "execution_count": 55,
   "metadata": {},
   "outputs": [
    {
     "name": "stdout",
     "output_type": "stream",
     "text": [
      "SMAPE модели по полным данным rought: 41.65536345363874\n"
     ]
    }
   ],
   "source": [
    "smape_linear = smape_sec_ed(rought_score_for_linear, final_score_for_linear)\n",
    "print('SMAPE модели по полным данным rought:', smape_linear)"
   ]
  },
  {
   "cell_type": "code",
   "execution_count": 56,
   "metadata": {},
   "outputs": [
    {
     "name": "stdout",
     "output_type": "stream",
     "text": [
      "SMAPE модели по сортированным данным rought: 37.3000412697862\n"
     ]
    }
   ],
   "source": [
    "smape_linear_cutted = smape_sec_ed(rought_score_for_linear_cutted, final_score_for_linear)\n",
    "print('SMAPE модели по сортированным данным rought:', smape_linear_cutted) "
   ]
  },
  {
   "cell_type": "code",
   "execution_count": 57,
   "metadata": {},
   "outputs": [],
   "source": [
    "mean_train_target_rought = pd.Series(train_target_rought.mean(), index=train_target_rought.index)\n",
    "mean_train_target_final = pd.Series(train_target_final.mean(), index=train_target_final.index)"
   ]
  },
  {
   "cell_type": "code",
   "execution_count": 58,
   "metadata": {},
   "outputs": [
    {
     "name": "stdout",
     "output_type": "stream",
     "text": [
      "sMAPE по средним данным: 12.200165021051728\n"
     ]
    }
   ],
   "source": [
    "mean_smape_linear = final_smape(\n",
    "    train_target_rought, mean_train_target_rought, train_target_final, mean_train_target_final)\n",
    "\n",
    "print('sMAPE по средним данным:', mean_smape_linear)"
   ]
  },
  {
   "cell_type": "markdown",
   "metadata": {},
   "source": [
    "#### Обучение модели Ridge regression"
   ]
  },
  {
   "cell_type": "code",
   "execution_count": 59,
   "metadata": {},
   "outputs": [
    {
     "name": "stdout",
     "output_type": "stream",
     "text": [
      "sMAPE Ridge regression: 37.2962809720521\n"
     ]
    }
   ],
   "source": [
    "from sklearn import linear_model\n",
    "ridge_reg = linear_model.Ridge(alpha=0.5)\n",
    "\n",
    "rought_score_ridge_reg_rought = cross_val_score(\n",
    "    ridge_reg, train_features_rought, train_target_rought, cv=5, scoring = scorer).mean()\n",
    "\n",
    "final_score_for_reg_rought = cross_val_score(\n",
    "    ridge_reg, train_features, train_target_final, cv=5, scoring = scorer).mean()\n",
    "    \n",
    "smape_ridge_reg = smape_sec_ed(rought_score_ridge_reg_rought, final_score_for_reg_rought)\n",
    "\n",
    "print('sMAPE Ridge regression:', smape_ridge_reg)\n"
   ]
  },
  {
   "cell_type": "markdown",
   "metadata": {},
   "source": [
    "#### Support Vector Classification (Регрессия опорных векторов)"
   ]
  },
  {
   "cell_type": "code",
   "execution_count": 60,
   "metadata": {},
   "outputs": [],
   "source": [
    "from sklearn import svm\n",
    "svm_model = svm.SVR(C = 1)\n"
   ]
  },
  {
   "cell_type": "code",
   "execution_count": 61,
   "metadata": {},
   "outputs": [
    {
     "data": {
      "text/plain": [
       "7.206194083050988"
      ]
     },
     "execution_count": 61,
     "metadata": {},
     "output_type": "execute_result"
    }
   ],
   "source": [
    "rought_score_for_svm = cross_val_score(\n",
    "    svm_model, train_features_rought, train_target_rought, cv=5, scoring = scorer).mean()\n",
    "rought_score_for_svm"
   ]
  },
  {
   "cell_type": "code",
   "execution_count": 62,
   "metadata": {},
   "outputs": [
    {
     "data": {
      "text/plain": [
       "9.20599471952042"
      ]
     },
     "execution_count": 62,
     "metadata": {},
     "output_type": "execute_result"
    }
   ],
   "source": [
    "final_score_for_svm = cross_val_score(\n",
    "    svm_model, train_features, train_target_final, cv=5, scoring = scorer).mean()\n",
    "final_score_for_svm"
   ]
  },
  {
   "cell_type": "code",
   "execution_count": 63,
   "metadata": {},
   "outputs": [
    {
     "data": {
      "text/plain": [
       "8.706044560403063"
      ]
     },
     "execution_count": 63,
     "metadata": {},
     "output_type": "execute_result"
    }
   ],
   "source": [
    "smape_svm = smape_sec_ed(rought_score_for_svm, final_score_for_svm)\n",
    "smape_svm"
   ]
  },
  {
   "cell_type": "markdown",
   "metadata": {},
   "source": [
    "#### Обучение модели для rought по данным с дополнительным сокращение параметров    \n",
    "В рамках дополнительного теста выборка подверглись ещё одному сокращению параметров.  \n",
    "На этот раз я использовал только входные.\n"
   ]
  },
  {
   "cell_type": "code",
   "execution_count": 64,
   "metadata": {},
   "outputs": [],
   "source": [
    "train_features_rought_extra_cutted = train_data_sample[[\n",
    "    'rougher.input.feed_ag','rougher.input.feed_pb', 'rougher.input.feed_rate', 'rougher.input.feed_size',\n",
    "    'rougher.input.feed_sol', 'rougher.input.feed_au', 'rougher.input.floatbank10_sulfate', \n",
    "    'rougher.input.floatbank10_xanthate', 'rougher.input.floatbank11_sulfate', \n",
    "    'rougher.input.floatbank11_xanthate']]\n",
    "\n",
    "test_features_rought_extra_cutted = test_data[[\n",
    "    'rougher.input.feed_ag','rougher.input.feed_pb', 'rougher.input.feed_rate', 'rougher.input.feed_size',\n",
    "    'rougher.input.feed_sol', 'rougher.input.feed_au', 'rougher.input.floatbank10_sulfate', \n",
    "    'rougher.input.floatbank10_xanthate', 'rougher.input.floatbank11_sulfate', \n",
    "    'rougher.input.floatbank11_xanthate']]"
   ]
  },
  {
   "cell_type": "code",
   "execution_count": 65,
   "metadata": {},
   "outputs": [
    {
     "name": "stdout",
     "output_type": "stream",
     "text": [
      "sMAPE SVM по сокращеённым параметрам: 8.163086713853103\n"
     ]
    }
   ],
   "source": [
    "svm_model_rought = svm.SVR()\n",
    "\n",
    "rought_score_for_svm_cutted = cross_val_score(\n",
    "    svm_model_rought, train_features_rought_extra_cutted, train_target_rought, cv=5, scoring = scorer).mean()\n",
    "print('sMAPE SVM по сокращеённым параметрам:', rought_score_for_svm_cutted)"
   ]
  },
  {
   "cell_type": "markdown",
   "metadata": {},
   "source": [
    "### Подход сокращения параметров в выборках оправдал себя."
   ]
  },
  {
   "cell_type": "markdown",
   "metadata": {},
   "source": [
    "#### Дерево решений"
   ]
  },
  {
   "cell_type": "code",
   "execution_count": 66,
   "metadata": {},
   "outputs": [],
   "source": [
    "from sklearn.tree import DecisionTreeRegressor\n",
    "\n",
    "dec_tree = DecisionTreeRegressor(random_state=12345, max_depth=16,  max_leaf_nodes= 4)\n",
    "\n",
    "rought_score_for_dec_tree = cross_val_score(\n",
    "    dec_tree, train_features_rought_extra_cutted, train_target_rought, cv=5, scoring = scorer).mean()\n",
    "\n",
    "final_score_for_dec_tree = cross_val_score(\n",
    "    dec_tree, train_features, train_target_final, cv=5, scoring = scorer).mean()"
   ]
  },
  {
   "cell_type": "code",
   "execution_count": 67,
   "metadata": {},
   "outputs": [
    {
     "name": "stdout",
     "output_type": "stream",
     "text": [
      "sMAPE DecisionTreeRegressor = 9.120822793710847\n"
     ]
    }
   ],
   "source": [
    "smape_svm_dec_tree = smape_sec_ed(rought_score_for_dec_tree, final_score_for_dec_tree)\n",
    "print ('sMAPE DecisionTreeRegressor =', smape_svm_dec_tree)"
   ]
  },
  {
   "cell_type": "code",
   "execution_count": 68,
   "metadata": {},
   "outputs": [
    {
     "name": "stdout",
     "output_type": "stream",
     "text": [
      "If max_depth = 1 sMAPE= 9.347821083151258\n",
      "If max_depth = 3 sMAPE= 9.120822793710847\n",
      "If max_depth = 5 sMAPE= 9.120822793710847\n",
      "If max_depth = 7 sMAPE= 9.120822793710847\n",
      "If max_depth = 9 sMAPE= 9.120822793710847\n"
     ]
    }
   ],
   "source": [
    "for i in range(1,10,2):\n",
    "    dec_tree = DecisionTreeRegressor(random_state=12345, max_depth=i,  max_leaf_nodes= 4)\n",
    "\n",
    "    rought_score_for_dec_tree = cross_val_score(\n",
    "        dec_tree, train_features_rought_extra_cutted, train_target_rought, cv=5, scoring = scorer).mean()\n",
    "\n",
    "    final_score_for_dec_tree = cross_val_score(\n",
    "        dec_tree, train_features, train_target_final, cv=5, scoring = scorer).mean()\n",
    "\n",
    "    smape_svm_dec_tree = smape_sec_ed(rought_score_for_dec_tree, final_score_for_dec_tree)\n",
    "    print('If max_depth =', i, 'sMAPE=', smape_svm_dec_tree)\n"
   ]
  },
  {
   "cell_type": "code",
   "execution_count": 69,
   "metadata": {},
   "outputs": [
    {
     "name": "stdout",
     "output_type": "stream",
     "text": [
      "If n_estimators = 1 sMAPE= 9.091489602411329\n",
      "If n_estimators = 2 sMAPE= 8.846007142398067\n",
      "If n_estimators = 3 sMAPE= 8.85638978845935\n",
      "If n_estimators = 4 sMAPE= 8.860306410195651\n",
      "If n_estimators = 5 sMAPE= 8.888423032785157\n",
      "If n_estimators = 6 sMAPE= 8.891927993349453\n",
      "If n_estimators = 7 sMAPE= 8.881758145844545\n",
      "If n_estimators = 8 sMAPE= 8.909295933966622\n",
      "If n_estimators = 9 sMAPE= 8.914325602052235\n"
     ]
    }
   ],
   "source": [
    "from sklearn.ensemble import RandomForestRegressor\n",
    "\n",
    "for i in range(1,10):\n",
    "    rand_for = RandomForestRegressor(random_state=12345, n_estimators=i, max_depth=10,  max_leaf_nodes= 4)\n",
    "\n",
    "    rought_score_for_rand_for = cross_val_score(\n",
    "        rand_for, train_features_rought_extra_cutted, train_target_rought, cv=5, scoring = scorer).mean()\n",
    "\n",
    "    final_score_for_rand_for = cross_val_score(\n",
    "        rand_for, train_features, train_target_final, cv=5, scoring = scorer).mean()\n",
    "\n",
    "    smape_rand_for = smape_sec_ed(rought_score_for_rand_for, final_score_for_rand_for)\n",
    "    print('If n_estimators =', i, 'sMAPE=', smape_rand_for)"
   ]
  },
  {
   "cell_type": "markdown",
   "metadata": {},
   "source": [
    "#### Проверка работы модели на тестовой выборке"
   ]
  },
  {
   "cell_type": "code",
   "execution_count": 70,
   "metadata": {},
   "outputs": [],
   "source": [
    "svm_rought = svm_model_rought.fit(train_features_rought_extra_cutted, train_target_rought)\n",
    "svm_final = svm_model.fit(train_features, train_target_final)\n",
    "\n",
    "svm_model_predict_rought = svm_rought.predict(test_features_rought_extra_cutted)\n",
    "svm_model_predict_final = svm_final.predict(test_features)"
   ]
  },
  {
   "cell_type": "code",
   "execution_count": 71,
   "metadata": {},
   "outputs": [
    {
     "name": "stdout",
     "output_type": "stream",
     "text": [
      "sMAPE Support Vector Classification по тестовм данным: 7.136975484777424\n",
      "sMAPE по средним данным: 12.200165021051728\n"
     ]
    }
   ],
   "source": [
    "smape_svm_test = final_smape(test_target_rought, svm_model_predict_rought, test_target_final, svm_model_predict_final)\n",
    "smape_svm_test\n",
    "\n",
    "print ('sMAPE Support Vector Classification по тестовм данным:', smape_svm_test)\n",
    "print('sMAPE по средним данным:', mean_smape_linear)"
   ]
  },
  {
   "cell_type": "markdown",
   "metadata": {},
   "source": [
    "## Выводы. \n",
    "Количество признаков тренировочной выборки было приведено в соответствие с тестовой выборкой. \n",
    "В тестовом и тренировочном датафреймах были очищены от аномалий.   \n",
    "В соответствии с указаниями, были написаны функции расчёта smape и финального smape.  \n",
    "Функция smape была сделана метрикой make_scorer и использовалась для кросс-валидации.  \n",
    "Для тестирования были выбраны две модели. Классическая Линейная регрессия и Модель регрессии опорных векторов.  \n",
    "Модель регрессии опорных векторов показала лучший средний результат после проведённой кросс-валидации.  \n",
    "Также модель опорных векторов опередила по sMAPE выборку из средних значений.  \n",
    "Однако исследования по тестовой выборке показала, что эффективность модели опорных векторов ниже,  \n",
    "чем предсказания по средним.  \n",
    "Эффективность SupportVectorClassification в данном конкретном случае не подтверждена."
   ]
  },
  {
   "cell_type": "markdown",
   "metadata": {},
   "source": [
    "## Работа над ошибками № 2  \n",
    "После консультации с коллегами я понял, что сравнивать результат работы модели на тестовых данных со средним значением\n",
    "тестовых данных - неправильно. Сравнение должно было проводиться со средним значением тренировочной выборки.  \n",
    "До того момента, как я это понял, мною были проведены следующие мероприятия:  \n",
    "1) скалировал параметры выборок.  Это сразу позволило немного улучшить результаты моей наиболее эффективной модели (Support Vector Classification).  \n",
    "2) поработал испольщование других моделей, но их результаты не были лучше, чем у SVC.  \n",
    "3) решил лучше подготовить данные для обучения модели для анализа результатов предобработки сырья.  \n",
    "Руководствуясь логикой я удалил все параметры, которые не касаются этапа Rought. Это значительно улучшило показатели метрик.  \n",
    "4) Затем я пошёл дальше и в выбьорках оставил только те признаки, которые имеют Rought и Input. То есть только те данные, которые  известны непосрдественно перед флотацией.  \n",
    "5) Полученные результаты работы оказались лучше, чем средние по выборке. Модель можно брать в работу.  \n"
   ]
  }
 ],
 "metadata": {
  "kernelspec": {
   "display_name": "Python 3",
   "language": "python",
   "name": "python3"
  },
  "language_info": {
   "codemirror_mode": {
    "name": "ipython",
    "version": 3
   },
   "file_extension": ".py",
   "mimetype": "text/x-python",
   "name": "python",
   "nbconvert_exporter": "python",
   "pygments_lexer": "ipython3",
   "version": "3.7.6"
  }
 },
 "nbformat": 4,
 "nbformat_minor": 4
}
